{
 "cells": [
  {
   "cell_type": "markdown",
   "metadata": {},
   "source": [
    "# Overview\n",
    "\n",
    "This notebook contains all code and discussions for the __expert iteration__ of the research question involving __age, gender and malignancy__. [Previously](../intermediate/Q2.ipynb) we focused on conditional probability by using some of the features in the descriptions files to come up with a probabilty that a patient has a malignant lesion. This notebook looks to predict a person's age using all of the other features of the image. Before we do this prediction we use a dimensionality reduction method to make sure we only use the most relevant (meaningful) features. In addition to doing prediction with a regular linear regression model we also use ridge and lasso regression.\n",
    "\n",
    "\n",
    "# Table of Content\n",
    "\n",
    "1. [Setup](#setup)\n",
    "2. [Data Loading](#loading_cell)\n",
    "3. [Data Preprocessing](#data_prep)\n",
    "3. [Analysis](#analysis)\n",
    "4. [Discussion](#discussion)"
   ]
  },
  {
   "cell_type": "markdown",
   "metadata": {},
   "source": [
    "# Setup <a id='setup'></a>\n",
    "Import the appropriate packages.<br>\n",
    "Notice that this time we are importing multiple packages from sklearn. [Sklearn](https://scikit-learn.org/stable/) is a very popular package for doing machine learning in python."
   ]
  },
  {
   "cell_type": "code",
   "execution_count": 1,
   "metadata": {},
   "outputs": [
    {
     "name": "stderr",
     "output_type": "stream",
     "text": [
      "/home/mrhodes2/anaconda3/lib/python3.7/site-packages/sklearn/linear_model/least_angle.py:35: DeprecationWarning: `np.float` is a deprecated alias for the builtin `float`. To silence this warning, use `float` by itself. Doing this will not modify any behavior and is safe. If you specifically wanted the numpy scalar type, use `np.float64` here.\n",
      "Deprecated in NumPy 1.20; for more details and guidance: https://numpy.org/devdocs/release/1.20.0-notes.html#deprecations\n",
      "  eps=np.finfo(np.float).eps,\n",
      "/home/mrhodes2/anaconda3/lib/python3.7/site-packages/sklearn/linear_model/least_angle.py:597: DeprecationWarning: `np.float` is a deprecated alias for the builtin `float`. To silence this warning, use `float` by itself. Doing this will not modify any behavior and is safe. If you specifically wanted the numpy scalar type, use `np.float64` here.\n",
      "Deprecated in NumPy 1.20; for more details and guidance: https://numpy.org/devdocs/release/1.20.0-notes.html#deprecations\n",
      "  eps=np.finfo(np.float).eps, copy_X=True, fit_path=True,\n",
      "/home/mrhodes2/anaconda3/lib/python3.7/site-packages/sklearn/linear_model/least_angle.py:836: DeprecationWarning: `np.float` is a deprecated alias for the builtin `float`. To silence this warning, use `float` by itself. Doing this will not modify any behavior and is safe. If you specifically wanted the numpy scalar type, use `np.float64` here.\n",
      "Deprecated in NumPy 1.20; for more details and guidance: https://numpy.org/devdocs/release/1.20.0-notes.html#deprecations\n",
      "  eps=np.finfo(np.float).eps, copy_X=True, fit_path=True,\n",
      "/home/mrhodes2/anaconda3/lib/python3.7/site-packages/sklearn/linear_model/least_angle.py:862: DeprecationWarning: `np.float` is a deprecated alias for the builtin `float`. To silence this warning, use `float` by itself. Doing this will not modify any behavior and is safe. If you specifically wanted the numpy scalar type, use `np.float64` here.\n",
      "Deprecated in NumPy 1.20; for more details and guidance: https://numpy.org/devdocs/release/1.20.0-notes.html#deprecations\n",
      "  eps=np.finfo(np.float).eps, positive=False):\n",
      "/home/mrhodes2/anaconda3/lib/python3.7/site-packages/sklearn/linear_model/least_angle.py:1097: DeprecationWarning: `np.float` is a deprecated alias for the builtin `float`. To silence this warning, use `float` by itself. Doing this will not modify any behavior and is safe. If you specifically wanted the numpy scalar type, use `np.float64` here.\n",
      "Deprecated in NumPy 1.20; for more details and guidance: https://numpy.org/devdocs/release/1.20.0-notes.html#deprecations\n",
      "  max_n_alphas=1000, n_jobs=None, eps=np.finfo(np.float).eps,\n",
      "/home/mrhodes2/anaconda3/lib/python3.7/site-packages/sklearn/linear_model/least_angle.py:1344: DeprecationWarning: `np.float` is a deprecated alias for the builtin `float`. To silence this warning, use `float` by itself. Doing this will not modify any behavior and is safe. If you specifically wanted the numpy scalar type, use `np.float64` here.\n",
      "Deprecated in NumPy 1.20; for more details and guidance: https://numpy.org/devdocs/release/1.20.0-notes.html#deprecations\n",
      "  max_n_alphas=1000, n_jobs=None, eps=np.finfo(np.float).eps,\n",
      "/home/mrhodes2/anaconda3/lib/python3.7/site-packages/sklearn/linear_model/least_angle.py:1480: DeprecationWarning: `np.float` is a deprecated alias for the builtin `float`. To silence this warning, use `float` by itself. Doing this will not modify any behavior and is safe. If you specifically wanted the numpy scalar type, use `np.float64` here.\n",
      "Deprecated in NumPy 1.20; for more details and guidance: https://numpy.org/devdocs/release/1.20.0-notes.html#deprecations\n",
      "  eps=np.finfo(np.float).eps, copy_X=True, positive=False):\n",
      "/home/mrhodes2/anaconda3/lib/python3.7/site-packages/sklearn/linear_model/randomized_l1.py:152: DeprecationWarning: `np.float` is a deprecated alias for the builtin `float`. To silence this warning, use `float` by itself. Doing this will not modify any behavior and is safe. If you specifically wanted the numpy scalar type, use `np.float64` here.\n",
      "Deprecated in NumPy 1.20; for more details and guidance: https://numpy.org/devdocs/release/1.20.0-notes.html#deprecations\n",
      "  precompute=False, eps=np.finfo(np.float).eps,\n",
      "/home/mrhodes2/anaconda3/lib/python3.7/site-packages/sklearn/linear_model/randomized_l1.py:320: DeprecationWarning: `np.float` is a deprecated alias for the builtin `float`. To silence this warning, use `float` by itself. Doing this will not modify any behavior and is safe. If you specifically wanted the numpy scalar type, use `np.float64` here.\n",
      "Deprecated in NumPy 1.20; for more details and guidance: https://numpy.org/devdocs/release/1.20.0-notes.html#deprecations\n",
      "  eps=np.finfo(np.float).eps, random_state=None,\n",
      "/home/mrhodes2/anaconda3/lib/python3.7/site-packages/sklearn/linear_model/randomized_l1.py:580: DeprecationWarning: `np.float` is a deprecated alias for the builtin `float`. To silence this warning, use `float` by itself. Doing this will not modify any behavior and is safe. If you specifically wanted the numpy scalar type, use `np.float64` here.\n",
      "Deprecated in NumPy 1.20; for more details and guidance: https://numpy.org/devdocs/release/1.20.0-notes.html#deprecations\n",
      "  eps=4 * np.finfo(np.float).eps, n_jobs=None,\n",
      "/home/mrhodes2/anaconda3/lib/python3.7/site-packages/sklearn/decomposition/online_lda.py:31: DeprecationWarning: `np.float` is a deprecated alias for the builtin `float`. To silence this warning, use `float` by itself. Doing this will not modify any behavior and is safe. If you specifically wanted the numpy scalar type, use `np.float64` here.\n",
      "Deprecated in NumPy 1.20; for more details and guidance: https://numpy.org/devdocs/release/1.20.0-notes.html#deprecations\n",
      "  EPS = np.finfo(np.float).eps\n"
     ]
    }
   ],
   "source": [
    "import pandas as pd\n",
    "import numpy as np\n",
    "import glob\n",
    "import os\n",
    "from os import listdir\n",
    "import json\n",
    "from sklearn.linear_model import LinearRegression, Ridge, Lasso\n",
    "from sklearn.metrics import mean_squared_error, r2_score\n",
    "from sklearn.model_selection import train_test_split\n",
    "from sklearn.decomposition import PCA"
   ]
  },
  {
   "cell_type": "markdown",
   "metadata": {},
   "source": [
    "# Loading <a id='loading_cell'></a>\n",
    "Here we get all of the images from their respective folders. <br>"
   ]
  },
  {
   "cell_type": "code",
   "execution_count": 2,
   "metadata": {},
   "outputs": [],
   "source": [
    "img_filepaths = glob.glob('../../sample_imgs/*.jp*')\n",
    "seg_filepaths = glob.glob('../../sample_segs/*.png')\n",
    "dsc_filepaths = glob.glob('../../sample_dscs/*')\n",
    "\n",
    "total_files = min(len(img_filepaths), len(seg_filepaths), len(dsc_filepaths))"
   ]
  },
  {
   "cell_type": "markdown",
   "metadata": {},
   "source": [
    "Here we turn the json files we have into one dataframe using pandas."
   ]
  },
  {
   "cell_type": "code",
   "execution_count": 54,
   "metadata": {},
   "outputs": [],
   "source": [
    "image_df = pd.DataFrame()#columns= [\"Age\", \"Site\", \"Status\", \"Diagnosis\", \"Confirm type\", \"Melanocytic\", \"Sex\"])\n",
    "for i in range(len(dsc_filepaths[:20000])):\n",
    "    with open(dsc_filepaths[i]) as json_file:\n",
    "        j = json.load(json_file)\n",
    "        \n",
    "        image_df = image_df.append(j[\"meta\"][\"clinical\"], ignore_index=True)\n",
    "        #image_df.loc[i] = list(j[\"meta\"][\"clinical\"].values())"
   ]
  },
  {
   "cell_type": "code",
   "execution_count": 55,
   "metadata": {},
   "outputs": [
    {
     "name": "stdout",
     "output_type": "stream",
     "text": [
      "Index(['age_approx', 'anatom_site_general', 'benign_malignant', 'diagnosis',\n",
      "       'diagnosis_confirm_type', 'melanocytic', 'sex',\n",
      "       'clin_size_long_diam_mm', 'family_hx_mm', 'personal_hx_mm',\n",
      "       'nevus_type', 'mel_class', 'mel_thick_mm'],\n",
      "      dtype='object')\n"
     ]
    }
   ],
   "source": [
    "print(image_df.columns)"
   ]
  },
  {
   "cell_type": "code",
   "execution_count": 56,
   "metadata": {},
   "outputs": [
    {
     "data": {
      "text/html": [
       "<div>\n",
       "<style scoped>\n",
       "    .dataframe tbody tr th:only-of-type {\n",
       "        vertical-align: middle;\n",
       "    }\n",
       "\n",
       "    .dataframe tbody tr th {\n",
       "        vertical-align: top;\n",
       "    }\n",
       "\n",
       "    .dataframe thead th {\n",
       "        text-align: right;\n",
       "    }\n",
       "</style>\n",
       "<table border=\"1\" class=\"dataframe\">\n",
       "  <thead>\n",
       "    <tr style=\"text-align: right;\">\n",
       "      <th></th>\n",
       "      <th>Age</th>\n",
       "      <th>Site</th>\n",
       "      <th>Status</th>\n",
       "      <th>Diagnosis</th>\n",
       "      <th>Confirm type</th>\n",
       "      <th>Melanocytic</th>\n",
       "      <th>Sex</th>\n",
       "    </tr>\n",
       "  </thead>\n",
       "  <tbody>\n",
       "    <tr>\n",
       "      <th>0</th>\n",
       "      <td>30.0</td>\n",
       "      <td>upper extremity</td>\n",
       "      <td>benign</td>\n",
       "      <td>nevus</td>\n",
       "      <td>None</td>\n",
       "      <td>1.0</td>\n",
       "      <td>male</td>\n",
       "    </tr>\n",
       "    <tr>\n",
       "      <th>1</th>\n",
       "      <td>30.0</td>\n",
       "      <td>anterior torso</td>\n",
       "      <td>benign</td>\n",
       "      <td>nevus</td>\n",
       "      <td>None</td>\n",
       "      <td>1.0</td>\n",
       "      <td>female</td>\n",
       "    </tr>\n",
       "    <tr>\n",
       "      <th>2</th>\n",
       "      <td>25.0</td>\n",
       "      <td>posterior torso</td>\n",
       "      <td>benign</td>\n",
       "      <td>nevus</td>\n",
       "      <td>None</td>\n",
       "      <td>1.0</td>\n",
       "      <td>female</td>\n",
       "    </tr>\n",
       "    <tr>\n",
       "      <th>3</th>\n",
       "      <td>30.0</td>\n",
       "      <td>anterior torso</td>\n",
       "      <td>benign</td>\n",
       "      <td>nevus</td>\n",
       "      <td>None</td>\n",
       "      <td>1.0</td>\n",
       "      <td>female</td>\n",
       "    </tr>\n",
       "    <tr>\n",
       "      <th>4</th>\n",
       "      <td>25.0</td>\n",
       "      <td>posterior torso</td>\n",
       "      <td>benign</td>\n",
       "      <td>nevus</td>\n",
       "      <td>None</td>\n",
       "      <td>1.0</td>\n",
       "      <td>female</td>\n",
       "    </tr>\n",
       "  </tbody>\n",
       "</table>\n",
       "</div>"
      ],
      "text/plain": [
       "    Age             Site  Status Diagnosis Confirm type Melanocytic     Sex\n",
       "0  30.0  upper extremity  benign     nevus         None         1.0    male\n",
       "1  30.0   anterior torso  benign     nevus         None         1.0  female\n",
       "2  25.0  posterior torso  benign     nevus         None         1.0  female\n",
       "3  30.0   anterior torso  benign     nevus         None         1.0  female\n",
       "4  25.0  posterior torso  benign     nevus         None         1.0  female"
      ]
     },
     "execution_count": 56,
     "metadata": {},
     "output_type": "execute_result"
    }
   ],
   "source": [
    "columns_to_discard = []\n",
    "for i in list(image_df.columns):\n",
    "    if i not in [\"age_approx\", \"anatom_site_general\", \"benign_malignant\", \"diagnosis\", \"diagnosis_confirm_type\", \"melanocytic\", \"sex\"]:\n",
    "        columns_to_discard.append(i)\n",
    "\n",
    "image_df = image_df.drop(columns=columns_to_discard)\n",
    "image_df = image_df.rename(columns={\"age_approx\": \"Age\", \"anatom_site_general\": \"Site\", \"benign_malignant\": \"Status\", \"diagnosis\": \"Diagnosis\", \"diagnosis_confirm_type\" : \"Confirm type\", \"melanocytic\": \"Melanocytic\", \"sex\": \"Sex\"})\n",
    "\n",
    "image_df.head()"
   ]
  },
  {
   "cell_type": "markdown",
   "metadata": {},
   "source": [
    "# Data Preprocessing <a id='data_prep'>\n",
    "Linear Regression only works if all your data is in a numeric representation. So we must turn all of text data (displayed above) into integers or floats."
   ]
  },
  {
   "cell_type": "code",
   "execution_count": 57,
   "metadata": {},
   "outputs": [],
   "source": [
    "image_df = image_df.replace([\"female\", \"male\"], [0, 1])\n",
    "image_df = image_df.replace([True, False], [1, 0])\n",
    "\n",
    "all_sites = list(set(image_df[\"Site\"]))\n",
    "image_df[\"Site\"] = image_df[\"Site\"].replace(all_sites, [i/10 for i in range(len(all_sites))])\n",
    "\n",
    "all_status = list(set(image_df[\"Status\"]))\n",
    "image_df[\"Status\"] = image_df[\"Status\"].replace(all_status, [i/10 for i in range(len(all_status))])\n",
    "\n",
    "all_diagnosis = list(set(image_df[\"Diagnosis\"]))\n",
    "image_df[\"Diagnosis\"] = image_df[\"Diagnosis\"].replace(all_diagnosis, [i/10 for i in range(len(all_diagnosis))])\n",
    "\n",
    "all_types = list(set(image_df[\"Confirm type\"]))\n",
    "image_df[\"Confirm type\"] = image_df[\"Confirm type\"].replace(all_types, [i/10 for i in range(len(all_types))])"
   ]
  },
  {
   "cell_type": "markdown",
   "metadata": {},
   "source": [
    "There are also missing values in our data there are a few ways to deal with __missing values__: <br>\n",
    "Imputation (using some statistical method to come up with a value) <br>\n",
    "*Deleting* (removing the rows that are not complete) <br>\n",
    "Choosing a single value to replace all missing values with <br>"
   ]
  },
  {
   "cell_type": "code",
   "execution_count": 58,
   "metadata": {},
   "outputs": [
    {
     "name": "stdout",
     "output_type": "stream",
     "text": [
      "20000\n",
      "19387\n"
     ]
    }
   ],
   "source": [
    "image_df2 = image_df.dropna() #image_df['Age'].fillna(value=image_df['Age'].mean(), inplace=True)\n",
    "print(len(image_df))\n",
    "print(len(image_df2))"
   ]
  },
  {
   "cell_type": "code",
   "execution_count": 59,
   "metadata": {},
   "outputs": [
    {
     "name": "stdout",
     "output_type": "stream",
     "text": [
      "19387\n",
      "19387\n"
     ]
    }
   ],
   "source": [
    "image_df = image_df.dropna() #image_df['Age'].fillna(value=image_df['Age'].mean(), inplace=True)\n",
    "print(len(image_df))\n",
    "print(len(image_df2))"
   ]
  },
  {
   "cell_type": "markdown",
   "metadata": {},
   "source": [
    "In addition to turning all of the text data into integers. We also turn all of the ages into floats between 0 and 1, the reason why we do this is because it keeps the range of possible values small which helps the models accuracy by avoiding a large range of possibilities."
   ]
  },
  {
   "cell_type": "code",
   "execution_count": 60,
   "metadata": {},
   "outputs": [],
   "source": [
    "all_ages = list(set(image_df[\"Age\"]))\n",
    "image_df = image_df.replace(all_ages, [i/100 for i in all_ages])"
   ]
  },
  {
   "cell_type": "markdown",
   "metadata": {},
   "source": [
    "Now that all of our data is ready to be used for our linear regression model, we need to extract our target variable (age) and our predictor variables (everything else)"
   ]
  },
  {
   "cell_type": "code",
   "execution_count": 61,
   "metadata": {},
   "outputs": [],
   "source": [
    "y = image_df[[\"Age\"]]\n",
    "x = image_df[[\"Site\", \"Status\", \"Diagnosis\", \"Confirm type\", \"Melanocytic\", \"Sex\"]]"
   ]
  },
  {
   "cell_type": "markdown",
   "metadata": {},
   "source": [
    "One thing that can be done to make the model more efficient is reducing the amount of predictor variables we use to predict our target. A very popular method is Principal Component Analysis (PCA)."
   ]
  },
  {
   "cell_type": "code",
   "execution_count": 62,
   "metadata": {},
   "outputs": [
    {
     "data": {
      "text/plain": [
       "PCA(copy=True, iterated_power='auto', n_components=None, random_state=None,\n",
       "  svd_solver='full', tol=0.0, whiten=False)"
      ]
     },
     "execution_count": 62,
     "metadata": {},
     "output_type": "execute_result"
    }
   ],
   "source": [
    "pca = PCA(svd_solver='full')\n",
    "pca.fit(x)"
   ]
  },
  {
   "cell_type": "markdown",
   "metadata": {},
   "source": [
    "PCA lets us know how much of the variance in our data is explained by the columns. Here we set the threshold to 10% meaning, that if the variable explains less than 10% of the variance we discard it."
   ]
  },
  {
   "cell_type": "code",
   "execution_count": 63,
   "metadata": {},
   "outputs": [],
   "source": [
    "explained_variance = list(pca.explained_variance_ratio_)\n",
    "unimportant_indexes = [i for i, val in enumerate(explained_variance) if val < .10]\n",
    "\n",
    "unimportant_columns = []\n",
    "for i in unimportant_indexes:\n",
    "    unimportant_columns.append([\"Site\", \"Status\", \"Diagnosis\", \"Confirm type\", \"Melanocytic\", \"Sex\"][i])\n",
    "    \n",
    "x = x.drop(columns=unimportant_columns)"
   ]
  },
  {
   "cell_type": "markdown",
   "metadata": {},
   "source": [
    "# Analysis <a id='analysis'></a>\n",
    "Now that we have our reduced data we can split it into our training and testing set. <br>\n",
    "Here we use a split of 33% for our testing set and 67% for our training set."
   ]
  },
  {
   "cell_type": "code",
   "execution_count": 64,
   "metadata": {},
   "outputs": [],
   "source": [
    "x_train, x_test, y_train, y_test = train_test_split(x, y, test_size=0.33, random_state=42)"
   ]
  },
  {
   "cell_type": "markdown",
   "metadata": {},
   "source": [
    "### To make our predictions we will be using regular linear regression, ridge regression, and lasso regression. \n",
    "\n",
    "### Ridge and Lasso are just like regular linear regression except they include penalties.\n",
    "\n",
    "A super important fact we need to notice about Ridge regression is that it enforces the β coefficients to be lower, but it **does not enforce them to be zero**. That is, it will not get rid of irrelevant features but rather minimize their impact on the trained model. <br>\n",
    "\n",
    "The Lasso method overcomes the disadvantage of Ridge regression by not only punishing high values of the coefficients β but actually **setting them to zero** if they are not relevant. Therefore, you might end up with fewer features included in the model than you started with, which is a huge advantage. <br>\n",
    "\n",
    "Seeing as we already used PCA to exclude features that do not give us much information, in this case it is safe to use Ridge Regression, but results for all versions are displayed."
   ]
  },
  {
   "cell_type": "code",
   "execution_count": 65,
   "metadata": {},
   "outputs": [
    {
     "data": {
      "text/plain": [
       "LinearRegression(copy_X=True, fit_intercept=True, n_jobs=None,\n",
       "         normalize=False)"
      ]
     },
     "execution_count": 65,
     "metadata": {},
     "output_type": "execute_result"
    }
   ],
   "source": [
    "linear_regression = LinearRegression()\n",
    "ridge_model = Ridge(alpha=0.5)\n",
    "lasso_model = Lasso(alpha=0.5)\n",
    "\n",
    "ridge_model.fit(x_train, y_train)\n",
    "lasso_model.fit(x_train, y_train)\n",
    "linear_regression.fit(x_train,y_train)"
   ]
  },
  {
   "cell_type": "code",
   "execution_count": 66,
   "metadata": {},
   "outputs": [],
   "source": [
    "y_pred_lasso = lasso_model.predict(x_test)\n",
    "y_pred_ridge = ridge_model.predict(x_test)\n",
    "y_pred = linear_regression.predict(x_test)\n",
    "model_predictions = {\"Linear\": y_pred, \"Ridge\": y_pred_ridge, \"Lasso\": y_pred_lasso}"
   ]
  },
  {
   "cell_type": "markdown",
   "metadata": {},
   "source": [
    "MSE (Mean Squared Error) represents the **difference between the original and predicted values** which are extracted by squaring the average difference over the data set. It is a measure of **how close a fitted line is to actual data points**. The lesser the Mean Squared Error, the closer the fit is to the data set. The MSE has the units squared of whatever is plotted on the vertical axis. <br>\n",
    "\n",
    "RMSE (Root Mean Squared Error) is the error rate by the square root of MSE. RMSE is the most easily interpreted statistic, as it has the **same units as the quantity plotted on the vertical axis or Y-axis**. RMSE can be directly interpreted in terms of measurement units, and hence it is a better **measure of fit** than a correlation coefficient."
   ]
  },
  {
   "cell_type": "code",
   "execution_count": 87,
   "metadata": {},
   "outputs": [
    {
     "ename": "TypeError",
     "evalue": "mean_squared_error() got an unexpected keyword argument 'squared'",
     "output_type": "error",
     "traceback": [
      "\u001b[0;31m---------------------------------------------------------------------------\u001b[0m",
      "\u001b[0;31mTypeError\u001b[0m                                 Traceback (most recent call last)",
      "\u001b[0;32m<ipython-input-87-e32e0bbed4bb>\u001b[0m in \u001b[0;36m<module>\u001b[0;34m\u001b[0m\n\u001b[1;32m      1\u001b[0m \u001b[0;32mfor\u001b[0m \u001b[0mname\u001b[0m\u001b[0;34m,\u001b[0m \u001b[0mpred\u001b[0m \u001b[0;32min\u001b[0m \u001b[0mmodel_predictions\u001b[0m\u001b[0;34m.\u001b[0m\u001b[0mitems\u001b[0m\u001b[0;34m(\u001b[0m\u001b[0;34m)\u001b[0m\u001b[0;34m:\u001b[0m\u001b[0;34m\u001b[0m\u001b[0;34m\u001b[0m\u001b[0m\n\u001b[0;32m----> 2\u001b[0;31m     \u001b[0mrmse\u001b[0m \u001b[0;34m=\u001b[0m \u001b[0mmean_squared_error\u001b[0m\u001b[0;34m(\u001b[0m\u001b[0my_test\u001b[0m\u001b[0;34m,\u001b[0m \u001b[0mpred\u001b[0m\u001b[0;34m,\u001b[0m \u001b[0msquared\u001b[0m\u001b[0;34m=\u001b[0m\u001b[0;32mFalse\u001b[0m\u001b[0;34m)\u001b[0m\u001b[0;34m\u001b[0m\u001b[0;34m\u001b[0m\u001b[0m\n\u001b[0m\u001b[1;32m      3\u001b[0m     \u001b[0mmse\u001b[0m \u001b[0;34m=\u001b[0m \u001b[0mmean_squared_error\u001b[0m\u001b[0;34m(\u001b[0m\u001b[0my_test\u001b[0m\u001b[0;34m,\u001b[0m \u001b[0mpred\u001b[0m\u001b[0;34m,\u001b[0m \u001b[0msquared\u001b[0m\u001b[0;34m=\u001b[0m\u001b[0;32mTrue\u001b[0m\u001b[0;34m)\u001b[0m\u001b[0;34m\u001b[0m\u001b[0;34m\u001b[0m\u001b[0m\n\u001b[1;32m      4\u001b[0m     \u001b[0mprint\u001b[0m\u001b[0;34m(\u001b[0m\u001b[0mname\u001b[0m\u001b[0;34m)\u001b[0m\u001b[0;34m\u001b[0m\u001b[0;34m\u001b[0m\u001b[0m\n\u001b[1;32m      5\u001b[0m     \u001b[0mprint\u001b[0m\u001b[0;34m(\u001b[0m\u001b[0;34m\"MSE: \"\u001b[0m\u001b[0;34m,\u001b[0m \u001b[0mmse\u001b[0m\u001b[0;34m)\u001b[0m\u001b[0;34m\u001b[0m\u001b[0;34m\u001b[0m\u001b[0m\n",
      "\u001b[0;31mTypeError\u001b[0m: mean_squared_error() got an unexpected keyword argument 'squared'"
     ]
    }
   ],
   "source": [
    "for name, pred in model_predictions.items():\n",
    "    rmse = mean_squared_error(y_test, pred, squared=False)\n",
    "    mse = mean_squared_error(y_test, pred, squared=True)\n",
    "    print(name)\n",
    "    print(\"MSE: \", mse)\n",
    "    print(\"RMSE: \", rmse)\n",
    "    print('\\n')"
   ]
  },
  {
   "cell_type": "markdown",
   "metadata": {},
   "source": [
    "# Discussion <a id='discussion'></a>\n",
    "Is it possible to accurately predict someone's age using one of these models?"
   ]
  },
  {
   "cell_type": "code",
   "execution_count": 88,
   "metadata": {},
   "outputs": [
    {
     "name": "stdout",
     "output_type": "stream",
     "text": [
      "[NbConvertApp] Converting notebook Q2.ipynb to script\n",
      "[NbConvertApp] Writing 8423 bytes to Q2.py\n"
     ]
    }
   ],
   "source": [
    "!jupyter nbconvert --to script Q2.ipynb"
   ]
  },
  {
   "cell_type": "code",
   "execution_count": 86,
   "metadata": {},
   "outputs": [
    {
     "name": "stdout",
     "output_type": "stream",
     "text": [
      "0.21.3\n"
     ]
    }
   ],
   "source": []
  },
  {
   "cell_type": "code",
   "execution_count": 50,
   "metadata": {},
   "outputs": [
    {
     "name": "stdout",
     "output_type": "stream",
     "text": [
      "Age\n",
      "mel_class\n",
      "mel_thick_mm\n"
     ]
    }
   ],
   "source": []
  },
  {
   "cell_type": "code",
   "execution_count": null,
   "metadata": {},
   "outputs": [],
   "source": []
  }
 ],
 "metadata": {
  "kernelspec": {
   "display_name": "Python 3",
   "language": "python",
   "name": "python3"
  },
  "language_info": {
   "codemirror_mode": {
    "name": "ipython",
    "version": 3
   },
   "file_extension": ".py",
   "mimetype": "text/x-python",
   "name": "python",
   "nbconvert_exporter": "python",
   "pygments_lexer": "ipython3",
   "version": "3.7.3"
  }
 },
 "nbformat": 4,
 "nbformat_minor": 4
}
