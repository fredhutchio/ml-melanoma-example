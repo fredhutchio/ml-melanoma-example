{
 "cells": [
  {
   "cell_type": "markdown",
   "metadata": {},
   "source": [
    "# Overview\n",
    "\n",
    "This notebook contains all code and discussions for the __expert iteration__ of the research question involving __age, gender and malignancy__. [Previously](../intermediate/Q2.ipynb) we focused on conditional probability by using some of the features in the descriptions files to come up with a probabilty that a patient has a malignant lesion. This notebook looks to predict a person's age using all of the other features of the image. Before we do this prediction we use a dimensionality reduction method to make sure we only use the most relevant (meaningful) features. In addition to doing prediction with a regular linear regression model we also use ridge and lasso regression.\n",
    "\n",
    "\n",
    "# Table of Content\n",
    "\n",
    "1. [Setup](#setup)\n",
    "2. [Data Loading](#loading_cell)\n",
    "3. [Data Preprocessing](#data_prep)\n",
    "3. [Analysis](#analysis)\n",
    "4. [Discussion](#discussion)"
   ]
  },
  {
   "cell_type": "markdown",
   "metadata": {},
   "source": [
    "# Setup <a id='setup'></a>\n",
    "Import the appropriate packages.<br>\n",
    "Notice that this time we are importing multiple packages from sklearn. [Sklearn](https://scikit-learn.org/stable/) is a very popular package for doing machine learning in python."
   ]
  },
  {
   "cell_type": "code",
   "execution_count": 1,
   "metadata": {},
   "outputs": [],
   "source": [
    "import pandas as pd\n",
    "import numpy as np\n",
    "import glob\n",
    "import os\n",
    "from os import listdir\n",
    "import json\n",
    "from sklearn.linear_model import LinearRegression, Ridge, Lasso\n",
    "from sklearn.metrics import mean_squared_error, r2_score\n",
    "from sklearn.model_selection import train_test_split\n",
    "from sklearn.decomposition import PCA"
   ]
  },
  {
   "cell_type": "markdown",
   "metadata": {},
   "source": [
    "# Loading <a id='loading_cell'></a>\n",
    "Here we get all of the images from their respective folders. <br>"
   ]
  },
  {
   "cell_type": "code",
   "execution_count": 2,
   "metadata": {},
   "outputs": [],
   "source": [
    "directory = os.getcwd().split(\"\\\\\")[:-2]\n",
    "new_directory = \"\"\n",
    "for component in directory:\n",
    "    new_directory += component\n",
    "    new_directory += \"\\\\\"\n",
    "\n",
    "if 'sample_imgs' in listdir(new_directory):\n",
    "    img_filepaths = glob.glob('../../sample_imgs/*.jp*')\n",
    "    seg_filepaths = glob.glob('../../sample_segs/*.png')\n",
    "    dsc_filepaths = glob.glob('../../sample_dscs/*')"
   ]
  },
  {
   "cell_type": "markdown",
   "metadata": {},
   "source": [
    "Here we turn the json files we have into one dataframe using pandas."
   ]
  },
  {
   "cell_type": "code",
   "execution_count": 3,
   "metadata": {},
   "outputs": [],
   "source": [
    "image_df = pd.DataFrame(columns= [\"Age\", \"Site\", \"Status\", \"Diagnosis\", \"Confirm type\", \"Melanocytic\", \"Sex\"])\n",
    "for i in range(len(img_filepaths)):\n",
    "    with open(dsc_filepaths[i]) as json_file:\n",
    "        j = json.load(json_file)\n",
    "        image_df.loc[i] = list(j[\"meta\"][\"clinical\"].values())"
   ]
  },
  {
   "cell_type": "code",
   "execution_count": 4,
   "metadata": {},
   "outputs": [
    {
     "data": {
      "text/html": [
       "<div>\n",
       "<style scoped>\n",
       "    .dataframe tbody tr th:only-of-type {\n",
       "        vertical-align: middle;\n",
       "    }\n",
       "\n",
       "    .dataframe tbody tr th {\n",
       "        vertical-align: top;\n",
       "    }\n",
       "\n",
       "    .dataframe thead th {\n",
       "        text-align: right;\n",
       "    }\n",
       "</style>\n",
       "<table border=\"1\" class=\"dataframe\">\n",
       "  <thead>\n",
       "    <tr style=\"text-align: right;\">\n",
       "      <th></th>\n",
       "      <th>Age</th>\n",
       "      <th>Site</th>\n",
       "      <th>Status</th>\n",
       "      <th>Diagnosis</th>\n",
       "      <th>Confirm type</th>\n",
       "      <th>Melanocytic</th>\n",
       "      <th>Sex</th>\n",
       "    </tr>\n",
       "  </thead>\n",
       "  <tbody>\n",
       "    <tr>\n",
       "      <th>0</th>\n",
       "      <td>55</td>\n",
       "      <td>anterior torso</td>\n",
       "      <td>benign</td>\n",
       "      <td>nevus</td>\n",
       "      <td>None</td>\n",
       "      <td>True</td>\n",
       "      <td>female</td>\n",
       "    </tr>\n",
       "    <tr>\n",
       "      <th>1</th>\n",
       "      <td>30</td>\n",
       "      <td>anterior torso</td>\n",
       "      <td>benign</td>\n",
       "      <td>nevus</td>\n",
       "      <td>None</td>\n",
       "      <td>True</td>\n",
       "      <td>female</td>\n",
       "    </tr>\n",
       "    <tr>\n",
       "      <th>2</th>\n",
       "      <td>60</td>\n",
       "      <td>upper extremity</td>\n",
       "      <td>malignant</td>\n",
       "      <td>melanoma</td>\n",
       "      <td>histopathology</td>\n",
       "      <td>True</td>\n",
       "      <td>female</td>\n",
       "    </tr>\n",
       "    <tr>\n",
       "      <th>3</th>\n",
       "      <td>30</td>\n",
       "      <td>upper extremity</td>\n",
       "      <td>benign</td>\n",
       "      <td>nevus</td>\n",
       "      <td>None</td>\n",
       "      <td>True</td>\n",
       "      <td>male</td>\n",
       "    </tr>\n",
       "    <tr>\n",
       "      <th>4</th>\n",
       "      <td>80</td>\n",
       "      <td>posterior torso</td>\n",
       "      <td>malignant</td>\n",
       "      <td>melanoma</td>\n",
       "      <td>histopathology</td>\n",
       "      <td>True</td>\n",
       "      <td>male</td>\n",
       "    </tr>\n",
       "  </tbody>\n",
       "</table>\n",
       "</div>"
      ],
      "text/plain": [
       "  Age             Site     Status Diagnosis    Confirm type Melanocytic  \\\n",
       "0  55   anterior torso     benign     nevus            None        True   \n",
       "1  30   anterior torso     benign     nevus            None        True   \n",
       "2  60  upper extremity  malignant  melanoma  histopathology        True   \n",
       "3  30  upper extremity     benign     nevus            None        True   \n",
       "4  80  posterior torso  malignant  melanoma  histopathology        True   \n",
       "\n",
       "      Sex  \n",
       "0  female  \n",
       "1  female  \n",
       "2  female  \n",
       "3    male  \n",
       "4    male  "
      ]
     },
     "execution_count": 4,
     "metadata": {},
     "output_type": "execute_result"
    }
   ],
   "source": [
    "image_df.head()"
   ]
  },
  {
   "cell_type": "markdown",
   "metadata": {},
   "source": [
    "# Data Preprocessing <a id='data_prep'>\n",
    "Linear Regression only works if all your data is in a numeric representation. So we must turn all of text data (displayed above) into integers or floats."
   ]
  },
  {
   "cell_type": "code",
   "execution_count": 5,
   "metadata": {},
   "outputs": [],
   "source": [
    "image_df = image_df.replace([\"benign\", \"malignant\"], [0, 1])\n",
    "image_df = image_df.replace([\"female\", \"male\"], [0, 1])\n",
    "image_df = image_df.replace([True, False], [1, 0])\n",
    "\n",
    "all_sites = list(set(image_df[\"Site\"]))\n",
    "image_df = image_df.replace(all_sites, [i for i in range(len(all_sites))])\n",
    "\n",
    "all_diagnosis = list(set(image_df[\"Diagnosis\"]))\n",
    "image_df = image_df.replace(all_diagnosis, [i for i in range(len(all_diagnosis))])\n",
    "\n",
    "all_types = list(set(image_df[\"Confirm type\"]))\n",
    "image_df = image_df.replace(all_types, [i for i in range(len(all_types))])"
   ]
  },
  {
   "cell_type": "markdown",
   "metadata": {},
   "source": [
    "In addition to turning all of the text data into integers. We also turn all of the ages into floats between 0 and 1, the reason why we do this is because it keeps the range of possible values small which helps the models accuracy by avoiding a large range of possibilities."
   ]
  },
  {
   "cell_type": "code",
   "execution_count": 5,
   "metadata": {},
   "outputs": [],
   "source": [
    "all_ages = list(set(image_df[\"Age\"]))\n",
    "image_df = image_df.replace(all_ages, [i/100 for i in all_ages])"
   ]
  },
  {
   "cell_type": "code",
   "execution_count": 6,
   "metadata": {},
   "outputs": [
    {
     "data": {
      "text/html": [
       "<div>\n",
       "<style scoped>\n",
       "    .dataframe tbody tr th:only-of-type {\n",
       "        vertical-align: middle;\n",
       "    }\n",
       "\n",
       "    .dataframe tbody tr th {\n",
       "        vertical-align: top;\n",
       "    }\n",
       "\n",
       "    .dataframe thead th {\n",
       "        text-align: right;\n",
       "    }\n",
       "</style>\n",
       "<table border=\"1\" class=\"dataframe\">\n",
       "  <thead>\n",
       "    <tr style=\"text-align: right;\">\n",
       "      <th></th>\n",
       "      <th>Age</th>\n",
       "      <th>Site</th>\n",
       "      <th>Status</th>\n",
       "      <th>Diagnosis</th>\n",
       "      <th>Confirm type</th>\n",
       "      <th>Melanocytic</th>\n",
       "      <th>Sex</th>\n",
       "    </tr>\n",
       "  </thead>\n",
       "  <tbody>\n",
       "    <tr>\n",
       "      <th>0</th>\n",
       "      <td>0.55</td>\n",
       "      <td>3</td>\n",
       "      <td>0</td>\n",
       "      <td>1</td>\n",
       "      <td>1</td>\n",
       "      <td>1</td>\n",
       "      <td>0</td>\n",
       "    </tr>\n",
       "    <tr>\n",
       "      <th>1</th>\n",
       "      <td>0.30</td>\n",
       "      <td>3</td>\n",
       "      <td>0</td>\n",
       "      <td>1</td>\n",
       "      <td>1</td>\n",
       "      <td>1</td>\n",
       "      <td>0</td>\n",
       "    </tr>\n",
       "    <tr>\n",
       "      <th>2</th>\n",
       "      <td>0.60</td>\n",
       "      <td>2</td>\n",
       "      <td>1</td>\n",
       "      <td>0</td>\n",
       "      <td>0</td>\n",
       "      <td>1</td>\n",
       "      <td>0</td>\n",
       "    </tr>\n",
       "    <tr>\n",
       "      <th>3</th>\n",
       "      <td>0.30</td>\n",
       "      <td>2</td>\n",
       "      <td>0</td>\n",
       "      <td>1</td>\n",
       "      <td>1</td>\n",
       "      <td>1</td>\n",
       "      <td>1</td>\n",
       "    </tr>\n",
       "    <tr>\n",
       "      <th>4</th>\n",
       "      <td>0.80</td>\n",
       "      <td>0</td>\n",
       "      <td>1</td>\n",
       "      <td>0</td>\n",
       "      <td>0</td>\n",
       "      <td>1</td>\n",
       "      <td>1</td>\n",
       "    </tr>\n",
       "  </tbody>\n",
       "</table>\n",
       "</div>"
      ],
      "text/plain": [
       "    Age  Site  Status  Diagnosis  Confirm type  Melanocytic  Sex\n",
       "0  0.55     3       0          1             1            1    0\n",
       "1  0.30     3       0          1             1            1    0\n",
       "2  0.60     2       1          0             0            1    0\n",
       "3  0.30     2       0          1             1            1    1\n",
       "4  0.80     0       1          0             0            1    1"
      ]
     },
     "execution_count": 6,
     "metadata": {},
     "output_type": "execute_result"
    }
   ],
   "source": [
    "image_df.head()"
   ]
  },
  {
   "cell_type": "markdown",
   "metadata": {},
   "source": [
    "Now that all of our data is ready to be used for our linear regression model, we need to extract our target variable (age) and our predictor variables (everything else)"
   ]
  },
  {
   "cell_type": "code",
   "execution_count": 7,
   "metadata": {},
   "outputs": [],
   "source": [
    "y = image_df[[\"Age\"]]\n",
    "x = image_df[[\"Site\", \"Status\", \"Diagnosis\", \"Confirm type\", \"Melanocytic\", \"Sex\"]]"
   ]
  },
  {
   "cell_type": "markdown",
   "metadata": {},
   "source": [
    "One thing that can be done to make the model more efficient is reducing the amount of predictor variables we use to predict our target. A very popular method is Principal Component Analysis (PCA)."
   ]
  },
  {
   "cell_type": "code",
   "execution_count": 8,
   "metadata": {},
   "outputs": [
    {
     "data": {
      "text/plain": [
       "PCA(copy=True, iterated_power='auto', n_components=None, random_state=None,\n",
       "    svd_solver='full', tol=0.0, whiten=False)"
      ]
     },
     "execution_count": 8,
     "metadata": {},
     "output_type": "execute_result"
    }
   ],
   "source": [
    "pca = PCA(svd_solver='full')\n",
    "pca.fit(x)"
   ]
  },
  {
   "cell_type": "markdown",
   "metadata": {},
   "source": [
    "PCA lets us know how much of the variance in our data is explained by the columns. Here we set the threshold to 10% meaning, that if the variable explains less than 10% of the variance we discard it."
   ]
  },
  {
   "cell_type": "code",
   "execution_count": 9,
   "metadata": {},
   "outputs": [],
   "source": [
    "explained_variance = list(pca.explained_variance_ratio_)\n",
    "unimportant_indexes = [i for i, val in enumerate(explained_variance) if val < .10]\n",
    "\n",
    "unimportant_columns = []\n",
    "for i in unimportant_indexes:\n",
    "    unimportant_columns.append([\"Site\", \"Status\", \"Diagnosis\", \"Confirm type\", \"Melanocytic\", \"Sex\"][i])\n",
    "    \n",
    "x = x.drop(columns=unimportant_columns)"
   ]
  },
  {
   "cell_type": "markdown",
   "metadata": {},
   "source": [
    "# Analysis <a id='analysis'></a>\n",
    "Now that we have our reduced data we can split it into our training and testing set. <br>\n",
    "Here we use a split of 33% for our testing set and 67% for our training set."
   ]
  },
  {
   "cell_type": "code",
   "execution_count": 10,
   "metadata": {},
   "outputs": [],
   "source": [
    "x_train, x_test, y_train, y_test = train_test_split(x, y, test_size=0.33, random_state=42)"
   ]
  },
  {
   "cell_type": "markdown",
   "metadata": {},
   "source": [
    "### To make our predictions we will be using regular linear regression, ridge regression, and lasso regression. \n",
    "\n",
    "### Ridge and Lasso are just like regular linear regression except they include penalties.\n",
    "\n",
    "A super important fact we need to notice about Ridge regression is that it enforces the β coefficients to be lower, but it **does not enforce them to be zero**. That is, it will not get rid of irrelevant features but rather minimize their impact on the trained model. <br>\n",
    "\n",
    "The Lasso method overcomes the disadvantage of Ridge regression by not only punishing high values of the coefficients β but actually **setting them to zero** if they are not relevant. Therefore, you might end up with fewer features included in the model than you started with, which is a huge advantage. <br>\n",
    "\n",
    "Seeing as we already used PCA to exclude features that do not give us much information, in this case it is safe to use Ridge Regression, but results for all versions are displayed."
   ]
  },
  {
   "cell_type": "code",
   "execution_count": 11,
   "metadata": {},
   "outputs": [
    {
     "data": {
      "text/plain": [
       "LinearRegression(copy_X=True, fit_intercept=True, n_jobs=None, normalize=False)"
      ]
     },
     "execution_count": 11,
     "metadata": {},
     "output_type": "execute_result"
    }
   ],
   "source": [
    "linear_regression = LinearRegression()\n",
    "ridge_model = Ridge(alpha=0.5)\n",
    "lasso_model = Lasso(alpha=0.5)\n",
    "\n",
    "ridge_model.fit(x_train, y_train)\n",
    "lasso_model.fit(x_train, y_train)\n",
    "linear_regression.fit(x_train,y_train)"
   ]
  },
  {
   "cell_type": "code",
   "execution_count": 16,
   "metadata": {},
   "outputs": [],
   "source": [
    "y_pred_lasso = lasso_model.predict(x_test)\n",
    "y_pred_ridge = ridge_model.predict(x_test)\n",
    "y_pred = linear_regression.predict(x_test)\n",
    "model_predictions = {\"Linear\": y_pred, \"Ridge\": y_pred_ridge, \"Lasso\": y_pred_lasso}"
   ]
  },
  {
   "cell_type": "markdown",
   "metadata": {},
   "source": [
    "MSE (Mean Squared Error) represents the **difference between the original and predicted values** which are extracted by squaring the average difference over the data set. It is a measure of **how close a fitted line is to actual data points**. The lesser the Mean Squared Error, the closer the fit is to the data set. The MSE has the units squared of whatever is plotted on the vertical axis. <br>\n",
    "\n",
    "RMSE (Root Mean Squared Error) is the error rate by the square root of MSE. RMSE is the most easily interpreted statistic, as it has the **same units as the quantity plotted on the vertical axis or Y-axis**. RMSE can be directly interpreted in terms of measurement units, and hence it is a better **measure of fit** than a correlation coefficient."
   ]
  },
  {
   "cell_type": "code",
   "execution_count": 18,
   "metadata": {},
   "outputs": [
    {
     "name": "stdout",
     "output_type": "stream",
     "text": [
      "Linear\n",
      "MSE:  0.026118600356228504\n",
      "RMSE:  0.1616125006186975\n",
      "\n",
      "\n",
      "Ridge\n",
      "MSE:  0.025819685221212918\n",
      "RMSE:  0.16068504977505815\n",
      "\n",
      "\n",
      "Lasso\n",
      "MSE:  0.0265599848754929\n",
      "RMSE:  0.16297234389764695\n",
      "\n",
      "\n"
     ]
    }
   ],
   "source": [
    "for name, pred in model_predictions.items():\n",
    "    rmse = mean_squared_error(y_test, pred, squared=False)\n",
    "    mse = mean_squared_error(y_test, pred, squared=True)\n",
    "    print(name)\n",
    "    print(\"MSE: \", mse)\n",
    "    print(\"RMSE: \", rmse)\n",
    "    print('\\n')"
   ]
  },
  {
   "cell_type": "markdown",
   "metadata": {},
   "source": [
    "# Discussion <a id='discussion'></a>"
   ]
  },
  {
   "cell_type": "code",
   "execution_count": null,
   "metadata": {},
   "outputs": [],
   "source": []
  }
 ],
 "metadata": {
  "kernelspec": {
   "display_name": "Python 3",
   "language": "python",
   "name": "python3"
  },
  "language_info": {
   "codemirror_mode": {
    "name": "ipython",
    "version": 3
   },
   "file_extension": ".py",
   "mimetype": "text/x-python",
   "name": "python",
   "nbconvert_exporter": "python",
   "pygments_lexer": "ipython3",
   "version": "3.7.6"
  }
 },
 "nbformat": 4,
 "nbformat_minor": 4
}
