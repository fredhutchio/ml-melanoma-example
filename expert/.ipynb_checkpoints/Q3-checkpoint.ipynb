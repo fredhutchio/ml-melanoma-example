{
 "cells": [
  {
   "cell_type": "markdown",
   "metadata": {},
   "source": [
    "# Overview\n",
    "\n",
    "This is the expert level version of question #1 from the novice level. Previously we focused on the frequency of the different types of lesion diagnosis. This notebook focuses on clustering those same lesion diagnoses by looking at the images and using K-means. We want to see if the size of the clusters are similar to the frequencies found in the previous question.\n",
    "\n",
    "Question #2 \n",
    "Does Clustering/categorization of lesion diagnosis align with the frequency chart from the beginner section? \n",
    "\n",
    "# Table of Content\n",
    "\n",
    "1. [Setup](#setup_cell)\n",
    "2. [Data Loading](#loading)\n",
    "3. [Analysis](#analyze)\n",
    "4. [Visualization](#viz_cell)\n",
    "5. [Discussion](#discussion)"
   ]
  },
  {
   "cell_type": "markdown",
   "metadata": {},
   "source": [
    "# Import <a id=\"setup_cell\"></a>"
   ]
  },
  {
   "cell_type": "code",
   "execution_count": 1,
   "metadata": {},
   "outputs": [],
   "source": [
    "import PIL\n",
    "import cv2\n",
    "import os\n",
    "from os import listdir\n",
    "from os.path import isfile, join\n",
    "import json\n",
    "import numpy as np\n",
    "import seaborn as sns # pip install -U seaborn\n",
    "from matplotlib import pyplot as plt\n",
    "import pandas as pd\n",
    "import glob\n",
    "from IPython.display import display\n",
    "from sklearn.cluster import KMeans"
   ]
  },
  {
   "cell_type": "markdown",
   "metadata": {},
   "source": [
    "# Data loading <a id=\"loading\"></a>"
   ]
  },
  {
   "cell_type": "code",
   "execution_count": 2,
   "metadata": {},
   "outputs": [],
   "source": [
    "directory = os.getcwd().split(\"\\\\\")[:-2]\n",
    "new_directory = \"\"\n",
    "for component in directory:\n",
    "    new_directory += component\n",
    "    new_directory += \"\\\\\"\n",
    "\n",
    "if 'sample_imgs' in listdir(new_directory):\n",
    "    img_filepaths = glob.glob('../../sample_imgs/*.jp*')\n",
    "    seg_filepaths = glob.glob('../../sample_segs/*.png')\n",
    "    dsc_filepaths = glob.glob('../../sample_dscs/*')"
   ]
  },
  {
   "cell_type": "markdown",
   "metadata": {},
   "source": [
    "Checks to make sure each image corresponds to it's segmentation"
   ]
  },
  {
   "cell_type": "code",
   "execution_count": 3,
   "metadata": {},
   "outputs": [],
   "source": [
    "for i in range(len(img_filepaths)):\n",
    "    \n",
    "    image_number = int(img_filepaths[0].split(\"_\")[-1].split(\".\")[0])\n",
    "    segmentation_number = int(seg_filepaths[0].split(\"_\")[2])\n",
    "    description_number =  int(dsc_filepaths[0].split(\"_\")[2])\n",
    "    if image_number != segmentation_number or image_number != description_number:\n",
    "        print(\"Error in file order\")\n",
    "        break"
   ]
  },
  {
   "cell_type": "markdown",
   "metadata": {},
   "source": [
    "# Analysis <a id=\"analyze\"></a>"
   ]
  },
  {
   "cell_type": "code",
   "execution_count": 4,
   "metadata": {},
   "outputs": [],
   "source": [
    "all_images = []\n",
    "classes = []\n",
    "for i in range(len(img_filepaths)): # replace with length of sample_imgs\n",
    "    \n",
    "    # Grab orignal image and segmented version \n",
    "    color =  PIL.Image.open(img_filepaths[i])\n",
    "    segged = PIL.Image.open(seg_filepaths[i])\n",
    "    \n",
    "    json_file = open(dsc_filepaths[i]) \n",
    "    description = json.load(json_file)\n",
    "    \n",
    "    classes.append(description[\"meta\"][\"clinical\"]['diagnosis'])\n",
    "    \n",
    "    # Try using different attributes for your classes\n",
    "    #classes.append(description[\"meta\"][\"clinical\"]['anatom_site_general'])\n",
    "    #classes.append(description[\"meta\"][\"clinical\"]['benign_malignant'])\n",
    "\n",
    "    # Get blank background\n",
    "    np_im = np.zeros((300,400))\n",
    "    backtorgb = cv2.cvtColor(np.float32(np_im),cv2.COLOR_GRAY2RGB)\n",
    "\n",
    "    blank_array = backtorgb * 255\n",
    "    blank_array = blank_array.astype(np.uint8)\n",
    "    sam = PIL.Image.fromarray(blank_array)\n",
    "\n",
    "    # Copy original picture on blank background\n",
    "    back_im = sam.copy()\n",
    "    back_im.paste(color, (0, 0), segged)\n",
    "    im_matrix = np.array(back_im)\n",
    "    im_matrix = im_matrix.flatten()\n",
    "    all_images.append(im_matrix)"
   ]
  },
  {
   "cell_type": "markdown",
   "metadata": {},
   "source": [
    "K means needs numpy arrays"
   ]
  },
  {
   "cell_type": "code",
   "execution_count": 5,
   "metadata": {},
   "outputs": [],
   "source": [
    "all_images = np.array(all_images)\n",
    "total_classes = len(set(classes))"
   ]
  },
  {
   "cell_type": "markdown",
   "metadata": {},
   "source": [
    "Performs K-means algorithm <br>\n",
    "K-means boils down to 5 steps: <br>\n",
    "1. Randomly select centroids (centers of each cluster).\n",
    "2. Calculate the distance of all data points to the centroids.\n",
    "3. Assign data points to the closest cluster.\n",
    "4. Find the new centroids of each cluster by taking the mean of all data points in the cluster.\n",
    "5. Repeat steps 2,3 and 4 until all points converge or you reach your max iterations."
   ]
  },
  {
   "cell_type": "code",
   "execution_count": 6,
   "metadata": {},
   "outputs": [
    {
     "data": {
      "text/plain": [
       "KMeans(algorithm='auto', copy_x=True, init='k-means++', max_iter=500,\n",
       "       n_clusters=2, n_init=10, n_jobs=None, precompute_distances='auto',\n",
       "       random_state=None, tol=0.0001, verbose=0)"
      ]
     },
     "execution_count": 6,
     "metadata": {},
     "output_type": "execute_result"
    }
   ],
   "source": [
    "kmeans = KMeans(init='k-means++', n_clusters=total_classes, max_iter=500)\n",
    "kmeans.fit(all_images)"
   ]
  },
  {
   "cell_type": "markdown",
   "metadata": {},
   "source": [
    "We get the cluster predictions and all the different classes for the images"
   ]
  },
  {
   "cell_type": "code",
   "execution_count": 7,
   "metadata": {},
   "outputs": [],
   "source": [
    "pred_classes = kmeans.predict(all_images)\n",
    "classes = np.array(classes)"
   ]
  },
  {
   "cell_type": "markdown",
   "metadata": {},
   "source": [
    "### Here we do a couple of things: <br>\n",
    "1. We look at the number of clusters we have\n",
    "2. Then find classes that have been assigned to that cluster\n",
    "3. We then count the number of times that class has appeared"
   ]
  },
  {
   "cell_type": "code",
   "execution_count": 8,
   "metadata": {},
   "outputs": [],
   "source": [
    "cluster_data = dict()\n",
    "for cluster in range(total_classes):\n",
    "\n",
    "    mini_dic = dict()\n",
    "    for i in np.unique(classes):\n",
    "        mini_dic[i] = list(classes[np.where(pred_classes == cluster)]).count(i)\n",
    "\n",
    "    cluster_data[cluster] = mini_dic"
   ]
  },
  {
   "cell_type": "markdown",
   "metadata": {},
   "source": [
    "Our data is a dictionary of dictionaries, which isn't very easy to visualize. So we are going to turn it into a few lists"
   ]
  },
  {
   "cell_type": "code",
   "execution_count": 9,
   "metadata": {},
   "outputs": [],
   "source": [
    "all_diagnosis = []\n",
    "all_counts = []\n",
    "all_clusters = []"
   ]
  },
  {
   "cell_type": "code",
   "execution_count": 10,
   "metadata": {},
   "outputs": [],
   "source": [
    "for cluster, diagnosis_count in list(cluster_data.items()):\n",
    "    different_diagnoses = list(diagnosis_count.keys())\n",
    "    diagnoses_count = list(diagnosis_count.values())\n",
    "    \n",
    "    all_clusters.append([cluster]*len(diagnoses_count))\n",
    "    all_counts.append(diagnoses_count)\n",
    "    \n",
    "    if different_diagnoses not in all_diagnosis:\n",
    "        for diagnosis in different_diagnoses:\n",
    "            all_diagnosis.append(diagnosis)"
   ]
  },
  {
   "cell_type": "markdown",
   "metadata": {},
   "source": [
    "# Visualization <a id=\"viz_cell\"><a/>\n",
    "### It is hard to visualize clustering especially when working with high dimensional data like images. So you might have to get creative.\n",
    "    \n",
    "All the features need to be numpy arrays for visualization"
   ]
  },
  {
   "cell_type": "code",
   "execution_count": 11,
   "metadata": {},
   "outputs": [],
   "source": [
    "all_diagnosis = np.array(all_diagnosis)\n",
    "all_counts = np.array([i for diagnosis_c in all_counts for i in diagnosis_c])\n",
    "all_clusters = np.array([i for diagnosis_c in all_clusters for i in diagnosis_c])"
   ]
  },
  {
   "cell_type": "markdown",
   "metadata": {},
   "source": [
    "Here we used color to represent the clusters, count to represent the size of the clusters, and the x-axis for the classes. Usually we are not concerned with the exact class labels but in this case we want to know the number of different diagnoses in a cluster."
   ]
  },
  {
   "cell_type": "code",
   "execution_count": 13,
   "metadata": {},
   "outputs": [
    {
     "data": {
      "text/plain": [
       "<matplotlib.legend.Legend at 0x1ec6d361048>"
      ]
     },
     "execution_count": 13,
     "metadata": {},
     "output_type": "execute_result"
    },
    {
     "data": {
      "image/png": "[encoded data removed]",
      "text/plain": [
       "<Figure size 1008x720 with 1 Axes>"
      ]
     },
     "metadata": {
      "needs_background": "light"
     },
     "output_type": "display_data"
    }
   ],
   "source": [
    "colors = [\"tab:blue\", \"tab:pink\", \"tab:red\", \"gold\", \"tab:purple\", \"tab:orange\", \"tab:green\", \"tab:cyan\", \"dimgrey\"]\n",
    "fig, ax = plt.subplots(figsize=(14,10))\n",
    "\n",
    "for cluster in np.unique(all_clusters):\n",
    "    idxs = np.where(cluster == all_clusters)[0]\n",
    "    ax.scatter(all_diagnosis[idxs], all_counts[idxs], c = colors[idxs[0]], label = \"Cluster \" + str(all_clusters[idxs[0]] + 1), s = 100)\n",
    "plt.ylabel(\"Count\")\n",
    "plt.xlabel(\"Diagnosis\")\n",
    "plt.legend()"
   ]
  },
  {
   "cell_type": "markdown",
   "metadata": {},
   "source": [
    "# Discussion <a id=discussion></a>\n",
    "Did KMeans put the diagnoses in the appropriate clusters?\n",
    "Does the amount of diagnoses look similar to the distribution in question 1 for novice?"
   ]
  },
  {
   "cell_type": "code",
   "execution_count": null,
   "metadata": {},
   "outputs": [],
   "source": []
  },
  {
   "cell_type": "code",
   "execution_count": null,
   "metadata": {},
   "outputs": [],
   "source": []
  }
 ],
 "metadata": {
  "kernelspec": {
   "display_name": "Python 3",
   "language": "python",
   "name": "python3"
  },
  "language_info": {
   "codemirror_mode": {
    "name": "ipython",
    "version": 3
   },
   "file_extension": ".py",
   "mimetype": "text/x-python",
   "name": "python",
   "nbconvert_exporter": "python",
   "pygments_lexer": "ipython3",
   "version": "3.7.6"
  }
 },
 "nbformat": 4,
 "nbformat_minor": 4
}
