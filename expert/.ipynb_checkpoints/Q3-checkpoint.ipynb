{
 "cells": [
  {
   "cell_type": "code",
   "execution_count": 3,
   "metadata": {},
   "outputs": [],
   "source": [
    "import PIL\n",
    "import cv2\n",
    "import os\n",
    "from os import listdir\n",
    "from os.path import isfile, join\n",
    "import json\n",
    "import numpy as np\n",
    "import seaborn as sns # pip install -U seaborn\n",
    "from matplotlib import pyplot as plt\n",
    "import pandas as pd\n",
    "import glob\n",
    "from IPython.display import display"
   ]
  },
  {
   "cell_type": "code",
   "execution_count": 5,
   "metadata": {},
   "outputs": [],
   "source": [
    "directory = os.getcwd().split(\"\\\\\")[:-2]\n",
    "new_directory = \"\"\n",
    "for component in directory:\n",
    "    new_directory += component\n",
    "    new_directory += \"\\\\\"\n",
    "\n",
    "if 'sample_imgs' in listdir(new_directory):\n",
    "    img_filepaths = glob.glob('../../sample_imgs/*.jp*')\n",
    "    seg_filepaths = glob.glob('../../sample_segs/*.png')\n",
    "    dsc_filepaths = glob.glob('../../sample_dscs/*')"
   ]
  },
  {
   "cell_type": "code",
   "execution_count": 6,
   "metadata": {},
   "outputs": [],
   "source": [
    "# Checks to make sure each image corresponds to it's segmentation\n",
    "for i in range(len(img_filepaths)):\n",
    "    \n",
    "    image_number = int(img_filepaths[0].split(\"_\")[-1].split(\".\")[0])\n",
    "    segmentation_number = int(seg_filepaths[0].split(\"_\")[2])\n",
    "    \n",
    "    if image_number != segmentation_number:\n",
    "        print(\"Error in file order\")\n",
    "        break"
   ]
  },
  {
   "cell_type": "code",
   "execution_count": 7,
   "metadata": {},
   "outputs": [],
   "source": [
    "all_image_colors = []\n",
    "for i in range(12):\n",
    "    \n",
    "    # Grab orignal image and segmented version \n",
    "    color =  PIL.Image.open(img_filepaths[i]).resize((400,300))\n",
    "    segged = PIL.Image.open(seg_filepaths[i]).resize((400,300))\n",
    "\n",
    "    # Get blank background\n",
    "    np_im = np.zeros((300,400))\n",
    "    backtorgb = cv2.cvtColor(np.float32(np_im),cv2.COLOR_GRAY2RGB)\n",
    "\n",
    "    random_array = backtorgb * 255\n",
    "    random_array = random_array.astype(np.uint8)\n",
    "    sam = PIL.Image.fromarray(random_array)\n",
    "\n",
    "    # Copy original picture on blank background\n",
    "    back_im = sam.copy()\n",
    "    back_im.paste(color, (0, 0), segged)\n",
    "    im_matrix = np.array(back_im)"
   ]
  },
  {
   "cell_type": "code",
   "execution_count": null,
   "metadata": {},
   "outputs": [],
   "source": []
  }
 ],
 "metadata": {
  "kernelspec": {
   "display_name": "Python 3",
   "language": "python",
   "name": "python3"
  },
  "language_info": {
   "codemirror_mode": {
    "name": "ipython",
    "version": 3
   },
   "file_extension": ".py",
   "mimetype": "text/x-python",
   "name": "python",
   "nbconvert_exporter": "python",
   "pygments_lexer": "ipython3",
   "version": "3.7.6"
  }
 },
 "nbformat": 4,
 "nbformat_minor": 4
}
