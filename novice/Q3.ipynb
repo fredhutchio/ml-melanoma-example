{
 "cells": [
  {
   "cell_type": "markdown",
   "metadata": {},
   "source": [
    "# Overview \n",
    "\n",
    "This notebook contains all code and discussions for the __novice iteration__ of the research question involving __the distribution of different lesions__. The specific question asked, what is the distribution of the different types of lesion diagnosis? We specifically want to know if it is skewed.  At the novice level, this requires data acquisition and minimal pre-processing, coupled with exploratory charts.\n",
    "  \n",
    "\n",
    "\n",
    "# Table of Contents\n",
    "\n",
    "1. [Setup](#setup) <br>\n",
    "2. [Data Loading](#load) <br>\n",
    "\n",
    "3. [Data wrangling](#dw) <br>\n",
    "    i. [Population](#pop) <br>\n",
    "\n",
    "4. [Visualization](#viz)\n",
    "5. [Discussion](#Discuss)"
   ]
  },
  {
   "cell_type": "markdown",
   "metadata": {},
   "source": [
    "<a id='setup'></a>\n",
    "# Setup\n",
    "Import packages"
   ]
  },
  {
   "cell_type": "code",
   "execution_count": null,
   "metadata": {},
   "outputs": [],
   "source": [
    "import PIL\n",
    "import os\n",
    "from os import listdir\n",
    "from os.path import isfile, join\n",
    "import json\n",
    "import numpy as np\n",
    "import seaborn as sns # pip install -U seaborn\n",
    "from matplotlib import pyplot as plt\n",
    "import pandas as pd\n",
    "import glob\n",
    "import warnings\n",
    "import matplotlib\n",
    "warnings.filterwarnings('ignore')"
   ]
  },
  {
   "cell_type": "markdown",
   "metadata": {},
   "source": [
    "# Load data from directories <a id='load'></a>\n",
    "Find current working directory"
   ]
  },
  {
   "cell_type": "markdown",
   "metadata": {},
   "source": [
    "Create paths to image and description folders"
   ]
  },
  {
   "cell_type": "code",
   "execution_count": null,
   "metadata": {},
   "outputs": [],
   "source": [
    "img_filepaths = glob.glob('../../sample_imgs/*.jp*')\n",
    "seg_filepaths = glob.glob('../../sample_segs/*.png')\n",
    "des_paths = glob.glob('../../sample_dscs/*')"
   ]
  },
  {
   "cell_type": "markdown",
   "metadata": {},
   "source": [
    "# Data wrangling <a id='dw'></a>"
   ]
  },
  {
   "cell_type": "code",
   "execution_count": null,
   "metadata": {},
   "outputs": [],
   "source": [
    "age = []\n",
    "lesion_diagnosis = []"
   ]
  },
  {
   "cell_type": "markdown",
   "metadata": {},
   "source": [
    "### Populate the above lists by reading in data from the JSON files  <a id=\"pop\"></a>\n",
    "We also have to make sure that the user gives us both "
   ]
  },
  {
   "cell_type": "code",
   "execution_count": null,
   "metadata": {},
   "outputs": [],
   "source": [
    "for i in range(len(des_paths)):\n",
    "    im = des_paths[i]\n",
    "    with open(im) as json_file:\n",
    "        j = json.load(json_file)\n",
    "        \n",
    "        # To view json format uncomment the two lines below \n",
    "        #print(json.dumps(j, indent=4))\n",
    "        #break\n",
    "        \n",
    "        try:\n",
    "            # Add all lesion diagnoses to the lesion diagnosis list\n",
    "            lesion_diagnosis.append(j[\"meta\"][\"clinical\"][\"diagnosis\"])\n",
    "            \n",
    "            # Add their age to the age list\n",
    "            age.append(\"Place holder Age\")\n",
    "        except KeyError:\n",
    "            continue"
   ]
  },
  {
   "cell_type": "markdown",
   "metadata": {},
   "source": [
    "Dataframe building for easy visualization."
   ]
  },
  {
   "cell_type": "code",
   "execution_count": null,
   "metadata": {},
   "outputs": [],
   "source": [
    "diagnosis_data = pd.DataFrame({'Diagnosis': lesion_diagnosis, 'Age': age})\n",
    "diagnosis_data = diagnosis_data.dropna()"
   ]
  },
  {
   "cell_type": "markdown",
   "metadata": {},
   "source": [
    "Here we create a csv file with the counts of all lesion diagnoses, we'll use this later :) "
   ]
  },
  {
   "cell_type": "code",
   "execution_count": null,
   "metadata": {},
   "outputs": [],
   "source": [
    "diagnosis_distribution = diagnosis_data.groupby(by='Diagnosis').agg('count').rename(columns={\"Age\": \"Count\"})\n",
    "\n",
    "diagnosis_distribution.to_csv(path_or_buf='../diagnosis_distribution.csv')"
   ]
  },
  {
   "cell_type": "markdown",
   "metadata": {},
   "source": [
    "# Visualization <a id='viz'></a>"
   ]
  },
  {
   "cell_type": "code",
   "execution_count": null,
   "metadata": {},
   "outputs": [],
   "source": [
    "fig = plt.figure(figsize=(14,20))\n",
    "fig.subplots_adjust(hspace=0.4, wspace=0.4)\n",
    "ax = plt.gca()\n",
    "plt.title(\"Diagnosis Distribution\")\n",
    "plt.setp(ax.get_xticklabels(), rotation=30, horizontalalignment='right')\n",
    "sns.histplot(diagnosis_data, x='Diagnosis')\n",
    "\n",
    "plt.savefig(\"../novice_Q3.png\")\n",
    "plt.imread(\"../novice_Q3.png\")"
   ]
  },
  {
   "cell_type": "markdown",
   "metadata": {},
   "source": [
    "# What did you find out about the distribution of lesion diagnoses? <a id=\"Discuss\"></a>\n",
    "Does it resemble a common distribution?"
   ]
  },
  {
   "cell_type": "code",
   "execution_count": null,
   "metadata": {},
   "outputs": [],
   "source": []
  }
 ],
 "metadata": {
  "kernelspec": {
   "display_name": "Python 3",
   "language": "python",
   "name": "python3"
  },
  "language_info": {
   "codemirror_mode": {
    "name": "ipython",
    "version": 3
   },
   "file_extension": ".py",
   "mimetype": "text/x-python",
   "name": "python",
   "nbconvert_exporter": "python",
   "pygments_lexer": "ipython3",
   "version": "3.7.3"
  }
 },
 "nbformat": 4,
 "nbformat_minor": 4
}
