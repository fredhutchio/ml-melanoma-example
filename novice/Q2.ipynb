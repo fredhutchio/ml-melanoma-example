{
 "cells": [
  {
   "cell_type": "markdown",
   "metadata": {},
   "source": [
    "# Overview \n",
    "\n",
    "This notebook contains all code and discussions for the __novice iteration__ of the research question involving __relationship between malignancy, age, and sex__. The specific question asked is if malignant lesions occur more along some gender or age line?  At the novice level, this requires data acquisition and minimal pre-processing, coupled with exploratory charts.\n",
    "\n",
    "\n",
    "\n",
    "# Table of Contents\n",
    "\n",
    "1. [Setup](#another_cell) <br>\n",
    "2. [Data Loading](#load_cell) <br>\n",
    "\n",
    "3. [Data wrangling](#w_cell) <br>\n",
    "    i. [Population](#populate) <br>\n",
    "    ii. [Confusion Matrix](#conf_cell) <br>\n",
    "    iii. [Violin Plot](#violin_cell)\n",
    "4. [Visualization](#viz_cell)\n"
   ]
  },
  {
   "cell_type": "markdown",
   "metadata": {},
   "source": [
    "<a id='another_cell'></a>\n",
    "# Setup\n",
    "Import packages"
   ]
  },
  {
   "cell_type": "code",
   "execution_count": null,
   "metadata": {},
   "outputs": [],
   "source": [
    "import PIL\n",
    "import glob\n",
    "import os\n",
    "from os import listdir\n",
    "from os.path import isfile, join\n",
    "import json\n",
    "import numpy as np\n",
    "import seaborn as sns # pip install -U seaborn\n",
    "from matplotlib import pyplot as plt\n",
    "import pandas as pd\n",
    "import warnings\n",
    "import matplotlib\n",
    "warnings.filterwarnings('ignore')"
   ]
  },
  {
   "cell_type": "markdown",
   "metadata": {},
   "source": [
    "# Load data from directories <a id='load_cell'></a>\n",
    "Create paths to image and description folders"
   ]
  },
  {
   "cell_type": "code",
   "execution_count": null,
   "metadata": {},
   "outputs": [],
   "source": [
    "img_filepaths = glob.glob('../../sample_imgs/*.jp*')\n",
    "seg_filepaths = glob.glob('../../sample_segs/*.png')\n",
    "des_paths = glob.glob('../../sample_dscs/*')"
   ]
  },
  {
   "cell_type": "markdown",
   "metadata": {},
   "source": [
    "# Data wrangling <a id='w_cell'></a>"
   ]
  },
  {
   "cell_type": "code",
   "execution_count": null,
   "metadata": {},
   "outputs": [],
   "source": [
    "malignant = []\n",
    "benign    = []\n",
    "sex       = []\n",
    "status    = []\n",
    "age       = []"
   ]
  },
  {
   "cell_type": "markdown",
   "metadata": {},
   "source": [
    "### Populate the above lists by reading in data from the JSON files <a id=\"populate\"></a>"
   ]
  },
  {
   "cell_type": "code",
   "execution_count": null,
   "metadata": {},
   "outputs": [],
   "source": [
    "for i in range(len(des_paths)):\n",
    "    im = des_paths[i]\n",
    "    with open(im) as json_file:\n",
    "        j = json.load(json_file)\n",
    "        \n",
    "        # To view json format uncomment the two lines below \n",
    "        #print(json.dumps(j, indent=4))\n",
    "        #break\n",
    "        try: \n",
    "            if j[\"meta\"][\"clinical\"][\"benign_malignant\"] == \"malignant\":\n",
    "\n",
    "                # Add a person's age and sex to the malignant list\n",
    "                malignant.append(j[\"meta\"][\"clinical\"][\"age_approx\"])\n",
    "                malignant.append(j[\"meta\"][\"clinical\"][\"sex\"])\n",
    "\n",
    "                # Add their age and sex to their appropriate lists\n",
    "                sex.append(j[\"meta\"][\"clinical\"][\"sex\"])\n",
    "                age.append(j[\"meta\"][\"clinical\"][\"age_approx\"])\n",
    "\n",
    "                # Add their status to the status list (Malignant or Benign)\n",
    "                status.append('Malignant')\n",
    "\n",
    "            elif j[\"meta\"][\"clinical\"][\"benign_malignant\"] == \"benign\":\n",
    "\n",
    "                # Add their age and sex to the benign list\n",
    "                benign.append(j[\"meta\"][\"clinical\"][\"age_approx\"])\n",
    "                benign.append(j[\"meta\"][\"clinical\"][\"sex\"])\n",
    "\n",
    "                # Add their age and sex to their appropriate lists\n",
    "                sex.append(j[\"meta\"][\"clinical\"][\"sex\"])\n",
    "                age.append(j[\"meta\"][\"clinical\"][\"age_approx\"])\n",
    "\n",
    "                # Add their status to the status list (Malignant or Benign)\n",
    "                status.append('Benign')\n",
    "        except KeyError:\n",
    "            continue #print(\"No malignancy data for: \", j['_id'])\n",
    "lesion_data = pd.DataFrame({'Sex': sex, 'Status': status, 'Age': age})"
   ]
  },
  {
   "cell_type": "markdown",
   "metadata": {},
   "source": [
    "### Confsuion Matrix <a id='conf_cell'></a>\n",
    "Assign each variable the number of people that belong to that group"
   ]
  },
  {
   "cell_type": "code",
   "execution_count": null,
   "metadata": {},
   "outputs": [],
   "source": [
    "benign_females = benign.count('female')\n",
    "benign_males   = benign.count('male')\n",
    "\n",
    "malignant_females = malignant.count('female')\n",
    "malignant_males   = malignant.count('male')"
   ]
  },
  {
   "cell_type": "markdown",
   "metadata": {},
   "source": [
    "\n",
    "### Create a 2x2 confusion matrix with the appropriate labels"
   ]
  },
  {
   "cell_type": "code",
   "execution_count": null,
   "metadata": {},
   "outputs": [],
   "source": [
    "conf_mat = np.array([[benign_females, benign_males], \n",
    "                     [malignant_females, malignant_males]])"
   ]
  },
  {
   "cell_type": "markdown",
   "metadata": {},
   "source": [
    "### Get the labels for the confusion matrix (count, percentage, and names)"
   ]
  },
  {
   "cell_type": "code",
   "execution_count": null,
   "metadata": {},
   "outputs": [],
   "source": [
    "group_counts = [\"{0:0.0f}\".format(value) for value in conf_mat.flatten()]\n",
    "\n",
    "group_percentages = [\"{0:.1%}\".format(value) for value in conf_mat.flatten()/np.sum(conf_mat)]\n",
    "\n",
    "group_names = ['Benign (F)','Benign (M)','Malig. (F)','Malig. (M)']\n",
    "\n",
    "labels = [f\"\\n{v1}\\n{v2}\\n{v3}\" for v1, v2, v3 in zip(group_names,group_counts,group_percentages)]\n",
    "\n",
    "labels = np.asarray(labels).reshape(2,2)\n",
    "\n",
    "Sexes = ['Female','Male']\n",
    "malignancy = [\"Benign\", \"Malignant\"]"
   ]
  },
  {
   "cell_type": "markdown",
   "metadata": {},
   "source": [
    "### Violin plot <a id='violin_cell'></a>\n",
    "Create lists that contain all the benign and malignant ages "
   ]
  },
  {
   "cell_type": "code",
   "execution_count": null,
   "metadata": {},
   "outputs": [],
   "source": [
    "benign_ages    = [x for x in benign if isinstance(x, int)]\n",
    "malignant_ages = [x for x in malignant if isinstance(x, int)]\n",
    "\n",
    "diagnosis_age = benign_ages + malignant_ages\n",
    "flags = ['benign'] * len(benign_ages) + ['malignant'] * len(malignant_ages)"
   ]
  },
  {
   "cell_type": "markdown",
   "metadata": {},
   "source": [
    "# Visualization <a id='viz_cell'></a>\n",
    "\n",
    "Add subplot parameters: <br>\n",
    "Parameter 1: The number of rows <br> \n",
    "Parameter 2: The number of columns <br>\n",
    "Parameter 3: The graph position <br>\n",
    "\n",
    "Put four graphs on a 2x2 plot <br>"
   ]
  },
  {
   "cell_type": "code",
   "execution_count": null,
   "metadata": {},
   "outputs": [],
   "source": [
    "%matplotlib inline\n",
    "fig = plt.figure(figsize=(15,12))\n",
    "fig.subplots_adjust(hspace=0.4, wspace=0.4)\n",
    "\n",
    "ax1 = fig.add_subplot(2, 2, 1)\n",
    "ax1.set_title('Confusion Matrix')\n",
    "\n",
    "ax2 = fig.add_subplot(2, 2, 2)\n",
    "ax2.set(xlabel='Age')\n",
    "ax2.set_title('Violin Plot')\n",
    "\n",
    "ax3 = fig.add_subplot(2, 2, 3)\n",
    "ax3.set(xlabel='Sex', ylabel='Count')\n",
    "ax3.set_title('Benign v Malignancy')\n",
    "\n",
    "ax4 = fig.add_subplot(2, 2, 4)\n",
    "ax4.set(ylabel='Position')\n",
    "ax4.set_title('Scatter plot of age and status')\n",
    "\n",
    "# We want to show all ticks...\n",
    "ax1.set_xticks(np.arange(len(Sexes)))\n",
    "ax1.set_yticks(np.arange(len(malignancy)))\n",
    "\n",
    "# ... and label them with the respective list entries\n",
    "ax1.set_xticklabels(Sexes)\n",
    "ax1.set_yticklabels(malignancy)\n",
    "\n",
    "# Rotate the tick labels and set their alignment.\n",
    "plt.setp(ax1.get_xticklabels(), rotation=45, ha=\"right\",\n",
    "         rotation_mode=\"anchor\")\n",
    "\n",
    "# Use confusion matrix and labels\n",
    "sns.heatmap(conf_mat, annot=labels, fmt=\"\", cmap='Blues', ax=ax1)\n",
    "\n",
    "# Use lists from violin plot\n",
    "sns.violinplot(benign_ages  + malignant_ages, flags, ax=ax2)\n",
    "\n",
    "# We use the lesion data to fill the remaining plots\n",
    "sns.countplot(x=\"Sex\", hue=\"Status\", data=lesion_data, ax=ax3)\n",
    "\n",
    "sns.scatterplot(x='Age', y=[i for i in range(len(lesion_data))], hue=\"Status\", data = lesion_data, ax=ax4)\n",
    "\n",
    "plt.savefig(\"../novice_Q2.png\")\n",
    "plt.imread(\"../novice_Q2.png\")"
   ]
  },
  {
   "cell_type": "markdown",
   "metadata": {},
   "source": [
    "# What did you find out about malignant lesions? \n"
   ]
  },
  {
   "cell_type": "code",
   "execution_count": null,
   "metadata": {},
   "outputs": [],
   "source": []
  }
 ],
 "metadata": {
  "kernelspec": {
   "display_name": "Python 3",
   "language": "python",
   "name": "python3"
  },
  "language_info": {
   "codemirror_mode": {
    "name": "ipython",
    "version": 3
   },
   "file_extension": ".py",
   "mimetype": "text/x-python",
   "name": "python",
   "nbconvert_exporter": "python",
   "pygments_lexer": "ipython3",
   "version": "3.7.3"
  }
 },
 "nbformat": 4,
 "nbformat_minor": 4
}
