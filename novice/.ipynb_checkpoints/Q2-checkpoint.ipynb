{
 "cells": [
  {
   "cell_type": "markdown",
   "metadata": {},
   "source": [
    "# Overview \n",
    "\n",
    "Novice level\n",
    "\n",
    "Question #2\n",
    "Do malignant lesions occur more along some gender or age line? \n",
    "\n",
    "\n",
    "# Table of Contents\n",
    "\n",
    "1. [Setup](#another_cell) <br>\n",
    "2. [Data Loading](#load_cell) <br>\n",
    "\n",
    "3. [Data wrangling](#w_cell) <br>\n",
    "    i. Population <br>\n",
    "    ii. [Confusion Matrix](#conf_cell) <br>\n",
    "    iii. [Violin Plot](#violin_cell)\n",
    "4. [Visualization](#viz_cell)\n"
   ]
  },
  {
   "cell_type": "markdown",
   "metadata": {},
   "source": [
    "<a id='another_cell'></a>\n",
    "# Setup\n",
    "Import packages"
   ]
  },
  {
   "cell_type": "code",
   "execution_count": 1,
   "metadata": {},
   "outputs": [],
   "source": [
    "import PIL\n",
    "import cv2\n",
    "import os\n",
    "from os import listdir\n",
    "from os.path import isfile, join\n",
    "import json\n",
    "import numpy as np\n",
    "import seaborn as sns # pip install -U seaborn\n",
    "from matplotlib import pyplot as plt\n",
    "import pandas as pd"
   ]
  },
  {
   "cell_type": "markdown",
   "metadata": {},
   "source": [
    "# Load data from directories <a id='load_cell'></a>\n",
    "Find current working directory"
   ]
  },
  {
   "cell_type": "code",
   "execution_count": 2,
   "metadata": {},
   "outputs": [],
   "source": [
    "directory = os.getcwd().split(\"\\\\\")[:-2]\n",
    "new_directory = \"\"\n",
    "for component in directory:\n",
    "    new_directory += component\n",
    "    new_directory += \"\\\\\""
   ]
  },
  {
   "cell_type": "markdown",
   "metadata": {},
   "source": [
    "Create paths to image and description folders"
   ]
  },
  {
   "cell_type": "code",
   "execution_count": 3,
   "metadata": {},
   "outputs": [
    {
     "name": "stdout",
     "output_type": "stream",
     "text": [
      "You have data\n"
     ]
    }
   ],
   "source": [
    "if 'sample_imgs' in listdir(new_directory):\n",
    "    print(\"You have data\")\n",
    "    images = new_directory + '\\\\sample_imgs'\n",
    "    descriptions = new_directory + '\\\\sample_dscs'\n",
    "    \n",
    "    # Creates paths to individual description files\n",
    "    des_paths = [join(descriptions, f) for f in listdir(descriptions) if isfile(join(descriptions, f))]\n",
    "else:\n",
    "    print(\"You need to download the images using the ISIC Downloader\")"
   ]
  },
  {
   "cell_type": "markdown",
   "metadata": {},
   "source": [
    "# Data wrangling <a id='w_cell'></a>"
   ]
  },
  {
   "cell_type": "code",
   "execution_count": 4,
   "metadata": {},
   "outputs": [],
   "source": [
    "malignant = []\n",
    "benign    = []\n",
    "sex       = []\n",
    "status    = []\n",
    "age       = []"
   ]
  },
  {
   "cell_type": "markdown",
   "metadata": {},
   "source": [
    "### Populate the above lists by reading the comments below and following the directions"
   ]
  },
  {
   "cell_type": "code",
   "execution_count": 5,
   "metadata": {},
   "outputs": [],
   "source": [
    "for im in des_paths:\n",
    "    with open(im) as json_file:\n",
    "        j = json.load(json_file)\n",
    "        \n",
    "        # To view json format uncomment the two lines below \n",
    "        #print(json.dumps(j, indent=4))\n",
    "        #break\n",
    "        if j[\"meta\"][\"clinical\"][\"benign_malignant\"] == \"malignant\":\n",
    "\n",
    "            # Add a person's age and sex to the malignant list\n",
    "            malignant.append(j[\"meta\"][\"clinical\"][\"age_approx\"])\n",
    "            malignant.append(j[\"meta\"][\"clinical\"][\"sex\"])\n",
    "            \n",
    "            # Add their age and sex to their appropriate lists\n",
    "            sex.append(j[\"meta\"][\"clinical\"][\"sex\"])\n",
    "            age.append(j[\"meta\"][\"clinical\"][\"age_approx\"])\n",
    "            \n",
    "            # Add their status to the status list (Malignant or Benign)\n",
    "            status.append('Malignant')\n",
    "\n",
    "        elif j[\"meta\"][\"clinical\"][\"benign_malignant\"] == \"benign\":\n",
    "\n",
    "            # Add their age and sex to the benign list\n",
    "            benign.append(j[\"meta\"][\"clinical\"][\"age_approx\"])\n",
    "            benign.append(j[\"meta\"][\"clinical\"][\"sex\"])\n",
    "            \n",
    "            # Add their age and sex to their appropriate lists\n",
    "            sex.append(j[\"meta\"][\"clinical\"][\"sex\"])\n",
    "            age.append(j[\"meta\"][\"clinical\"][\"age_approx\"])\n",
    "            \n",
    "            # Add their status to the status list (Malignant or Benign)\n",
    "            status.append('Benign')"
   ]
  },
  {
   "cell_type": "markdown",
   "metadata": {},
   "source": [
    "### Create a DataFrame by replacing _ with the appropriate list"
   ]
  },
  {
   "cell_type": "code",
   "execution_count": 7,
   "metadata": {},
   "outputs": [],
   "source": [
    "lesion_data = pd.DataFrame({'Sex': sex, 'Status': status, 'Age': age})"
   ]
  },
  {
   "cell_type": "markdown",
   "metadata": {},
   "source": [
    "### Confsuion Matrix <a id='conf_cell'></a>\n",
    "Assign each variable the number of people that belong to that group"
   ]
  },
  {
   "cell_type": "code",
   "execution_count": 8,
   "metadata": {},
   "outputs": [],
   "source": [
    "benign_females = benign.count('female')\n",
    "benign_males   = benign.count('male')\n",
    "\n",
    "malignant_females = malignant.count('female')\n",
    "malignant_males   = malignant.count('male')"
   ]
  },
  {
   "cell_type": "markdown",
   "metadata": {},
   "source": [
    "\n",
    "### We create a 2x2 confusion matrix for you, with the appropriate labels"
   ]
  },
  {
   "cell_type": "code",
   "execution_count": 9,
   "metadata": {},
   "outputs": [],
   "source": [
    "conf_mat = np.array([[benign_females, benign_males], [malignant_females, malignant_males]])\n",
    "\n",
    "\n",
    "group_names = ['Benign (F)','Benign (M)','Malig. (F)','Malig. (M)']\n",
    "group_counts = [\"{0:0.0f}\".format(value) for value in\n",
    "                conf_mat.flatten()]\n",
    "group_percentages = [\"{0:.2%}\".format(value) for value in\n",
    "                     conf_mat.flatten()/np.sum(conf_mat)]\n",
    "labels = [f\"{v1}\\n{v2}\\n{v3}\" for v1, v2, v3 in\n",
    "          zip(group_names,group_counts,group_percentages)]\n",
    "\n",
    "labels = np.asarray(labels).reshape(2,2)"
   ]
  },
  {
   "cell_type": "markdown",
   "metadata": {},
   "source": [
    "### Violin plot <a id='violin_cell'></a>\n",
    "Create lists that contain all the benign and malignant ages "
   ]
  },
  {
   "cell_type": "code",
   "execution_count": 10,
   "metadata": {},
   "outputs": [],
   "source": [
    "benign_ages    = [x for x in benign if isinstance(x, int)]\n",
    "malignant_ages = [x for x in malignant if isinstance(x, int)]\n",
    "\n",
    "diagnosis_age = benign_ages + malignant_ages\n",
    "flags = ['benign'] * len(benign_ages) + ['malignant'] * len(malignant_ages)"
   ]
  },
  {
   "cell_type": "markdown",
   "metadata": {},
   "source": [
    "# Visualization <a id='viz_cell'></a>\n",
    "\n",
    "Put four graphs on a 2x2 plot"
   ]
  },
  {
   "cell_type": "code",
   "execution_count": 13,
   "metadata": {},
   "outputs": [
    {
     "name": "stderr",
     "output_type": "stream",
     "text": [
      "C:\\Users\\Matth\\anaconda3\\lib\\site-packages\\seaborn\\_decorators.py:43: FutureWarning: Pass the following variables as keyword args: x, y. From version 0.12, the only valid positional argument will be `data`, and passing other arguments without an explicit keyword will result in an error or misinterpretation.\n",
      "  FutureWarning\n"
     ]
    },
    {
     "data": {
      "text/plain": [
       "<matplotlib.axes._subplots.AxesSubplot at 0x2e0db5f85c8>"
      ]
     },
     "execution_count": 13,
     "metadata": {},
     "output_type": "execute_result"
    },
    {
     "data": {
      "image/png": "[encoded data removed]",
      "text/plain": [
       "<Figure size 1008x720 with 5 Axes>"
      ]
     },
     "metadata": {
      "needs_background": "light"
     },
     "output_type": "display_data"
    }
   ],
   "source": [
    "fig = plt.figure(figsize=(14,10))\n",
    "fig.subplots_adjust(hspace=0.4, wspace=0.4)\n",
    "\n",
    "# Parameter 1: The number of rows \n",
    "# Parameter 2: The number of columns\n",
    "# Parameter 3: The graph position \n",
    "\n",
    "ax1 = fig.add_subplot(2, 2, 1)\n",
    "ax2 = fig.add_subplot(2, 2, 2)\n",
    "ax2.set(xlabel='Age')\n",
    "ax3 = fig.add_subplot(2, 2, 3)\n",
    "ax3.set(xlabel='Sex', ylabel='Count')\n",
    "ax4 = fig.add_subplot(2, 2, 4)\n",
    "\n",
    "\n",
    "# Use confusion matrix and labels\n",
    "sns.heatmap(conf_mat, annot=labels, fmt='', cmap='Blues', ax=ax1)\n",
    "\n",
    "# Use lists from violin plot\n",
    "sns.violinplot(benign_ages  + malignant_ages, flags, ax=ax2)\n",
    "\n",
    "# We use the lesion data to fill the remaining plots\n",
    "sns.countplot(x=\"Sex\", hue=\"Status\", data=lesion_data, ax=ax3)\n",
    "\n",
    "sns.scatterplot(x='Age', y=[i for i in range(len(lesion_data))], hue=\"Status\", data = lesion_data, ax=ax4)"
   ]
  },
  {
   "cell_type": "markdown",
   "metadata": {},
   "source": [
    "# What did you find out about malignant lesions? \n"
   ]
  },
  {
   "cell_type": "code",
   "execution_count": null,
   "metadata": {},
   "outputs": [],
   "source": []
  }
 ],
 "metadata": {
  "kernelspec": {
   "display_name": "Python 3",
   "language": "python",
   "name": "python3"
  },
  "language_info": {
   "codemirror_mode": {
    "name": "ipython",
    "version": 3
   },
   "file_extension": ".py",
   "mimetype": "text/x-python",
   "name": "python",
   "nbconvert_exporter": "python",
   "pygments_lexer": "ipython3",
   "version": "3.7.6"
  }
 },
 "nbformat": 4,
 "nbformat_minor": 4
}
