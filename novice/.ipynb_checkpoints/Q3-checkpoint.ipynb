{
 "cells": [
  {
   "cell_type": "markdown",
   "metadata": {},
   "source": [
    "# Overview \n",
    "\n",
    "This notebook contains all code and discussions for the __novice iteration__ of the research question involving __the distribution of different lesions__. The specific question asked, what is the distribution of the different types of lesion diagnosis? We specifically want to know if it is skewed.  At the novice level, this requires data acquisition and minimal pre-processing, coupled with exploratory charts.\n",
    "  \n",
    "\n",
    "\n",
    "# Table of Contents\n",
    "\n",
    "1. [Setup](#setup) <br>\n",
    "2. [Data Loading](#load) <br>\n",
    "\n",
    "3. [Data wrangling](#dw) <br>\n",
    "    i. [Population](#pop) <br>\n",
    "\n",
    "4. [Visualization](#viz)\n",
    "5. [Discussion](#Discuss)"
   ]
  },
  {
   "cell_type": "markdown",
   "metadata": {},
   "source": [
    "<a id='setup'></a>\n",
    "# Setup\n",
    "Import packages"
   ]
  },
  {
   "cell_type": "code",
   "execution_count": 7,
   "metadata": {},
   "outputs": [],
   "source": [
    "import PIL\n",
    "import cv2\n",
    "import os\n",
    "from os import listdir\n",
    "from os.path import isfile, join\n",
    "import json\n",
    "import numpy as np\n",
    "import seaborn as sns # pip install -U seaborn\n",
    "from matplotlib import pyplot as plt\n",
    "import pandas as pd"
   ]
  },
  {
   "cell_type": "markdown",
   "metadata": {},
   "source": [
    "# Load data from directories <a id='load'></a>\n",
    "Find current working directory"
   ]
  },
  {
   "cell_type": "code",
   "execution_count": 8,
   "metadata": {},
   "outputs": [],
   "source": [
    "directory = os.getcwd().split(\"\\\\\")[:-2]\n",
    "new_directory = \"\"\n",
    "for component in directory:\n",
    "    new_directory += component\n",
    "    new_directory += \"\\\\\""
   ]
  },
  {
   "cell_type": "markdown",
   "metadata": {},
   "source": [
    "Create paths to image and description folders"
   ]
  },
  {
   "cell_type": "code",
   "execution_count": 13,
   "metadata": {},
   "outputs": [
    {
     "name": "stdout",
     "output_type": "stream",
     "text": [
      "You have data\n"
     ]
    }
   ],
   "source": [
    "if 'sample_imgs' in listdir(new_directory):\n",
    "    print(\"You have data\")\n",
    "    images = new_directory + 'sample_imgs'# Enter image directory here\n",
    "    descriptions = new_directory + 'sample_dscs'# Enter description directory here\n",
    "    \n",
    "    # Creates paths to individual description files\n",
    "    des_paths = [join(descriptions, f) for f in listdir(descriptions) if isfile(join(descriptions, f))]\n",
    "else:\n",
    "    print(\"You need to download the images using the ISIC Downloader\")"
   ]
  },
  {
   "cell_type": "markdown",
   "metadata": {},
   "source": [
    "# Data wrangling <a id='dw'></a>"
   ]
  },
  {
   "cell_type": "code",
   "execution_count": 18,
   "metadata": {},
   "outputs": [],
   "source": [
    "age = []\n",
    "lesion_diagnosis = []"
   ]
  },
  {
   "cell_type": "markdown",
   "metadata": {},
   "source": [
    "### Populate the above lists by reading in data from the JSON files  <a id=\"pop\"></a>"
   ]
  },
  {
   "cell_type": "code",
   "execution_count": 19,
   "metadata": {},
   "outputs": [],
   "source": [
    "for im in des_paths:\n",
    "    with open(im) as json_file:\n",
    "        j = json.load(json_file)\n",
    "        \n",
    "        # To view json format uncomment the two lines below \n",
    "        #print(json.dumps(j, indent=4))\n",
    "        #break\n",
    "            \n",
    "        # Add their age to the age list\n",
    "        age.append(j[\"meta\"][\"clinical\"][\"age_approx\"])\n",
    "        \n",
    "        # Add all lesion diagnoses to the lesion diagnosis list\n",
    "        lesion_diagnosis.append(j[\"meta\"][\"clinical\"][\"diagnosis\"])"
   ]
  },
  {
   "cell_type": "markdown",
   "metadata": {},
   "source": [
    "Dataframe building for easy visualization"
   ]
  },
  {
   "cell_type": "code",
   "execution_count": 22,
   "metadata": {},
   "outputs": [],
   "source": [
    "diagnosis_data = pd.DataFrame({'Diagnosis': lesion_diagnosis, 'Age': age})"
   ]
  },
  {
   "cell_type": "markdown",
   "metadata": {},
   "source": [
    "# Visualization <a id='viz'></a>"
   ]
  },
  {
   "cell_type": "code",
   "execution_count": 23,
   "metadata": {},
   "outputs": [
    {
     "data": {
      "text/plain": [
       "<matplotlib.axes._subplots.AxesSubplot at 0x280bdac8a48>"
      ]
     },
     "execution_count": 23,
     "metadata": {},
     "output_type": "execute_result"
    },
    {
     "data": {
      "image/png": "[encoded data removed]",
      "text/plain": [
       "<Figure size 1008x720 with 1 Axes>"
      ]
     },
     "metadata": {
      "needs_background": "light"
     },
     "output_type": "display_data"
    }
   ],
   "source": [
    "fig = plt.figure(figsize=(14,10))\n",
    "fig.subplots_adjust(hspace=0.4, wspace=0.4)\n",
    "\n",
    "sns.histplot(diagnosis_data, x='Diagnosis')"
   ]
  },
  {
   "cell_type": "markdown",
   "metadata": {},
   "source": [
    "# What did you find out about the distribution of lesion diagnoses? <a id=\"Discuss\"></a>\n",
    "Does it resemble a common distribution?"
   ]
  },
  {
   "cell_type": "code",
   "execution_count": null,
   "metadata": {},
   "outputs": [],
   "source": []
  }
 ],
 "metadata": {
  "kernelspec": {
   "display_name": "Python 3",
   "language": "python",
   "name": "python3"
  },
  "language_info": {
   "codemirror_mode": {
    "name": "ipython",
    "version": 3
   },
   "file_extension": ".py",
   "mimetype": "text/x-python",
   "name": "python",
   "nbconvert_exporter": "python",
   "pygments_lexer": "ipython3",
   "version": "3.7.6"
  }
 },
 "nbformat": 4,
 "nbformat_minor": 4
}
