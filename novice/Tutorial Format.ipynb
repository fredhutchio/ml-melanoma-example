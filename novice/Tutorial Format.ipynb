{
 "cells": [
  {
   "cell_type": "markdown",
   "metadata": {},
   "source": [
    "# Overview \n",
    "\n",
    "exec summary what's the notebook for (which question, which level)\n",
    "\n",
    "1. novice level\n",
    "2. question..\n",
    "\n",
    "novice level - anmol's question #3\n",
    "\n",
    "\n",
    "# TOC\n",
    "\n",
    "I. Setpu link to the section below\n",
    "II. Methodology\n",
    "    i. Data\n",
    "    ii. Question\n",
    "\n",
    "# Setup\n",
    "\n",
    "Code we already used / Recap Section / Import stuff we already did/libraries section\n",
    "\n",
    "- import pandas etc\n",
    "- import code you've already written (like downloading or processing images) \n",
    "- discuss stuff that happened already\n",
    "- assets.py script later if we have time (nice to have, complicated) \n",
    "\n",
    "# Load Data\n",
    "\n",
    "- access if they already have it downloaded\n",
    "- for first question, hand-hold through it, important screenshots with link to setup notebook \n",
    "- open with PIL/whatever tool \n",
    "\n",
    "# You & I just come up with whatever section names and style we need\n",
    "\n",
    "__document in table of contents__\n",
    "\n",
    "note: pose final \"question\" as questions to the user, we're just giving them the tools \n",
    "\n",
    "what did you find?/report your findings\n",
    "maybe even a cell for them to fill in discussion/notes that they have\n",
    "\n",
    "e.g., data pre processing is different for us two\n",
    "\n",
    "they need to enter details like directory locations etc themselves\n",
    "\n"
   ]
  },
  {
   "cell_type": "markdown",
   "metadata": {},
   "source": []
  }
 ],
 "metadata": {
  "kernelspec": {
   "display_name": "Python 3",
   "language": "python",
   "name": "python3"
  },
  "language_info": {
   "codemirror_mode": {
    "name": "ipython",
    "version": 3
   },
   "file_extension": ".py",
   "mimetype": "text/x-python",
   "name": "python",
   "nbconvert_exporter": "python",
   "pygments_lexer": "ipython3",
   "version": "3.7.6"
  }
 },
 "nbformat": 4,
 "nbformat_minor": 4
}
