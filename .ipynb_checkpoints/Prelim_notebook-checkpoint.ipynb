{
 "cells": [
  {
   "cell_type": "markdown",
   "metadata": {},
   "source": [
    "### Whether malignant lesions occur more along some gender or age line (show subplots from matplotlib)? "
   ]
  },
  {
   "cell_type": "markdown",
   "metadata": {},
   "source": [
    "### What is the essential frequency distribution of lesion diagnosis? Is it skewed (overall and within categories)? \n",
    "\n",
    "Histogram where each thing is the type of diagnosis vs. its count (scatter plots, bar charts, etc.)"
   ]
  },
  {
   "cell_type": "code",
   "execution_count": 1,
   "metadata": {},
   "outputs": [],
   "source": [
    "import PIL\n",
    "import cv2\n",
    "import os\n",
    "from os import listdir\n",
    "from os.path import isfile, join"
   ]
  },
  {
   "cell_type": "code",
   "execution_count": 2,
   "metadata": {},
   "outputs": [],
   "source": [
    "directory = os.getcwd().split(\"\\\\\")[:-1]\n",
    "directory.append('ISIC-Archive-Downloader')"
   ]
  },
  {
   "cell_type": "code",
   "execution_count": 3,
   "metadata": {},
   "outputs": [],
   "source": [
    "new_directory = \"\"\n",
    "for component in directory:\n",
    "    new_directory += component\n",
    "    new_directory += \"\\\\\""
   ]
  },
  {
   "cell_type": "code",
   "execution_count": 4,
   "metadata": {},
   "outputs": [
    {
     "name": "stdout",
     "output_type": "stream",
     "text": [
      "You have data\n"
     ]
    }
   ],
   "source": [
    "if 'Data' in listdir(new_directory):\n",
    "    print(\"You have data\")\n",
    "    all_files = new_directory + 'Data'\n",
    "    images = all_files + '\\\\Images'\n",
    "    descriptions = all_files + '\\\\Descriptions'\n",
    "    \n",
    "else:\n",
    "    print(\"You need to download the images using the ISIC Downloader\")"
   ]
  },
  {
   "cell_type": "code",
   "execution_count": null,
   "metadata": {},
   "outputs": [],
   "source": []
  }
 ],
 "metadata": {
  "kernelspec": {
   "display_name": "Python 3",
   "language": "python",
   "name": "python3"
  },
  "language_info": {
   "codemirror_mode": {
    "name": "ipython",
    "version": 3
   },
   "file_extension": ".py",
   "mimetype": "text/x-python",
   "name": "python",
   "nbconvert_exporter": "python",
   "pygments_lexer": "ipython3",
   "version": "3.7.6"
  }
 },
 "nbformat": 4,
 "nbformat_minor": 4
}
