{
 "cells": [
  {
   "cell_type": "markdown",
   "metadata": {},
   "source": [
    "# Overview\n",
    "\n",
    "This notebook contains all code and discussions for the __intermediate iteration__ of the research question involving __lesion coloration and malignancy__. The specific question is whether, to a statistically significant degree, coloration (*i.e.*, darkness or intensity) can be used to predict malignancy (*i.e.*, occurrence of malignant diagnosis). At this level, the question involves ANOVA and logistic regression techniques. It is an advancement of [the novice module](../novice/Q1.ipynb) on this topic.\n",
    "\n",
    "# Table of Content\n",
    "\n",
    "I. [Setup](#s)\n",
    "\n",
    "II. [Data Retrieval](#dr)\n",
    "\n",
    "1. [File Access](#fa)\n",
    "2. [Loading & Processing](#lp)\n",
    "\n",
    "III. [Analysis](#anl)\n",
    "\n",
    "1. [ANOVA](#anova)\n",
    "2. [Logistic Regression](#lr)\n",
    "\n",
    "\n",
    "IV. [Discussion](#discuss)"
   ]
  },
  {
   "cell_type": "markdown",
   "metadata": {},
   "source": [
    "# Setup <a id='s'></a>\n",
    "\n",
    "Refer to [this module](../novice/Data_Download.ipynb) for replicating the data-download process using the ISIC Python tool. The command is repeated below, although file/directory locations may need adjustment. \n",
    "\n",
    "`\n",
    "python download_archive.py \\\n",
    "--num-images=50 \\ \n",
    "--images-dir ../../sample_imgs \\ \n",
    "--descs-dir ../../sample_dscs -s \\ \n",
    "--seg-dir ../../sample_segs --seg-skill expert\n",
    "`\n",
    "\n",
    "The following are necessary imports for this module."
   ]
  },
  {
   "cell_type": "code",
   "execution_count": 1,
   "metadata": {},
   "outputs": [],
   "source": [
    "# file access\n",
    "import json\n",
    "import glob \n",
    "\n",
    "# image handling\n",
    "from PIL import Image\n",
    "\n",
    "# data manipulation and visualization\n",
    "import numpy as np\n",
    "import pandas as pd\n",
    "from matplotlib import pyplot as plt\n",
    "\n",
    "# analysis\n",
    "from scipy.stats import f_oneway\n",
    "from sklearn.preprocessing import LabelEncoder\n",
    "from sklearn.model_selection import train_test_split\n",
    "from sklearn.model_selection import GridSearchCV\n",
    "from sklearn.linear_model import LogisticRegression\n",
    "from sklearn.metrics import f1_score\n",
    "from sklearn.metrics import plot_roc_curve"
   ]
  },
  {
   "cell_type": "markdown",
   "metadata": {},
   "source": [
    "# Data Retrieval <a id='dr'></a>\n",
    "\n",
    "## File Access <a id='fa'></a>\n",
    "\n",
    "As seen in novice modules, all three pieces of data are needed in this question: images, segmentations, and descriptions. Load as before."
   ]
  },
  {
   "cell_type": "code",
   "execution_count": 2,
   "metadata": {},
   "outputs": [
    {
     "name": "stdout",
     "output_type": "stream",
     "text": [
      "50 images\n",
      "50 segmentation files\n",
      "50 descriptions\n"
     ]
    }
   ],
   "source": [
    "img_filepaths = glob.glob('../../sample_imgs/*.jp*')\n",
    "seg_filepaths = glob.glob('../../sample_segs/*.png')\n",
    "dsc_filepaths = glob.glob('../../sample_dscs/*')\n",
    "\n",
    "print(len(img_filepaths), 'images')\n",
    "print(len(seg_filepaths), 'segmentation files')\n",
    "print(len(dsc_filepaths), 'descriptions')"
   ]
  },
  {
   "cell_type": "markdown",
   "metadata": {},
   "source": [
    "Loop through the image filepaths to make sure the identifying numbers in every $k^{th}$ image file matches the number in the corresponding $k^{th}$ segmentation and description files. That is, check that the corresponding elements of the three lists refer to the same data point."
   ]
  },
  {
   "cell_type": "code",
   "execution_count": 3,
   "metadata": {},
   "outputs": [
    {
     "name": "stdout",
     "output_type": "stream",
     "text": [
      "Validated.\n"
     ]
    }
   ],
   "source": [
    "for i in range(len(img_filepaths)):\n",
    "    img_num = int(img_filepaths[i].split('_')[-1].split('.')[0])\n",
    "    seg_num = int(seg_filepaths[i].split('_')[-2])\n",
    "    dsc_num = int(dsc_filepaths[i].split('_')[-1])   \n",
    "    wrong_dsc = (dsc_num != img_num) or (dsc_num != seg_num)\n",
    "    wrong_seg = seg_num != img_num  \n",
    "    if wrong_dsc or wrong_seg:\n",
    "        print(\"Error in file order\")\n",
    "        break\n",
    "print('File order validated.')"
   ]
  },
  {
   "cell_type": "markdown",
   "metadata": {},
   "source": [
    "## Loading & Processing <a id='lp'></a>\n",
    "\n",
    "There's only one required part of the description files, which is the benign/malignant indicator. Descriptions (JSON format) have this information nested in the `clinical`-`meta`-`benign_malignant` key."
   ]
  },
  {
   "cell_type": "code",
   "execution_count": 4,
   "metadata": {},
   "outputs": [
    {
     "data": {
      "text/plain": [
       "{'_id': '5436e3abbae478396759f0cf',\n",
       " '_modelType': 'image',\n",
       " 'created': '2014-10-09T19:36:11.989000+00:00',\n",
       " 'creator': {'_id': '5450e996bae47865794e4d0d', 'name': 'User 6VSN'},\n",
       " 'dataset': {'_accessLevel': 0,\n",
       "  '_id': '5a2ecc5e1165975c945942a2',\n",
       "  'description': 'Moles and melanomas.\\nBiopsy-confirmed melanocytic lesions. Both malignant and benign lesions are included.',\n",
       "  'license': 'CC-0',\n",
       "  'name': 'UDA-1',\n",
       "  'updated': '2014-11-10T02:39:56.492000+00:00'},\n",
       " 'meta': {'acquisition': {'image_type': 'dermoscopic',\n",
       "   'pixelsX': 1022,\n",
       "   'pixelsY': 767},\n",
       "  'clinical': {'age_approx': 55,\n",
       "   'anatom_site_general': 'anterior torso',\n",
       "   'benign_malignant': 'benign',\n",
       "   'diagnosis': 'nevus',\n",
       "   'diagnosis_confirm_type': None,\n",
       "   'melanocytic': True,\n",
       "   'sex': 'female'}},\n",
       " 'name': 'ISIC_0000000',\n",
       " 'notes': {'reviewed': {'accepted': True,\n",
       "   'time': '2014-11-10T02:39:56.492000+00:00',\n",
       "   'userId': '5436c6e7bae4780a676c8f93'},\n",
       "  'tags': ['Challenge 2018: Task 1-2: Training',\n",
       "   'Challenge 2019: Training',\n",
       "   'Challenge 2016: Training',\n",
       "   'Challenge 2017: Training']},\n",
       " 'updated': '2015-02-23T02:48:17.495000+00:00'}"
      ]
     },
     "execution_count": 4,
     "metadata": {},
     "output_type": "execute_result"
    }
   ],
   "source": [
    "json.load(open(dsc_filepaths[0], 'r'))"
   ]
  },
  {
   "cell_type": "markdown",
   "metadata": {},
   "source": [
    "Create a new list where each $k^{th}$ description is represented by the $k^{th}$ malignancy value."
   ]
  },
  {
   "cell_type": "code",
   "execution_count": 5,
   "metadata": {},
   "outputs": [
    {
     "name": "stdout",
     "output_type": "stream",
     "text": [
      "Data point #0: benign\n",
      "Data point #1: benign\n",
      "Data point #2: malignant\n"
     ]
    }
   ],
   "source": [
    "dscs = [json.load(open(x, 'r'))['meta']['clinical'] for x in dsc_filepaths]\n",
    "flags = [x['benign_malignant'] for x in dscs]\n",
    "\n",
    "# sample output\n",
    "for i in range(3):\n",
    "    print('Data point #%d: %s' % (i, flags[i]))"
   ]
  },
  {
   "cell_type": "markdown",
   "metadata": {},
   "source": [
    "The image files need to be opened and made into matrices. The matrices have the following structure:\n",
    "\n",
    "- *m* rows\n",
    "    - *n* columns per row\n",
    "        - *3* pixel values (RGB order or red, green, blue pixel values) per column \n",
    "        \n",
    "All images can be opened according to this pattern."
   ]
  },
  {
   "cell_type": "code",
   "execution_count": 6,
   "metadata": {},
   "outputs": [],
   "source": [
    "images = [Image.open(x).resize((400,300)) for x in img_filepaths]\n",
    "images = [np.array(x.convert('RGB')) for x in images]"
   ]
  },
  {
   "cell_type": "markdown",
   "metadata": {},
   "source": [
    "Segmentation files, as seen in previous modules, can be opened without RGB notation. Their structure is:\n",
    " \n",
    "- *m* rows\n",
    "    - *n* columns\n",
    "        - *1* value (0 for benign, 1 for malignant) per column (not an array of 3 like in the images)"
   ]
  },
  {
   "cell_type": "code",
   "execution_count": 7,
   "metadata": {},
   "outputs": [],
   "source": [
    "segs = [Image.open(x).resize((400,300)) for x in seg_filepaths]\n",
    "segs = [np.array(x) for x in segs]"
   ]
  },
  {
   "cell_type": "markdown",
   "metadata": {},
   "source": [
    "The next step is to use the segmentations to extract only the lesion part of the images. Notice how the segmentation creates a boundary; coordinates in the dark area are not relevant."
   ]
  },
  {
   "cell_type": "code",
   "execution_count": 8,
   "metadata": {},
   "outputs": [
    {
     "data": {
      "image/png": "[encoded data removed]",
      "text/plain": [
       "<Figure size 432x288 with 2 Axes>"
      ]
     },
     "metadata": {
      "needs_background": "light"
     },
     "output_type": "display_data"
    }
   ],
   "source": [
    "fig, axs = plt.subplots(1,2)\n",
    "axs[0].imshow(images[0])\n",
    "axs[1].imshow(segs[0])\n",
    "plt.show()"
   ]
  },
  {
   "cell_type": "markdown",
   "metadata": {},
   "source": [
    "The above images give an idea of how to extract the meaningful portion. Although the segmentation appears colored, it is actually black and white. At any location *m,n*, a 0 indicates a black (non-relevant pixel), and non-0 value indicates lesion area. Test by locating points that are visibly inside the lesion area."
   ]
  },
  {
   "cell_type": "code",
   "execution_count": 9,
   "metadata": {},
   "outputs": [
    {
     "name": "stdout",
     "output_type": "stream",
     "text": [
      "At row 100, column 300 the segmentation value is non-black/non-0: 255\n",
      "At row 10, column 50 the segmentation value is black/0: 0\n"
     ]
    }
   ],
   "source": [
    "# naked-eye test for location in the lesion area at row 100, column 300\n",
    "x1, s1 = images[0][100,300], segs[0][100,300]\n",
    "print('At row 100, column 300 the segmentation value is non-black/non-0:', s1)\n",
    "\n",
    "# naked-eye test for location outside at row 10, column 50\n",
    "x1, s1 = images[0][10,50], segs[0][10,50]\n",
    "print('At row 10, column 50 the segmentation value is black/0:', s1)"
   ]
  },
  {
   "cell_type": "markdown",
   "metadata": {},
   "source": [
    "If a black pixel occurs within the lesion, it is part of the lesion's coloring, and should be counted (to distinguish between very dark and very very dark cells, for example). With this in mind, use indexing to extract the lesion-only portion for a sample image."
   ]
  },
  {
   "cell_type": "code",
   "execution_count": 10,
   "metadata": {},
   "outputs": [],
   "source": [
    "test_img = images[0]\n",
    "test_seg = segs[0]"
   ]
  },
  {
   "cell_type": "markdown",
   "metadata": {},
   "source": [
    "Find all non-0 (non-black) occurrences in the segmentation. WHAT DOES THE RESULT MEAN (FIXME?)"
   ]
  },
  {
   "cell_type": "code",
   "execution_count": 11,
   "metadata": {},
   "outputs": [
    {
     "data": {
      "text/plain": [
       "(array([ 17,  17,  17, ..., 248, 248, 248]),\n",
       " array([250, 251, 252, ..., 254, 255, 256]))"
      ]
     },
     "execution_count": 11,
     "metadata": {},
     "output_type": "execute_result"
    }
   ],
   "source": [
    "idxs = np.where(test_seg)\n",
    "idxs"
   ]
  },
  {
   "cell_type": "markdown",
   "metadata": {},
   "source": [
    "Use these locations to extract only the lesion portions of the image."
   ]
  },
  {
   "cell_type": "code",
   "execution_count": 12,
   "metadata": {},
   "outputs": [
    {
     "name": "stdout",
     "output_type": "stream",
     "text": [
      "RGB at location #0 where segmentation is non-0: [155 186 216]\n",
      "RGB at location #1 where segmentation is non-0: [156 187 217]\n",
      "RGB at location #2 where segmentation is non-0: [157 187 216]\n"
     ]
    }
   ],
   "source": [
    "test_rdx = test_img[idxs]\n",
    "for i in range(3):\n",
    "    rgb = test_rdx[i]\n",
    "    print('RGB at location #%d where segmentation is non-0: %s' % (i, rgb))"
   ]
  },
  {
   "cell_type": "markdown",
   "metadata": {},
   "source": [
    "Apply this filtering to all images. Each element of the resulting list represents one image, and consists of a non-constant amount of triplets representing the relevant RGB pixels for that image. "
   ]
  },
  {
   "cell_type": "code",
   "execution_count": 13,
   "metadata": {},
   "outputs": [],
   "source": [
    "image_rdxs = []\n",
    "for i in range(len(segs)):\n",
    "    idxs = np.where(segs[i]) # clarify that default is checking 0 value\n",
    "    image_rdx = images[i][idxs] # test code that shows how np.where successfully tells you the right locations\n",
    "    image_rdxs.append(image_rdx)"
   ]
  },
  {
   "cell_type": "markdown",
   "metadata": {},
   "source": [
    "# Analysis <a id='anl'></a>\n",
    "\n",
    "## ANOVA <a id='anova'></a>\n",
    "\n",
    "If the above list represents image \"subsets\", ANOVA can be used to identify significant differences in color among these subsets, given some grouping thereof. First, the subsets have to be boiled down from lists of RGB values to one value. See the first data point:"
   ]
  },
  {
   "cell_type": "code",
   "execution_count": 14,
   "metadata": {},
   "outputs": [
    {
     "data": {
      "text/plain": [
       "array([[155, 186, 216],\n",
       "       [156, 187, 217],\n",
       "       [157, 187, 216],\n",
       "       ...,\n",
       "       [164, 181, 214],\n",
       "       [164, 181, 215],\n",
       "       [163, 180, 215]], dtype=uint8)"
      ]
     },
     "execution_count": 14,
     "metadata": {},
     "output_type": "execute_result"
    }
   ],
   "source": [
    "image_rdxs[0]"
   ]
  },
  {
   "cell_type": "markdown",
   "metadata": {},
   "source": [
    "In each RGB triplet, the first value is the red pixel value, the second the green value, and lastly the blue value. Access the mean red, green, and blue values across all these triplets. "
   ]
  },
  {
   "cell_type": "code",
   "execution_count": 15,
   "metadata": {},
   "outputs": [
    {
     "name": "stdout",
     "output_type": "stream",
     "text": [
      "Mean R: 88.1, mean G: 80.7, mean B: 86.5\n"
     ]
    }
   ],
   "source": [
    "R, G, B = np.mean(image_rdxs[0], axis=0)\n",
    "print('Mean R: %0.1f, mean G: %0.1f, mean B: %0.1f' % (R,G,B))"
   ]
  },
  {
   "cell_type": "markdown",
   "metadata": {},
   "source": [
    "This can be turned into a single, hexadecimal number (how colors are commonly represented), yielding one numeric summary of the averaged RGB-combination in this image."
   ]
  },
  {
   "cell_type": "code",
   "execution_count": 16,
   "metadata": {},
   "outputs": [
    {
     "name": "stdout",
     "output_type": "stream",
     "text": [
      "The hex representation is 585056\n"
     ]
    }
   ],
   "source": [
    "hex_value = '%02x%02x%02x' % (int(R), int(G), int(B))\n",
    "print('The hex representation is', hex_value)"
   ]
  },
  {
   "cell_type": "markdown",
   "metadata": {},
   "source": [
    "Apply to all images."
   ]
  },
  {
   "cell_type": "code",
   "execution_count": 17,
   "metadata": {},
   "outputs": [
    {
     "name": "stdout",
     "output_type": "stream",
     "text": [
      "Image #0 as hex: 585056\n",
      "Image #1 as hex: 52392d\n",
      "Image #2 as hex: 826d71\n"
     ]
    }
   ],
   "source": [
    "rgb_means = [np.mean(x, axis=0) for x in image_rdxs]\n",
    "rgb_means = [(int(r), int(g), int(b)) for (r,g,b) in rgb_means]\n",
    "hex_values = ['%02x%02x%02x' % (r,g,b) for (r,g,b) in rgb_means]\n",
    "\n",
    "# sample output\n",
    "for i in range(3):\n",
    "    print('Image #%d as hex: %s' % (i, hex_values[i]))"
   ]
  },
  {
   "cell_type": "markdown",
   "metadata": {},
   "source": [
    "Now apply a grouping to these colors. Turn the hex values into their integer counterparts, and sort the images from light to dark (*e.g.*, lowest int values to darkest)."
   ]
  },
  {
   "cell_type": "code",
   "execution_count": 18,
   "metadata": {},
   "outputs": [],
   "source": [
    "hex_to_int = [int(x,16) for x in hex_values]\n",
    "sorted_ints = sorted(hex_to_int)"
   ]
  },
  {
   "cell_type": "markdown",
   "metadata": {},
   "source": [
    "An example grouping is given: the lightest four images are the 'light' group, the next four are the 'medium' group, the remaining darkest colors are the 'dark' group."
   ]
  },
  {
   "cell_type": "code",
   "execution_count": 19,
   "metadata": {},
   "outputs": [],
   "source": [
    "light, med, dark = sorted_ints[:4], sorted_ints[4:8], sorted_ints[8:]"
   ]
  },
  {
   "cell_type": "markdown",
   "metadata": {},
   "source": [
    "Performing one-way ANOVA (no response) gives a test statistic and p-value. If p < 0.05 (the common standard), reject the null hypothesis (no significant difference among groups) and argue in favor of the alternative hypothesis.\n",
    "\n",
    "__*Note:*__ the alternative hypothesis in this case argues that there is significant difference in __color__ among these images. It says that there are non-trivial differences in color among the groups, and so the data is not an essentially identical set of images."
   ]
  },
  {
   "cell_type": "code",
   "execution_count": 20,
   "metadata": {},
   "outputs": [
    {
     "data": {
      "text/plain": [
       "F_onewayResult(statistic=26.455563979269257, pvalue=2.0108232776775616e-08)"
      ]
     },
     "execution_count": 20,
     "metadata": {},
     "output_type": "execute_result"
    }
   ],
   "source": [
    "f_oneway(light, med, dark)"
   ]
  },
  {
   "cell_type": "markdown",
   "metadata": {},
   "source": [
    "## Logistic Regression <a id='lr'></a>\n",
    "\n",
    "To predict malignancy based on color, notice the binary response (benign/malignant) and multiple predictors (mean R, mean G, mean B). Logistic Regression is perfect for such a binary classification problem. The hexadecimal operations aren't even needed, since each color channel can be entered as a separate attribute. \n",
    "\n",
    "Begin with the response variables. They are still in the order in which they were loaded from files, and can be encoded into binary numeric outcomes. Benign is 0, malignant is 1. "
   ]
  },
  {
   "cell_type": "code",
   "execution_count": 21,
   "metadata": {},
   "outputs": [
    {
     "data": {
      "text/plain": [
       "(50,)"
      ]
     },
     "execution_count": 21,
     "metadata": {},
     "output_type": "execute_result"
    }
   ],
   "source": [
    "le = LabelEncoder()\n",
    "y = le.fit_transform(flags)\n",
    "y.shape"
   ]
  },
  {
   "cell_type": "markdown",
   "metadata": {},
   "source": [
    "Mean R,G,B values have already been obtained for each image. Refer to the step prior to sorting color values."
   ]
  },
  {
   "cell_type": "code",
   "execution_count": 22,
   "metadata": {},
   "outputs": [
    {
     "name": "stdout",
     "output_type": "stream",
     "text": [
      "RGB for Image 0 is (88, 80, 86)\n",
      "RGB for Image 1 is (82, 57, 45)\n",
      "RGB for Image 2 is (130, 109, 113)\n"
     ]
    }
   ],
   "source": [
    "for i in range(3):\n",
    "    print('RGB for Image %d is %s' % (i, rgb_means[i]))"
   ]
  },
  {
   "cell_type": "markdown",
   "metadata": {},
   "source": [
    "Transform into a numeric array, and then create splits of the data for training, validating, and testing the model."
   ]
  },
  {
   "cell_type": "code",
   "execution_count": 23,
   "metadata": {},
   "outputs": [
    {
     "name": "stdout",
     "output_type": "stream",
     "text": [
      "(40, 3) (10, 3)\n",
      "(40,) (10,)\n"
     ]
    }
   ],
   "source": [
    "X = np.array(rgb_means)\n",
    "X_train, X_test, y_train, y_test = train_test_split(X, y, test_size=0.2, random_state=1000)\n",
    "\n",
    "# verify results\n",
    "print(X_train.shape, X_test.shape)\n",
    "print(y_train.shape, y_test.shape)"
   ]
  },
  {
   "cell_type": "markdown",
   "metadata": {},
   "source": [
    "Set up Logistic Regression using the F1 metric for the binary classification problem (this is a weighted mean of precision and recall, and relevant to this task). Create a 'grid' of hyper-parameters for the internal Logistic Regression training process, so that the best combinations thereof can be found. Finally, train on training data and show progress."
   ]
  },
  {
   "cell_type": "code",
   "execution_count": 50,
   "metadata": {},
   "outputs": [
    {
     "name": "stdout",
     "output_type": "stream",
     "text": [
      "Optimized parameters {'C': 10.0, 'penalty': 'l1'}\n"
     ]
    },
    {
     "data": {
      "text/plain": [
       "LogisticRegression(C=0.001, class_weight=None, dual=False, fit_intercept=True,\n",
       "                   intercept_scaling=1, l1_ratio=None, max_iter=200,\n",
       "                   multi_class='auto', n_jobs=None, penalty='l1',\n",
       "                   random_state=None, solver='liblinear', tol=0.0001, verbose=0,\n",
       "                   warm_start=False)"
      ]
     },
     "execution_count": 50,
     "metadata": {},
     "output_type": "execute_result"
    }
   ],
   "source": [
    "# l1 refers to lasso regression, l2 to ridge regression\n",
    "hyperparameters = {'C': np.logspace(-3,2,6), 'penalty':['l1', 'l2']} \n",
    "\n",
    "# default 5-fold CV is used\n",
    "clf = GridSearchCV(LogisticRegression(solver='liblinear'), hyperparameters, scoring='f1') # is scoring by f1 wrong?\n",
    "clf.fit(X_train, y_train)\n",
    "print('Optimized parameters', clf.best_params_)\n",
    "\n",
    "lr = LogisticRegression(solver='liblinear', penalty='l1', C=0.001, max_iter=200)\n",
    "lr.fit(X_train, y_train)"
   ]
  },
  {
   "cell_type": "markdown",
   "metadata": {},
   "source": [
    "Output F1-based performance from the model, on test data to determine generalizability. This value should be close to 1 (the maximum) and far from 0. "
   ]
  },
  {
   "cell_type": "code",
   "execution_count": 51,
   "metadata": {},
   "outputs": [
    {
     "name": "stdout",
     "output_type": "stream",
     "text": [
      "F1: 0.0\n"
     ]
    }
   ],
   "source": [
    "preds_test = lr.predict(X_test)\n",
    "f1 = f1_score(y_test, preds_test) # try again\n",
    "print('F1:', f1)"
   ]
  },
  {
   "cell_type": "code",
   "execution_count": 52,
   "metadata": {},
   "outputs": [
    {
     "name": "stdout",
     "output_type": "stream",
     "text": [
      "[0 0 0 0 1 0 0 1 1 0]\n",
      "[0 0 0 0 0 0 0 0 0 0]\n",
      "0.7\n"
     ]
    }
   ],
   "source": [
    "print(y_test)\n",
    "print(preds_test)\n",
    "print(np.mean(y_test == preds_test))\n",
    "# calc prec/recall yourself and see if different"
   ]
  },
  {
   "cell_type": "markdown",
   "metadata": {},
   "source": [
    "For a more visual result, consider the ROC plot, which should maximize the Area Under Curve (AUC)."
   ]
  },
  {
   "cell_type": "code",
   "execution_count": 53,
   "metadata": {},
   "outputs": [
    {
     "data": {
      "text/plain": [
       "<sklearn.metrics._plot.roc_curve.RocCurveDisplay at 0x7f7c068eb250>"
      ]
     },
     "execution_count": 53,
     "metadata": {},
     "output_type": "execute_result"
    },
    {
     "data": {
      "image/png": "[encoded data removed]",
      "text/plain": [
       "<Figure size 432x288 with 1 Axes>"
      ]
     },
     "metadata": {
      "needs_background": "light"
     },
     "output_type": "display_data"
    }
   ],
   "source": [
    "plot_roc_curve(clf, X_test, y_test)"
   ]
  },
  {
   "cell_type": "markdown",
   "metadata": {},
   "source": [
    "# Discussion <a id='discuss'></a>\n",
    "\n",
    "*__ANOVA__*\n",
    "\n",
    "*Discuss the findings revealed by ANOVA on the manual groupings of images by coloration.*\n",
    "\n",
    "*__Logistic Regression__*\n",
    "\n",
    "*Discuss the impact and accuracy of Logistic Regression on malignancy using colors as predictors.*"
   ]
  }
 ],
 "metadata": {
  "kernelspec": {
   "display_name": "Python 3",
   "language": "python",
   "name": "python3"
  },
  "language_info": {
   "codemirror_mode": {
    "name": "ipython",
    "version": 3
   },
   "file_extension": ".py",
   "mimetype": "text/x-python",
   "name": "python",
   "nbconvert_exporter": "python",
   "pygments_lexer": "ipython3",
   "version": "3.7.4"
  }
 },
 "nbformat": 4,
 "nbformat_minor": 4
}
