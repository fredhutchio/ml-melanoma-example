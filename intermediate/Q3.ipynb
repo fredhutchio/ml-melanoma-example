{
 "cells": [
  {
   "cell_type": "markdown",
   "metadata": {},
   "source": [
    "# Overview\n",
    "\n",
    "This notebook contains all code and discussions for the __intermediate iteration__ of the research question involving __lesion diagnosis/type and malignancy__. The specific question asked is whether there are statistically significant differences between the malignancy rates of different types of lesion diagnoses. This is an advanced version of [this novice module](../novice/Q3.ipynb) revolving around the same features.\n",
    "\n",
    "# Table of Contents\n",
    "\n",
    "I. [Setup](#setup)\n",
    "\n",
    "II. [Data Retrieval](#dr)\n",
    "\n",
    "1. [File Access](#fa)\n",
    "2. [Loading & Processing](#lp)\n",
    "\n",
    "III. [Analysis](#anl)\n",
    "\n",
    "1. [Experimental Design](#ed)\n",
    "2. [](#)\n",
    "\n",
    "IV. [Discussion](#d)\n",
    "\n",
    "# Setup\n",
    "\n",
    "Refer to [this module](../novice/Data_Download.ipynb) for replicating the data-download process using the ISIC Python tool. The command is repeated below, although file/directory locations may need adjustment. \n",
    "\n",
    "`\n",
    "python download_archive.py \\\n",
    "--num-images=50 \\ \n",
    "--images-dir ../../sample_imgs \\ \n",
    "--descs-dir ../../sample_dscs -s \\ \n",
    "--seg-dir ../../sample_segs --seg-skill expert\n",
    "`\n",
    "\n",
    "The following are necessary imports for this module."
   ]
  },
  {
   "cell_type": "code",
   "execution_count": 6,
   "metadata": {},
   "outputs": [],
   "source": [
    "# data retrieval\n",
    "import glob\n",
    "import json\n",
    "\n",
    "# data manipulation, analysis, and visualization\n",
    "import pandas as pd\n",
    "import matplotlib.pyplot as plt"
   ]
  },
  {
   "cell_type": "markdown",
   "metadata": {},
   "source": [
    "# Data Retrieval\n",
    "\n",
    "# File Access\n",
    "\n",
    "Note that image manipulation is not actually needed for this module. This shortens data retrieval; the same `glob.glob` functionality as before can be used, to get an array of paths for description files only."
   ]
  },
  {
   "cell_type": "code",
   "execution_count": 2,
   "metadata": {},
   "outputs": [
    {
     "name": "stdout",
     "output_type": "stream",
     "text": [
      "Descriptions:  50\n"
     ]
    }
   ],
   "source": [
    "dsc_filepaths = glob.glob('../../sample_dscs/*')\n",
    "print('Descriptions: ', len(dsc_filepaths))"
   ]
  },
  {
   "cell_type": "markdown",
   "metadata": {},
   "source": [
    "# Loading & Processing\n",
    "\n",
    "Descriptions are stored in JSON format as before. Opening a single file is useful for determining the attributes of interest. Here, the attributes `benign_malignant` and `diagnosis` (nested in the `clinical` attribute of the `meta` key) are direct representations of the features in question above."
   ]
  },
  {
   "cell_type": "code",
   "execution_count": 3,
   "metadata": {},
   "outputs": [
    {
     "data": {
      "text/plain": [
       "{'_id': '5436e3abbae478396759f0cf',\n",
       " '_modelType': 'image',\n",
       " 'created': '2014-10-09T19:36:11.989000+00:00',\n",
       " 'creator': {'_id': '5450e996bae47865794e4d0d', 'name': 'User 6VSN'},\n",
       " 'dataset': {'_accessLevel': 0,\n",
       "  '_id': '5a2ecc5e1165975c945942a2',\n",
       "  'description': 'Moles and melanomas.\\nBiopsy-confirmed melanocytic lesions. Both malignant and benign lesions are included.',\n",
       "  'license': 'CC-0',\n",
       "  'name': 'UDA-1',\n",
       "  'updated': '2014-11-10T02:39:56.492000+00:00'},\n",
       " 'meta': {'acquisition': {'image_type': 'dermoscopic',\n",
       "   'pixelsX': 1022,\n",
       "   'pixelsY': 767},\n",
       "  'clinical': {'age_approx': 55,\n",
       "   'anatom_site_general': 'anterior torso',\n",
       "   'benign_malignant': 'benign',\n",
       "   'diagnosis': 'nevus',\n",
       "   'diagnosis_confirm_type': None,\n",
       "   'melanocytic': True,\n",
       "   'sex': 'female'}},\n",
       " 'name': 'ISIC_0000000',\n",
       " 'notes': {'reviewed': {'accepted': True,\n",
       "   'time': '2014-11-10T02:39:56.492000+00:00',\n",
       "   'userId': '5436c6e7bae4780a676c8f93'},\n",
       "  'tags': ['Challenge 2018: Task 1-2: Training',\n",
       "   'Challenge 2019: Training',\n",
       "   'Challenge 2016: Training',\n",
       "   'Challenge 2017: Training']},\n",
       " 'updated': '2015-02-23T02:48:17.495000+00:00'}"
      ]
     },
     "execution_count": 3,
     "metadata": {},
     "output_type": "execute_result"
    }
   ],
   "source": [
    "json.load(open(dsc_filepaths[0], 'r'))"
   ]
  },
  {
   "cell_type": "markdown",
   "metadata": {},
   "source": [
    "Each data point can hence be thought of as a (malignancy, diagnosis type) pair or tuple. We can iterate over all filepaths, extract the two variable values, and format them this way, as follows."
   ]
  },
  {
   "cell_type": "code",
   "execution_count": 4,
   "metadata": {},
   "outputs": [
    {
     "name": "stdout",
     "output_type": "stream",
     "text": [
      "Data point #0: ('benign', 'nevus')\n",
      "Data point #1: ('benign', 'nevus')\n",
      "Data point #2: ('malignant', 'melanoma')\n"
     ]
    }
   ],
   "source": [
    "# first load descriptions, and extract clinical variables\n",
    "dscs = [json.load(open(x, 'r'))['meta']['clinical'] for x in dsc_filepaths]\n",
    "\n",
    "# make a list of data points, with relevant variables only\n",
    "data = [(x['benign_malignant'], x['diagnosis']) for x in dscs]\n",
    "\n",
    "# sample output\n",
    "for i in range(3):\n",
    "    print('Data point #%d: %s' % (i, data[i]))"
   ]
  },
  {
   "cell_type": "markdown",
   "metadata": {},
   "source": [
    "For analysis this is best stored as a `pandas.DataFrame` table, which can be done easily. "
   ]
  },
  {
   "cell_type": "code",
   "execution_count": 5,
   "metadata": {},
   "outputs": [
    {
     "data": {
      "text/html": [
       "<div>\n",
       "<style scoped>\n",
       "    .dataframe tbody tr th:only-of-type {\n",
       "        vertical-align: middle;\n",
       "    }\n",
       "\n",
       "    .dataframe tbody tr th {\n",
       "        vertical-align: top;\n",
       "    }\n",
       "\n",
       "    .dataframe thead th {\n",
       "        text-align: right;\n",
       "    }\n",
       "</style>\n",
       "<table border=\"1\" class=\"dataframe\">\n",
       "  <thead>\n",
       "    <tr style=\"text-align: right;\">\n",
       "      <th></th>\n",
       "      <th>malignancy</th>\n",
       "      <th>diagnosis</th>\n",
       "    </tr>\n",
       "  </thead>\n",
       "  <tbody>\n",
       "    <tr>\n",
       "      <th>0</th>\n",
       "      <td>benign</td>\n",
       "      <td>nevus</td>\n",
       "    </tr>\n",
       "    <tr>\n",
       "      <th>1</th>\n",
       "      <td>benign</td>\n",
       "      <td>nevus</td>\n",
       "    </tr>\n",
       "    <tr>\n",
       "      <th>2</th>\n",
       "      <td>malignant</td>\n",
       "      <td>melanoma</td>\n",
       "    </tr>\n",
       "    <tr>\n",
       "      <th>3</th>\n",
       "      <td>benign</td>\n",
       "      <td>nevus</td>\n",
       "    </tr>\n",
       "    <tr>\n",
       "      <th>4</th>\n",
       "      <td>malignant</td>\n",
       "      <td>melanoma</td>\n",
       "    </tr>\n",
       "  </tbody>\n",
       "</table>\n",
       "</div>"
      ],
      "text/plain": [
       "  malignancy diagnosis\n",
       "0     benign     nevus\n",
       "1     benign     nevus\n",
       "2  malignant  melanoma\n",
       "3     benign     nevus\n",
       "4  malignant  melanoma"
      ]
     },
     "execution_count": 5,
     "metadata": {},
     "output_type": "execute_result"
    }
   ],
   "source": [
    "df = pd.DataFrame(data, columns=['malignancy', 'diagnosis'])\n",
    "df.head()"
   ]
  },
  {
   "cell_type": "markdown",
   "metadata": {},
   "source": [
    "# Analysis\n",
    "\n",
    "## Experimental Design\n",
    "\n",
    "For the integrity of later tests, it is necessary to recognize the shape of the data. The split between benign/malignant labels in the table is manageable. TBD WITH FULL DATA: \"with a sizable sample of *n*, there are more *x* but not by enough of a percentage (or some similar comment) to make a difference."
   ]
  },
  {
   "cell_type": "code",
   "execution_count": 14,
   "metadata": {},
   "outputs": [
    {
     "data": {
      "image/png": "[encoded data removed]",
      "text/plain": [
       "<Figure size 432x288 with 1 Axes>"
      ]
     },
     "metadata": {
      "needs_background": "light"
     },
     "output_type": "display_data"
    }
   ],
   "source": [
    "df.malignancy.value_counts().plot(kind='bar', title='Benign/Malignant Lesion Counts')\n",
    "plt.ylabel('count')\n",
    "plt.show()"
   ]
  },
  {
   "cell_type": "markdown",
   "metadata": {},
   "source": [
    "Even more important is the split between the different lesion diagnoses in the table, since too much of a skew may cause issues with statistical assumptions."
   ]
  },
  {
   "cell_type": "code",
   "execution_count": 15,
   "metadata": {},
   "outputs": [
    {
     "data": {
      "image/png": "[encoded data removed]",
      "text/plain": [
       "<Figure size 432x288 with 1 Axes>"
      ]
     },
     "metadata": {
      "needs_background": "light"
     },
     "output_type": "display_data"
    }
   ],
   "source": [
    "df.diagnosis.value_counts().plot(kind='bar', title='Lesion Diagnosis Counts')\n",
    "plt.ylabel('count')\n",
    "plt.show()"
   ]
  },
  {
   "cell_type": "markdown",
   "metadata": {},
   "source": [
    "The following issues emerge:\n",
    "\n",
    "1. There is an 'unknown' category whose size eclipses most other diagnoses, but without any additional clinical/background information. \n",
    "2. Given the categorical variables, it cannot be determined that the data approximates a Gaussian distribution. There are many categories, and a statistical test is needed to compare all of them to determine any significant differences in maligant lesion occurrence. \n",
    "3. Some categories are sparsely populated (with only tens or single-digit amounts of samples, compared to the hundreds/thousands of others).\n",
    "\n",
    "To which the following reasoning can be applied:\n",
    "\n",
    "1. 'Unknown' could be referring to a diagnosis that is not yet known, or a diagnosis that is known but could not be accurately identified by the personnel or equipment available. So, it is better to exclude it, rather than compare it with other groups without any clarification as to its nature."
   ]
  },
  {
   "cell_type": "code",
   "execution_count": 27,
   "metadata": {},
   "outputs": [
    {
     "name": "stdout",
     "output_type": "stream",
     "text": [
      "N: 50\n",
      "N (after dropping): 50\n"
     ]
    }
   ],
   "source": [
    "# standardize all string values\n",
    "df.malignancy = df.malignancy.apply(lambda x: x.lower())\n",
    "df.diagnosis = df.diagnosis.apply(lambda x: x.lower())\n",
    "print('N:', len(df))\n",
    "\n",
    "# drop unknown diagnoses\n",
    "df = df[df.diagnosis != 'unknown']\n",
    "print('N (after dropping):', len(df))"
   ]
  },
  {
   "cell_type": "markdown",
   "metadata": {},
   "source": [
    "2. The members of each group are independent, so no paired test is appropriate. There is 1 independent variable (diagnosis) with more than 2 groups, and a non-ranked outcome. Given the absent normality assumption, the Chi-Square Test of Independence is most appropriate. \n",
    "3. Chi-Square tests demand minimum expected counts for each group: no group can have expected value < 0, and at most 20% of groups can have expected value < 5. To calculate expected values, first construct a contingency table."
   ]
  },
  {
   "cell_type": "code",
   "execution_count": 38,
   "metadata": {},
   "outputs": [
    {
     "data": {
      "text/html": [
       "<div>\n",
       "<style scoped>\n",
       "    .dataframe tbody tr th:only-of-type {\n",
       "        vertical-align: middle;\n",
       "    }\n",
       "\n",
       "    .dataframe tbody tr th {\n",
       "        vertical-align: top;\n",
       "    }\n",
       "\n",
       "    .dataframe thead th {\n",
       "        text-align: right;\n",
       "    }\n",
       "</style>\n",
       "<table border=\"1\" class=\"dataframe\">\n",
       "  <thead>\n",
       "    <tr style=\"text-align: right;\">\n",
       "      <th>malignancy</th>\n",
       "      <th>benign</th>\n",
       "      <th>malignant</th>\n",
       "    </tr>\n",
       "    <tr>\n",
       "      <th>diagnosis</th>\n",
       "      <th></th>\n",
       "      <th></th>\n",
       "    </tr>\n",
       "  </thead>\n",
       "  <tbody>\n",
       "    <tr>\n",
       "      <th>melanoma</th>\n",
       "      <td>0</td>\n",
       "      <td>14</td>\n",
       "    </tr>\n",
       "    <tr>\n",
       "      <th>nevus</th>\n",
       "      <td>36</td>\n",
       "      <td>0</td>\n",
       "    </tr>\n",
       "  </tbody>\n",
       "</table>\n",
       "</div>"
      ],
      "text/plain": [
       "malignancy  benign  malignant\n",
       "diagnosis                    \n",
       "melanoma         0         14\n",
       "nevus           36          0"
      ]
     },
     "execution_count": 38,
     "metadata": {},
     "output_type": "execute_result"
    }
   ],
   "source": [
    "df_crosstab = pd.crosstab(df.diagnosis, df.malignancy)\n",
    "df_crosstab"
   ]
  },
  {
   "cell_type": "markdown",
   "metadata": {},
   "source": [
    "The expected value for each cell is `row_total * column_total / grand_total`. These can be determined for each diagnosis. First restructure the contingency table."
   ]
  },
  {
   "cell_type": "code",
   "execution_count": 84,
   "metadata": {},
   "outputs": [
    {
     "data": {
      "text/html": [
       "<div>\n",
       "<style scoped>\n",
       "    .dataframe tbody tr th:only-of-type {\n",
       "        vertical-align: middle;\n",
       "    }\n",
       "\n",
       "    .dataframe tbody tr th {\n",
       "        vertical-align: top;\n",
       "    }\n",
       "\n",
       "    .dataframe thead th {\n",
       "        text-align: right;\n",
       "    }\n",
       "</style>\n",
       "<table border=\"1\" class=\"dataframe\">\n",
       "  <thead>\n",
       "    <tr style=\"text-align: right;\">\n",
       "      <th></th>\n",
       "      <th>diagnosis</th>\n",
       "      <th>benign</th>\n",
       "      <th>malignant</th>\n",
       "    </tr>\n",
       "  </thead>\n",
       "  <tbody>\n",
       "    <tr>\n",
       "      <th>0</th>\n",
       "      <td>melanoma</td>\n",
       "      <td>0</td>\n",
       "      <td>14</td>\n",
       "    </tr>\n",
       "    <tr>\n",
       "      <th>1</th>\n",
       "      <td>nevus</td>\n",
       "      <td>36</td>\n",
       "      <td>0</td>\n",
       "    </tr>\n",
       "  </tbody>\n",
       "</table>\n",
       "</div>"
      ],
      "text/plain": [
       "  diagnosis  benign  malignant\n",
       "0  melanoma       0         14\n",
       "1     nevus      36          0"
      ]
     },
     "execution_count": 84,
     "metadata": {},
     "output_type": "execute_result"
    }
   ],
   "source": [
    "# flatten contingency table so each diagnosis 'row' has benign/malignant counts\n",
    "df_contingency = df_crosstab.rename_axis(None, axis=1).reset_index()\n",
    "df_contingency.head()"
   ]
  },
  {
   "cell_type": "markdown",
   "metadata": {},
   "source": [
    "Store grand and column totals and assert they line up with initial data."
   ]
  },
  {
   "cell_type": "code",
   "execution_count": 89,
   "metadata": {},
   "outputs": [
    {
     "name": "stdout",
     "output_type": "stream",
     "text": [
      "Benign: 36, Malignant: 14\n"
     ]
    },
    {
     "data": {
      "text/plain": [
       "benign       36\n",
       "malignant    14\n",
       "Name: malignancy, dtype: int64"
      ]
     },
     "execution_count": 89,
     "metadata": {},
     "output_type": "execute_result"
    }
   ],
   "source": [
    "grand_total = len(df)\n",
    "total_b = df_contingency.benign.sum()\n",
    "total_m = df_contingency.malignant.sum()\n",
    "\n",
    "print('Benign: %d, Malignant: %d' % (total_b, total_m))\n",
    "df.malignancy.value_counts()"
   ]
  },
  {
   "cell_type": "markdown",
   "metadata": {},
   "source": [
    "Create row totals for ease."
   ]
  },
  {
   "cell_type": "code",
   "execution_count": 85,
   "metadata": {},
   "outputs": [
    {
     "data": {
      "text/html": [
       "<div>\n",
       "<style scoped>\n",
       "    .dataframe tbody tr th:only-of-type {\n",
       "        vertical-align: middle;\n",
       "    }\n",
       "\n",
       "    .dataframe tbody tr th {\n",
       "        vertical-align: top;\n",
       "    }\n",
       "\n",
       "    .dataframe thead th {\n",
       "        text-align: right;\n",
       "    }\n",
       "</style>\n",
       "<table border=\"1\" class=\"dataframe\">\n",
       "  <thead>\n",
       "    <tr style=\"text-align: right;\">\n",
       "      <th></th>\n",
       "      <th>diagnosis</th>\n",
       "      <th>benign</th>\n",
       "      <th>malignant</th>\n",
       "      <th>row_total</th>\n",
       "    </tr>\n",
       "  </thead>\n",
       "  <tbody>\n",
       "    <tr>\n",
       "      <th>0</th>\n",
       "      <td>melanoma</td>\n",
       "      <td>0</td>\n",
       "      <td>14</td>\n",
       "      <td>14</td>\n",
       "    </tr>\n",
       "    <tr>\n",
       "      <th>1</th>\n",
       "      <td>nevus</td>\n",
       "      <td>36</td>\n",
       "      <td>0</td>\n",
       "      <td>36</td>\n",
       "    </tr>\n",
       "  </tbody>\n",
       "</table>\n",
       "</div>"
      ],
      "text/plain": [
       "  diagnosis  benign  malignant  row_total\n",
       "0  melanoma       0         14         14\n",
       "1     nevus      36          0         36"
      ]
     },
     "execution_count": 85,
     "metadata": {},
     "output_type": "execute_result"
    }
   ],
   "source": [
    "df_contingency['row_total'] = df_contingency.benign + df_contingency.malignant\n",
    "df_contingency.head()"
   ]
  },
  {
   "cell_type": "markdown",
   "metadata": {},
   "source": [
    "Compute expected values for the entire benign and malignant columns at once, per given formula."
   ]
  },
  {
   "cell_type": "code",
   "execution_count": 94,
   "metadata": {},
   "outputs": [
    {
     "data": {
      "text/html": [
       "<div>\n",
       "<style scoped>\n",
       "    .dataframe tbody tr th:only-of-type {\n",
       "        vertical-align: middle;\n",
       "    }\n",
       "\n",
       "    .dataframe tbody tr th {\n",
       "        vertical-align: top;\n",
       "    }\n",
       "\n",
       "    .dataframe thead th {\n",
       "        text-align: right;\n",
       "    }\n",
       "</style>\n",
       "<table border=\"1\" class=\"dataframe\">\n",
       "  <thead>\n",
       "    <tr style=\"text-align: right;\">\n",
       "      <th></th>\n",
       "      <th>diagnosis</th>\n",
       "      <th>benign</th>\n",
       "      <th>malignant</th>\n",
       "      <th>row_total</th>\n",
       "      <th>expected_benign</th>\n",
       "      <th>expected_malignant</th>\n",
       "    </tr>\n",
       "  </thead>\n",
       "  <tbody>\n",
       "    <tr>\n",
       "      <th>0</th>\n",
       "      <td>melanoma</td>\n",
       "      <td>0</td>\n",
       "      <td>14</td>\n",
       "      <td>14</td>\n",
       "      <td>10.08</td>\n",
       "      <td>3.92</td>\n",
       "    </tr>\n",
       "    <tr>\n",
       "      <th>1</th>\n",
       "      <td>nevus</td>\n",
       "      <td>36</td>\n",
       "      <td>0</td>\n",
       "      <td>36</td>\n",
       "      <td>25.92</td>\n",
       "      <td>10.08</td>\n",
       "    </tr>\n",
       "  </tbody>\n",
       "</table>\n",
       "</div>"
      ],
      "text/plain": [
       "  diagnosis  benign  malignant  row_total  expected_benign  expected_malignant\n",
       "0  melanoma       0         14         14            10.08                3.92\n",
       "1     nevus      36          0         36            25.92               10.08"
      ]
     },
     "execution_count": 94,
     "metadata": {},
     "output_type": "execute_result"
    }
   ],
   "source": [
    "df_exp = df_contingency.copy()\n",
    "df_exp['expected_benign'] = df_exp.row_total * total_b / grand_total\n",
    "df_exp['expected_malignant'] = df_exp.row_total * total_m / grand_total\n",
    "df_exp"
   ]
  },
  {
   "cell_type": "markdown",
   "metadata": {},
   "source": [
    "Gather occurrences of <5 expected value in either columns. Observe the droppage that will be needed."
   ]
  },
  {
   "cell_type": "code",
   "execution_count": 124,
   "metadata": {},
   "outputs": [],
   "source": [
    "# get rows where the <5 condition is true, for both columns\n",
    "occurrences_benign = df_exp[df_exp.expected_benign < 5]\n",
    "occurrences_malignant = df_exp[df_exp.expected_malignant < 5]\n",
    "\n",
    "# find needed droppage\n",
    "total_occurrences = len(occurrences_benign) + len(occurrences_malignant)\n",
    "limit = int(0.2 * len(df))\n",
    "diff = total_occurrences - limit\n",
    "\n",
    "# output\n",
    "if diff > 0:\n",
    "    print('Reduce by %d cells' % diff)"
   ]
  },
  {
   "cell_type": "markdown",
   "metadata": {},
   "source": [
    "Now, sort by *(increasing expected benign count, increasing expected malignant count)* so the lowest values are visible. This reveals the candidate diagnosis types for dropping."
   ]
  },
  {
   "cell_type": "code",
   "execution_count": 125,
   "metadata": {},
   "outputs": [
    {
     "data": {
      "text/plain": [
       "2"
      ]
     },
     "execution_count": 125,
     "metadata": {},
     "output_type": "execute_result"
    }
   ],
   "source": [
    "2"
   ]
  },
  {
   "cell_type": "markdown",
   "metadata": {},
   "source": [
    "It does not make sense to drop one cell and keep its benign/malignant counterpart; the whole diagnosis will be dropped. This results in a potential \"extraneous\" droppage of diagnosis types, but is necessary. "
   ]
  },
  {
   "cell_type": "code",
   "execution_count": null,
   "metadata": {},
   "outputs": [],
   "source": []
  },
  {
   "cell_type": "markdown",
   "metadata": {},
   "source": [
    "Which leaves a list of diagnosis which are to be kept, and can be used to filter the original data. Now the data is ready for analysis."
   ]
  },
  {
   "cell_type": "code",
   "execution_count": null,
   "metadata": {},
   "outputs": [],
   "source": []
  },
  {
   "cell_type": "markdown",
   "metadata": {},
   "source": [
    "## Testing\n",
    "\n",
    "Stuff."
   ]
  },
  {
   "cell_type": "code",
   "execution_count": null,
   "metadata": {},
   "outputs": [],
   "source": [
    "scipy stats chi2 contingency?"
   ]
  }
 ],
 "metadata": {
  "kernelspec": {
   "display_name": "Python 3",
   "language": "python",
   "name": "python3"
  },
  "language_info": {
   "codemirror_mode": {
    "name": "ipython",
    "version": 3
   },
   "file_extension": ".py",
   "mimetype": "text/x-python",
   "name": "python",
   "nbconvert_exporter": "python",
   "pygments_lexer": "ipython3",
   "version": "3.7.6"
  }
 },
 "nbformat": 4,
 "nbformat_minor": 4
}
