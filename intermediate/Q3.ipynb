{
 "cells": [
  {
   "cell_type": "markdown",
   "metadata": {},
   "source": [
    "# Overview\n",
    "\n",
    "This notebook contains all code and discussions for the __intermediate iteration__ of the research question involving __lesion diagnosis/type and malignancy__. The specific question asked is whether there are statistically significant differences between the malignancy rates of different types of lesion diagnoses. This is an advanced version of [this novice module](../novice/Q3.ipynb) revolving around the same features.\n",
    "\n",
    "# Table of Contents\n",
    "\n",
    "I. [Setup]\n",
    "\n",
    "II. [Data Retrieval]\n",
    "\n",
    "1. [File Access]\n",
    "2. [Loading & Processing]\n",
    "\n",
    "III. [Analysis]\n",
    "\n",
    "1. \n",
    "2. \n",
    "\n",
    "IV. [Discussion]\n",
    "\n",
    "# Setup\n",
    "\n",
    "Refer to [this module](../novice/Data_Download.ipynb) for replicating the data-download process using the ISIC Python tool. The command is repeated below, although file/directory locations may need adjustment. \n",
    "\n",
    "`\n",
    "python download_archive.py \\\n",
    "--num-images=50 \\ \n",
    "--images-dir ../../sample_imgs \\ \n",
    "--descs-dir ../../sample_dscs -s \\ \n",
    "--seg-dir ../../sample_segs --seg-skill expert\n",
    "`\n",
    "\n",
    "The following are necessary imports for this module."
   ]
  },
  {
   "cell_type": "code",
   "execution_count": 1,
   "metadata": {},
   "outputs": [],
   "source": [
    "# data retrieval\n",
    "import glob\n",
    "import json\n",
    "\n",
    "# data manipulation, analysis, and visualization\n",
    "import pandas as pd"
   ]
  },
  {
   "cell_type": "markdown",
   "metadata": {},
   "source": [
    "# Data Retrieval\n",
    "\n",
    "# File Access\n",
    "\n",
    "Note that image manipulation is not actually needed for this module. This shortens data retrieval; the same `glob.glob` functionality as before can be used, to get an array of paths for description files only."
   ]
  },
  {
   "cell_type": "code",
   "execution_count": 2,
   "metadata": {},
   "outputs": [
    {
     "name": "stdout",
     "output_type": "stream",
     "text": [
      "Descriptions:  50\n"
     ]
    }
   ],
   "source": [
    "dsc_filepaths = glob.glob('../../sample_dscs/*')\n",
    "print('Descriptions: ', len(dsc_filepaths))"
   ]
  },
  {
   "cell_type": "markdown",
   "metadata": {},
   "source": [
    "# Loading & Processing\n",
    "\n",
    "Descriptions are stored in JSON format as before. Opening a single file is useful for determining the attributes of interest. Here, the attributes `benign_malignant` and `diagnosis` (nested in the `clinical` attribute of the `meta` key) are direct representations of the features in question above."
   ]
  },
  {
   "cell_type": "code",
   "execution_count": 3,
   "metadata": {},
   "outputs": [
    {
     "data": {
      "text/plain": [
       "{'_id': '5436e3abbae478396759f0cf',\n",
       " '_modelType': 'image',\n",
       " 'created': '2014-10-09T19:36:11.989000+00:00',\n",
       " 'creator': {'_id': '5450e996bae47865794e4d0d', 'name': 'User 6VSN'},\n",
       " 'dataset': {'_accessLevel': 0,\n",
       "  '_id': '5a2ecc5e1165975c945942a2',\n",
       "  'description': 'Moles and melanomas.\\nBiopsy-confirmed melanocytic lesions. Both malignant and benign lesions are included.',\n",
       "  'license': 'CC-0',\n",
       "  'name': 'UDA-1',\n",
       "  'updated': '2014-11-10T02:39:56.492000+00:00'},\n",
       " 'meta': {'acquisition': {'image_type': 'dermoscopic',\n",
       "   'pixelsX': 1022,\n",
       "   'pixelsY': 767},\n",
       "  'clinical': {'age_approx': 55,\n",
       "   'anatom_site_general': 'anterior torso',\n",
       "   'benign_malignant': 'benign',\n",
       "   'diagnosis': 'nevus',\n",
       "   'diagnosis_confirm_type': None,\n",
       "   'melanocytic': True,\n",
       "   'sex': 'female'}},\n",
       " 'name': 'ISIC_0000000',\n",
       " 'notes': {'reviewed': {'accepted': True,\n",
       "   'time': '2014-11-10T02:39:56.492000+00:00',\n",
       "   'userId': '5436c6e7bae4780a676c8f93'},\n",
       "  'tags': ['Challenge 2018: Task 1-2: Training',\n",
       "   'Challenge 2019: Training',\n",
       "   'Challenge 2016: Training',\n",
       "   'Challenge 2017: Training']},\n",
       " 'updated': '2015-02-23T02:48:17.495000+00:00'}"
      ]
     },
     "execution_count": 3,
     "metadata": {},
     "output_type": "execute_result"
    }
   ],
   "source": [
    "json.load(open(dsc_filepaths[0], 'r'))"
   ]
  },
  {
   "cell_type": "markdown",
   "metadata": {},
   "source": [
    "Each data point can hence be thought of as a (malignancy, diagnosis type) pair or tuple. We can iterate over all filepaths, extract the two variable values, and format them this way, as follows."
   ]
  },
  {
   "cell_type": "code",
   "execution_count": 9,
   "metadata": {},
   "outputs": [
    {
     "name": "stdout",
     "output_type": "stream",
     "text": [
      "Data point #0: ('benign', 'nevus')\n",
      "Data point #1: ('benign', 'nevus')\n",
      "Data point #2: ('malignant', 'melanoma')\n"
     ]
    }
   ],
   "source": [
    "# first load descriptions, and extract clinical variables\n",
    "dscs = [json.load(open(x, 'r'))['meta']['clinical'] for x in dsc_filepaths]\n",
    "\n",
    "# make a list of data points, with relevant variables only\n",
    "data = [(x['benign_malignant'], x['diagnosis']) for x in dscs]\n",
    "\n",
    "# sample output\n",
    "for i in range(3):\n",
    "    print('Data point #%d: %s' % (i, data[i]))"
   ]
  },
  {
   "cell_type": "markdown",
   "metadata": {},
   "source": [
    "For analysis this is best stored as a `pandas.DataFrame` table, which can be done easily. "
   ]
  },
  {
   "cell_type": "code",
   "execution_count": 12,
   "metadata": {},
   "outputs": [
    {
     "data": {
      "text/html": [
       "<div>\n",
       "<style scoped>\n",
       "    .dataframe tbody tr th:only-of-type {\n",
       "        vertical-align: middle;\n",
       "    }\n",
       "\n",
       "    .dataframe tbody tr th {\n",
       "        vertical-align: top;\n",
       "    }\n",
       "\n",
       "    .dataframe thead th {\n",
       "        text-align: right;\n",
       "    }\n",
       "</style>\n",
       "<table border=\"1\" class=\"dataframe\">\n",
       "  <thead>\n",
       "    <tr style=\"text-align: right;\">\n",
       "      <th></th>\n",
       "      <th>malignancy</th>\n",
       "      <th>diagnosis</th>\n",
       "    </tr>\n",
       "  </thead>\n",
       "  <tbody>\n",
       "    <tr>\n",
       "      <th>0</th>\n",
       "      <td>benign</td>\n",
       "      <td>nevus</td>\n",
       "    </tr>\n",
       "    <tr>\n",
       "      <th>1</th>\n",
       "      <td>benign</td>\n",
       "      <td>nevus</td>\n",
       "    </tr>\n",
       "    <tr>\n",
       "      <th>2</th>\n",
       "      <td>malignant</td>\n",
       "      <td>melanoma</td>\n",
       "    </tr>\n",
       "    <tr>\n",
       "      <th>3</th>\n",
       "      <td>benign</td>\n",
       "      <td>nevus</td>\n",
       "    </tr>\n",
       "    <tr>\n",
       "      <th>4</th>\n",
       "      <td>malignant</td>\n",
       "      <td>melanoma</td>\n",
       "    </tr>\n",
       "  </tbody>\n",
       "</table>\n",
       "</div>"
      ],
      "text/plain": [
       "  malignancy diagnosis\n",
       "0     benign     nevus\n",
       "1     benign     nevus\n",
       "2  malignant  melanoma\n",
       "3     benign     nevus\n",
       "4  malignant  melanoma"
      ]
     },
     "execution_count": 12,
     "metadata": {},
     "output_type": "execute_result"
    }
   ],
   "source": [
    "df = pd.DataFrame(data, columns=['malignancy', 'diagnosis'])\n",
    "df.head()"
   ]
  },
  {
   "cell_type": "markdown",
   "metadata": {},
   "source": [
    "# Analysis\n",
    "\n",
    "## INITIAL\n",
    "\n",
    "Idk."
   ]
  },
  {
   "cell_type": "code",
   "execution_count": null,
   "metadata": {},
   "outputs": [],
   "source": [
    "# is that many groups ok\n",
    "# is some type of dropout needed"
   ]
  }
 ],
 "metadata": {
  "kernelspec": {
   "display_name": "Python 3",
   "language": "python",
   "name": "python3"
  },
  "language_info": {
   "codemirror_mode": {
    "name": "ipython",
    "version": 3
   },
   "file_extension": ".py",
   "mimetype": "text/x-python",
   "name": "python",
   "nbconvert_exporter": "python",
   "pygments_lexer": "ipython3",
   "version": "3.7.6"
  }
 },
 "nbformat": 4,
 "nbformat_minor": 4
}
