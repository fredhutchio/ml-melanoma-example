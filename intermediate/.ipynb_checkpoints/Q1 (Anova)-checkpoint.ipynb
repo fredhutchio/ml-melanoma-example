{
 "cells": [
  {
   "cell_type": "markdown",
   "metadata": {},
   "source": [
    "# Overview\n",
    "\n",
    "Intermediate level\n",
    "\n",
    "Question #1 (Anova version)\n",
    "Is there any statistical difference between groups? \n",
    "(Light, medium and dark lesions)\n",
    "\n",
    "# Table of Content\n",
    "\n",
    "1. [Setup](#setup_cell)\n",
    "2. [Data Loading](#loading)\n",
    "3. [Analysis](#analyze)\n",
    "4. [Discussion](#discuss)"
   ]
  },
  {
   "cell_type": "markdown",
   "metadata": {},
   "source": [
    "# Setup <a id='setup_cell'></a>\n",
    "Import the appropriate packages"
   ]
  },
  {
   "cell_type": "code",
   "execution_count": 2,
   "metadata": {},
   "outputs": [],
   "source": [
    "import PIL\n",
    "import cv2\n",
    "import os\n",
    "from os import listdir\n",
    "from os.path import isfile, join\n",
    "import json\n",
    "import numpy as np\n",
    "import seaborn as sns # pip install -U seaborn\n",
    "from matplotlib import pyplot as plt\n",
    "import pandas as pd\n",
    "import glob\n",
    "from IPython.display import display\n",
    "from scipy.stats import f_oneway"
   ]
  },
  {
   "cell_type": "markdown",
   "metadata": {},
   "source": [
    "# Data Loading <a id='loading'></a>\n",
    "Load the data similar to the novice level"
   ]
  },
  {
   "cell_type": "code",
   "execution_count": 3,
   "metadata": {},
   "outputs": [],
   "source": [
    "directory = os.getcwd().split(\"\\\\\")[:-2]\n",
    "new_directory = \"\"\n",
    "for component in directory:\n",
    "    new_directory += component\n",
    "    new_directory += \"\\\\\"\n",
    "\n",
    "if 'sample_imgs' in listdir(new_directory):\n",
    "    img_filepaths = glob.glob('../../sample_imgs/*.jp*')\n",
    "    seg_filepaths = glob.glob('../../sample_segs/*.png')\n",
    "    dsc_filepaths = glob.glob('../../sample_dscs/*')"
   ]
  },
  {
   "cell_type": "code",
   "execution_count": 4,
   "metadata": {},
   "outputs": [],
   "source": [
    "# Checks to make sure each image corresponds to it's segmentation\n",
    "for i in range(len(img_filepaths)):\n",
    "    \n",
    "    image_number = int(img_filepaths[0].split(\"_\")[-1].split(\".\")[0])\n",
    "    segmentation_number = int(seg_filepaths[0].split(\"_\")[2])\n",
    "    \n",
    "    if image_number != segmentation_number:\n",
    "        print(\"Error in file order\")\n",
    "        break"
   ]
  },
  {
   "cell_type": "code",
   "execution_count": null,
   "metadata": {},
   "outputs": [],
   "source": []
  },
  {
   "cell_type": "code",
   "execution_count": null,
   "metadata": {},
   "outputs": [],
   "source": []
  },
  {
   "cell_type": "markdown",
   "metadata": {},
   "source": [
    "# Analysis <a id='analyze'></a>"
   ]
  },
  {
   "cell_type": "code",
   "execution_count": 5,
   "metadata": {},
   "outputs": [],
   "source": [
    "def get_lesion_pixels(r, g, b):\n",
    "    \n",
    "    non_black_r = []\n",
    "    non_black_g = []\n",
    "    non_black_b = []\n",
    "\n",
    "    for row in range(r.shape[0]):\n",
    "\n",
    "        for col in range(r.shape[1]):\n",
    "\n",
    "            if r[row][col] != 0:\n",
    "\n",
    "                if g[row][col] != 0:\n",
    "\n",
    "                    if b[row][col] != 0:\n",
    "\n",
    "                        non_black_r.append(r[row][col])\n",
    "                        non_black_g.append(g[row][col])\n",
    "                        non_black_b.append(b[row][col])\n",
    "    return [non_black_r, non_black_g, non_black_b]"
   ]
  },
  {
   "cell_type": "code",
   "execution_count": 15,
   "metadata": {},
   "outputs": [],
   "source": []
  },
  {
   "cell_type": "code",
   "execution_count": 6,
   "metadata": {},
   "outputs": [],
   "source": [
    "all_image_colors = []\n",
    "for i in range(12):\n",
    "    \n",
    "    # Grab orignal image and segmented version \n",
    "    color =  PIL.Image.open(img_filepaths[i]).resize((400,300))\n",
    "    segged = PIL.Image.open(seg_filepaths[i]).resize((400,300))\n",
    "\n",
    "    # Get blank background\n",
    "    np_im = np.zeros((300,400))\n",
    "    backtorgb = cv2.cvtColor(np.float32(np_im),cv2.COLOR_GRAY2RGB)\n",
    "\n",
    "    random_array = backtorgb * 255\n",
    "    random_array = random_array.astype(np.uint8)\n",
    "    sam = PIL.Image.fromarray(random_array)\n",
    "\n",
    "    # Copy original picture on blank background\n",
    "    back_im = sam.copy()\n",
    "    back_im.paste(color, (0, 0), segged)\n",
    "    im_matrix = np.array(back_im)\n",
    "\n",
    "    # Get r g b from image\n",
    "    r= im_matrix[:,:,0]\n",
    "    g= im_matrix[:,:,1]\n",
    "    b= im_matrix[:,:,2]\n",
    "\n",
    "    # Only use the non black pixels\n",
    "    non_black_pixels = get_lesion_pixels(r,g,b)\n",
    "    non_black_r = non_black_pixels[0]\n",
    "    non_black_g = non_black_pixels[1]\n",
    "    non_black_b = non_black_pixels[2]\n",
    "    \n",
    "    # Get rgb means\n",
    "    r_mean = int(np.average(non_black_r))\n",
    "    g_mean = int(np.average(non_black_g))\n",
    "    b_mean = int(np.average(non_black_b))\n",
    "\n",
    "    # Turn rgb into Hex to find color as a number\n",
    "    hex_value = '%02x%02x%02x' % (r_mean, g_mean, b_mean)\n",
    "    \n",
    "    average_color = int(hex_value,16)\n",
    "    all_image_colors.append(average_color)"
   ]
  },
  {
   "cell_type": "code",
   "execution_count": 7,
   "metadata": {},
   "outputs": [
    {
     "data": {
      "text/plain": [
       "F_onewayResult(statistic=10.945525107995786, pvalue=0.0038890565839853203)"
      ]
     },
     "execution_count": 7,
     "metadata": {},
     "output_type": "execute_result"
    }
   ],
   "source": [
    "# Order the images from lightest to darkest and split how you want \n",
    "all_image_colors = sorted(all_image_colors)\n",
    "f_oneway(all_image_colors[:4], all_image_colors[4:8], all_image_colors[8:])"
   ]
  },
  {
   "cell_type": "markdown",
   "metadata": {},
   "source": [
    "# Discussion <a id='discuss'></a>\n",
    "Did you find any statistical difference? <br>\n",
    "What were the intervals you used?"
   ]
  },
  {
   "cell_type": "code",
   "execution_count": null,
   "metadata": {},
   "outputs": [],
   "source": []
  },
  {
   "cell_type": "code",
   "execution_count": null,
   "metadata": {},
   "outputs": [],
   "source": [
    "\n",
    "\n"
   ]
  },
  {
   "cell_type": "code",
   "execution_count": null,
   "metadata": {},
   "outputs": [],
   "source": []
  },
  {
   "cell_type": "code",
   "execution_count": null,
   "metadata": {},
   "outputs": [],
   "source": []
  },
  {
   "cell_type": "code",
   "execution_count": null,
   "metadata": {},
   "outputs": [],
   "source": []
  },
  {
   "cell_type": "code",
   "execution_count": null,
   "metadata": {},
   "outputs": [],
   "source": []
  }
 ],
 "metadata": {
  "kernelspec": {
   "display_name": "Python 3",
   "language": "python",
   "name": "python3"
  },
  "language_info": {
   "codemirror_mode": {
    "name": "ipython",
    "version": 3
   },
   "file_extension": ".py",
   "mimetype": "text/x-python",
   "name": "python",
   "nbconvert_exporter": "python",
   "pygments_lexer": "ipython3",
   "version": "3.7.6"
  }
 },
 "nbformat": 4,
 "nbformat_minor": 4
}
