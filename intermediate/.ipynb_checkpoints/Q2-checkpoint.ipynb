{
 "cells": [
  {
   "cell_type": "markdown",
   "metadata": {},
   "source": [
    "# Overview\n",
    "\n",
    "Intermediate level\n",
    "\n",
    "Question #2 \n",
    "Prediction for most at risk groups based on demographic (coming from the joint distribution)?\n",
    "\n",
    "# Table of Content\n",
    "\n",
    "1. [Setup](#setup_cell)\n",
    "2. [Data Loading](#loading)\n",
    "3. [Analysis](#analyze)\n",
    "4. [Discussion](#discuss)\n"
   ]
  },
  {
   "cell_type": "markdown",
   "metadata": {},
   "source": [
    "# Setup <a id='setup_cell'></a>\n",
    "Import the appropriate packages"
   ]
  },
  {
   "cell_type": "code",
   "execution_count": 2,
   "metadata": {},
   "outputs": [],
   "source": [
    "import PIL\n",
    "import cv2\n",
    "import os\n",
    "from os import listdir\n",
    "from os.path import isfile, join\n",
    "import json\n",
    "import numpy as np\n",
    "import seaborn as sns # pip install -U seaborn\n",
    "from matplotlib import pyplot as plt\n",
    "import pandas as pd\n",
    "import glob\n",
    "from IPython.display import display"
   ]
  },
  {
   "cell_type": "markdown",
   "metadata": {},
   "source": [
    "# Data Loading <a id='loading'></a>\n",
    "Load the data similar to the novice level"
   ]
  },
  {
   "cell_type": "code",
   "execution_count": 3,
   "metadata": {},
   "outputs": [],
   "source": [
    "directory = os.getcwd().split(\"\\\\\")[:-2]\n",
    "new_directory = \"\"\n",
    "for component in directory:\n",
    "    new_directory += component\n",
    "    new_directory += \"\\\\\"\n",
    "\n",
    "if 'sample_imgs' in listdir(new_directory):\n",
    "    img_filepaths = glob.glob('../../sample_imgs/*.jp*')\n",
    "    seg_filepaths = glob.glob('../../sample_segs/*.png')\n",
    "    dsc_filepaths = glob.glob('../../sample_dscs/*')"
   ]
  },
  {
   "cell_type": "code",
   "execution_count": 4,
   "metadata": {},
   "outputs": [],
   "source": [
    "image_df = pd.DataFrame(columns= [\"Age\", \"Site\", \"Status\", \"Diagnosis\", \"Confirm type\", \"Melanocytic\", \"Sex\"])\n",
    "for i in range(len(img_filepaths)):\n",
    "    with open(dsc_filepaths[i]) as json_file:\n",
    "        j = json.load(json_file)\n",
    "        image_df.loc[i] = list(j[\"meta\"][\"clinical\"].values())\n",
    "        \n",
    "image_df = image_df.drop(columns=[\"Melanocytic\",\"Confirm type\"])"
   ]
  },
  {
   "cell_type": "code",
   "execution_count": 49,
   "metadata": {},
   "outputs": [],
   "source": []
  },
  {
   "cell_type": "code",
   "execution_count": 56,
   "metadata": {},
   "outputs": [],
   "source": [
    "# Given your Age, Site, and Sex the probability of you having a malignant lesion is...\n",
    "def get_probability(age, sex, site):\n",
    "    age_prob = len(image_df[image_df[\"Age\"] == age])/len(image_df)\n",
    "    site_prob = len(image_df[image_df[\"Site\"] == site])/len(image_df)\n",
    "    sex_prob = len(image_df[image_df[\"Sex\"] == sex])/len(image_df)\n",
    "\n",
    "    status_prob = len(image_df[image_df[\"Status\"] == \"malignant\"])/len(image_df)\n",
    "    \n",
    "#     print(age_prob)\n",
    "#     print(site_prob)\n",
    "#     print(sex_prob)\n",
    "#     print(status_prob)\n",
    "#     print(\"Numerator: \", (status_prob * age_prob * site_prob * sex_prob))\n",
    "#     print(\"Denominator: \", (age_prob * site_prob * sex_prob))\n",
    "\n",
    "    # P('Malignant'| \"Age\", \"Site\", \"Sex\") = P(M * A * Site * Sex) / P(A * Sex * Site)\n",
    "    return (round(status_prob * age_prob * site_prob * sex_prob,5) / round(age_prob * site_prob * sex_prob,5))\n"
   ]
  },
  {
   "cell_type": "code",
   "execution_count": 57,
   "metadata": {},
   "outputs": [
    {
     "data": {
      "text/plain": [
       "0.28024502297090353"
      ]
     },
     "execution_count": 57,
     "metadata": {},
     "output_type": "execute_result"
    }
   ],
   "source": [
    "get_probability(60, \"female\", \"lower extremity\")"
   ]
  },
  {
   "cell_type": "code",
   "execution_count": 58,
   "metadata": {},
   "outputs": [],
   "source": [
    "ages = set(image_df[\"Age\"])\n",
    "sexes = [\"female\", \"male\"]\n",
    "sites = set(image_df[\"Site\"])"
   ]
  },
  {
   "cell_type": "code",
   "execution_count": 59,
   "metadata": {},
   "outputs": [
    {
     "name": "stdout",
     "output_type": "stream",
     "text": [
      "0.28024502297090353\n"
     ]
    }
   ],
   "source": [
    "print(round(0.0036556800000000006,5)/round(0.013056,5))"
   ]
  },
  {
   "cell_type": "code",
   "execution_count": 66,
   "metadata": {},
   "outputs": [],
   "source": [
    "female = []\n",
    "male = []\n",
    "for sex in sexes:\n",
    "    for age in ages:\n",
    "        for site in sites:\n",
    "            if sex == \"female\":\n",
    "                female.append([age, site, round(get_probability(age, sex, site),5)])\n",
    "            else:\n",
    "                male.append([age, site, round(get_probability(age, sex, site),5)])"
   ]
  },
  {
   "cell_type": "markdown",
   "metadata": {},
   "source": [
    "P(M|A,S,T) = P(M|W,T)\n",
    "P(M|W,T) = P(M|Z)\n",
    "P(M|Z) = P(M n Z) / P(Z)\n",
    "\n",
    "P(M n Z) / P(Z) = P(M n (W n T)) / P(W n T)\n",
    "P(M n W n T) / P(W n T)\n",
    "for dependent: P(W n T) = P(W) * P(T|W)\n",
    "\n",
    "P(W) = P(A n S)\n",
    "P(T|W) = P(T n W) / P(W)\n",
    "P(T n W) = P(T n (A n S)) "
   ]
  },
  {
   "cell_type": "code",
   "execution_count": 88,
   "metadata": {},
   "outputs": [
    {
     "data": {
      "text/plain": [
       "<matplotlib.axes._subplots.AxesSubplot at 0x25ec1509e48>"
      ]
     },
     "execution_count": 88,
     "metadata": {},
     "output_type": "execute_result"
    },
    {
     "data": {
      "image/png": "[encoded data removed]",
      "text/plain": [
       "<Figure size 1008x720 with 1 Axes>"
      ]
     },
     "metadata": {
      "needs_background": "light"
     },
     "output_type": "display_data"
    }
   ],
   "source": [
    "female_data = pd.DataFrame({\"Age\": [i[0] for i in female], \"Site\": [i[1] for i in female], \"Risk\": [i[2] for i in female]})\n",
    "\n",
    "\n",
    "fig = plt.figure(figsize=(14,10))\n",
    "plt.ylim(0, 1)\n",
    "plt.title(\"Female Risk\")\n",
    "sns.barplot(x=\"Age\", y=\"Risk\", hue=\"Site\", data=female_data, palette=\"plasma\")"
   ]
  },
  {
   "cell_type": "code",
   "execution_count": 89,
   "metadata": {},
   "outputs": [
    {
     "data": {
      "text/plain": [
       "<matplotlib.axes._subplots.AxesSubplot at 0x25ebf8fcc08>"
      ]
     },
     "execution_count": 89,
     "metadata": {},
     "output_type": "execute_result"
    },
    {
     "data": {
      "image/png": "[encoded data removed]",
      "text/plain": [
       "<Figure size 1008x720 with 1 Axes>"
      ]
     },
     "metadata": {
      "needs_background": "light"
     },
     "output_type": "display_data"
    }
   ],
   "source": [
    "male_data = pd.DataFrame({\"Age\": [i[0] for i in male], \"Site\": [i[1] for i in male], \"Risk\": [i[2] for i in male]})\n",
    "\n",
    "\n",
    "fig = plt.figure(figsize=(14,10))\n",
    "plt.ylim(0, 1)\n",
    "plt.title(\"Male Risk\")\n",
    "sns.barplot(x=\"Age\", y=\"Risk\", hue=\"Site\", data=male_data, palette=\"Blues_d\")"
   ]
  },
  {
   "cell_type": "code",
   "execution_count": null,
   "metadata": {},
   "outputs": [],
   "source": []
  }
 ],
 "metadata": {
  "kernelspec": {
   "display_name": "Python 3",
   "language": "python",
   "name": "python3"
  },
  "language_info": {
   "codemirror_mode": {
    "name": "ipython",
    "version": 3
   },
   "file_extension": ".py",
   "mimetype": "text/x-python",
   "name": "python",
   "nbconvert_exporter": "python",
   "pygments_lexer": "ipython3",
   "version": "3.7.6"
  }
 },
 "nbformat": 4,
 "nbformat_minor": 4
}
