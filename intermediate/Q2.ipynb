{
 "cells": [
  {
   "cell_type": "markdown",
   "metadata": {},
   "source": [
    "# Overview\n",
    "\n",
    "This is the __intermediate level__ version of [question 2](../novice/Q2.ipynb) from the novice level. Previously we focused on the different type of plots and simple counting. This notebook focuses on conditional probability by using some of the features in the descriptions files to come up with a probabilty that a patient has a malignant lesion. The question we are trying to answer is who are the most at risk groups based on demographic (coming from the joint distribution)?\n",
    "\n",
    "# Table of Content\n",
    "\n",
    "1. [Setup](#setup_cell)\n",
    "2. [Data Loading](#loading)\n",
    "3. [Analysis](#analyze)\n",
    "4. [Visualization](#viz_cell)\n",
    "5. [Discussion](#discuss)\n"
   ]
  },
  {
   "cell_type": "markdown",
   "metadata": {},
   "source": [
    "# Setup <a id='setup_cell'></a>\n",
    "Import the appropriate packages"
   ]
  },
  {
   "cell_type": "code",
   "execution_count": 1,
   "metadata": {},
   "outputs": [],
   "source": [
    "import os\n",
    "from os import listdir\n",
    "import json\n",
    "import numpy as np\n",
    "import seaborn as sns \n",
    "from matplotlib import pyplot as plt\n",
    "import pandas as pd\n",
    "import glob\n",
    "from tqdm import tqdm"
   ]
  },
  {
   "cell_type": "markdown",
   "metadata": {},
   "source": [
    "# Data Loading <a id='loading'></a>\n",
    "Load the data similar to the novice level"
   ]
  },
  {
   "cell_type": "code",
   "execution_count": 2,
   "metadata": {},
   "outputs": [],
   "source": [
    "img_filepaths = glob.glob('../../sample_imgs/*.jp*')\n",
    "seg_filepaths = glob.glob('../../sample_segs/*.png')\n",
    "dsc_filepaths = glob.glob('../../sample_dscs/*')"
   ]
  },
  {
   "cell_type": "markdown",
   "metadata": {},
   "source": [
    "# Analysis <a id='analyze'></a>"
   ]
  },
  {
   "cell_type": "markdown",
   "metadata": {},
   "source": [
    "Here we need to identify which columns we need for our analysis, then create a dataframe from data. <br>\n",
    "Some of the columns from the description file are not going to be used (We remove the columns that we don't need, using *pandas.DataFrame.drop()*)"
   ]
  },
  {
   "cell_type": "code",
   "execution_count": 3,
   "metadata": {},
   "outputs": [
    {
     "name": "stderr",
     "output_type": "stream",
     "text": [
      "100%|███████████████████████████████████████████████████████████████████████████| 69445/69445 [02:33<00:00, 450.99it/s]\n"
     ]
    }
   ],
   "source": [
    "image_df = pd.DataFrame(columns= [\"Age\", \"Site\", \"Status\", \"Diagnosis\", \"Confirm type\", \"Melanocytic\", \"Sex\"])\n",
    "for i in tqdm(range(len(dsc_filepaths))):\n",
    "    with open(dsc_filepaths[i]) as json_file:\n",
    "        j = json.load(json_file)\n",
    "        try:\n",
    "            image_df.loc[i] = list(j[\"meta\"][\"clinical\"].values())\n",
    "        except ValueError:\n",
    "            error = i\n",
    "image_df = image_df.drop(columns=[\"Melanocytic\",\"Confirm type\"])"
   ]
  },
  {
   "cell_type": "markdown",
   "metadata": {},
   "source": [
    "### Below is the only function we will need for our analysis. Given a patient's Age, Site, and Sex we find the probability of them having a malignant lesion.\n",
    "Since malignancy is independent we can use: **P(A|B)=P(A∩B)P(B)** <br>\n",
    "Where A is Malignant and B is the combined probability of age, sex, and site.\n",
    "\n",
    "P(\"Malignant\"| \"Age\", \"Site\", \"Sex\") = P(\"Malignant\" * \"Age\" * \"Site\" * \"Sex\") / P(\"Age\" * \"Site\" * \"Sex\")"
   ]
  },
  {
   "cell_type": "code",
   "execution_count": 4,
   "metadata": {},
   "outputs": [],
   "source": [
    "def get_probability(data, age, sex, site):\n",
    "    \"\"\"\n",
    "    age:  The age of a patient\n",
    "    sex:  The sex of a patient\n",
    "    site: The location where the lesion is located\n",
    "    \n",
    "    returns the probability of a lesion being malignant given\n",
    "    the above parameters\n",
    "    \"\"\"\n",
    "    \n",
    "    age_prob = len(data[data[\"Age\"] == age])/len(data)\n",
    "    site_prob = len(data[data[\"Site\"] == site])/len(data)\n",
    "    sex_prob = len(data[data[\"Sex\"] == sex])/len(data)\n",
    "\n",
    "    status_prob = len(data[data[\"Status\"] == \"malignant\"])/len(data)\n",
    "    \n",
    "\n",
    "    return (round(status_prob * age_prob * site_prob * sex_prob,5) / round(age_prob * site_prob * sex_prob,5))"
   ]
  },
  {
   "cell_type": "markdown",
   "metadata": {},
   "source": [
    "Here we drop rows with missing values and get all of the different combinations we need for our visualizations: <br>\n",
    "Age <br>\n",
    "Sex <br>\n",
    "Site"
   ]
  },
  {
   "cell_type": "code",
   "execution_count": 5,
   "metadata": {},
   "outputs": [],
   "source": [
    "image_df =image_df.dropna()\n",
    "\n",
    "ages = list(set(image_df[\"Age\"]))\n",
    "sexes = list(set(image_df[\"Sex\"]))\n",
    "sites = list(set(image_df[\"Site\"]))"
   ]
  },
  {
   "cell_type": "markdown",
   "metadata": {},
   "source": [
    "Some of the sites are wrong, and ages are out of order so we need to do some preprocessing on the data. (Depending on the data, this step may  not be necessary so we use a few try statements)"
   ]
  },
  {
   "cell_type": "code",
   "execution_count": 6,
   "metadata": {},
   "outputs": [
    {
     "name": "stdout",
     "output_type": "stream",
     "text": [
      "Fixed sites\n",
      "Fixed sites\n"
     ]
    }
   ],
   "source": [
    "try:\n",
    "    ages.pop(ages.index(None))\n",
    "    print(\"fixed ages\")\n",
    "except ValueError:\n",
    "    ages = ages\n",
    "try:\n",
    "    sites.pop(sites.index('malignant'))\n",
    "    print(\"Fixed sites\")\n",
    "except ValueError:\n",
    "    sites = sites\n",
    "try:\n",
    "    sites.pop(sites.index('benign'))\n",
    "    print(\"Fixed sites\")\n",
    "except ValueError:\n",
    "    sites = sites\n",
    "\n",
    "ages = sorted(ages)"
   ]
  },
  {
   "cell_type": "markdown",
   "metadata": {},
   "source": [
    "Next we need to find the probability of a having a malignant lesion given a patient's age, sex, and lesion location <br>\n",
    "Then we need to separate all of the patients into two groups: female & male"
   ]
  },
  {
   "cell_type": "code",
   "execution_count": 7,
   "metadata": {},
   "outputs": [],
   "source": [
    "female_data = pd.DataFrame(columns=[\"Age\", \"Site\", \"Risk\"])\n",
    "male_data   = pd.DataFrame(columns=[\"Age\", \"Site\", \"Risk\"])\n",
    "for sex in sexes:\n",
    "    i = 0\n",
    "    for age in ages:\n",
    "        for site in sites:\n",
    "            if sex == \"female\":\n",
    "                try:\n",
    "                    female_data.loc[i] = [age, site, round(get_probability(image_df, age, sex, site),5)]\n",
    "                    \n",
    "                except ZeroDivisionError:\n",
    "                    female_data.loc[i] = [age, site, 0]\n",
    "                i += 1\n",
    "            else:\n",
    "                try:\n",
    "                    male_data.loc[i] = [age, site, round(get_probability(image_df, age, sex, site),5)]\n",
    "                except ZeroDivisionError:\n",
    "                    male_data.loc[i] = [age, site, 0]\n",
    "                i += 1"
   ]
  },
  {
   "cell_type": "markdown",
   "metadata": {},
   "source": [
    "# Visualization <a id='viz_cell'></a>"
   ]
  },
  {
   "cell_type": "markdown",
   "metadata": {},
   "source": [
    "### Risk of having a malignant lesion for females"
   ]
  },
  {
   "cell_type": "code",
   "execution_count": 8,
   "metadata": {},
   "outputs": [
    {
     "data": {
      "image/png": "[encoded data removed]",
      "text/plain": [
       "<Figure size 1008x720 with 1 Axes>"
      ]
     },
     "metadata": {
      "needs_background": "light"
     },
     "output_type": "display_data"
    }
   ],
   "source": [
    "%matplotlib inline\n",
    "fig = plt.figure(figsize=(14,10))\n",
    "plt.ylim(0, .5)\n",
    "plt.title(\"Female Risk\")\n",
    "sns.barplot(x=\"Age\", y=\"Risk\", hue=\"Site\", data=female_data, palette=\"plasma\")\n",
    "plt.savefig(\"../intermediate_Q2_female.png\")\n",
    "plt.show()"
   ]
  },
  {
   "cell_type": "markdown",
   "metadata": {},
   "source": [
    "### Risk of having a malignant lesion for males"
   ]
  },
  {
   "cell_type": "code",
   "execution_count": 9,
   "metadata": {},
   "outputs": [
    {
     "data": {
      "image/png": "[encoded data removed]",
      "text/plain": [
       "<Figure size 1008x720 with 1 Axes>"
      ]
     },
     "metadata": {
      "needs_background": "light"
     },
     "output_type": "display_data"
    }
   ],
   "source": [
    "%matplotlib inline\n",
    "fig = plt.figure(figsize=(14,10))\n",
    "plt.ylim(0, 0.5)\n",
    "plt.title(\"Male Risk\")\n",
    "sns.barplot(x=\"Age\", y=\"Risk\", hue=\"Site\", data=male_data, palette=\"Blues_d\")\n",
    "plt.savefig(\"../intermediate_Q2_male.png\")\n",
    "plt.show()"
   ]
  },
  {
   "cell_type": "markdown",
   "metadata": {},
   "source": [
    "For the case when malignancy is dependent:\n",
    "M = Malignant,\n",
    "A = Age,\n",
    "S = Sex,\n",
    "T = Site <br>\n",
    "P(M|A,S,T) = P(M|W,T) <br>\n",
    "P(M|W,T) = P(M|Z) <br>\n",
    "P(M|Z) = P(M n Z) / P(Z) <br>\n",
    "\n",
    "P(M n Z) / P(Z) = P(M n (W n T)) / P(W n T) <br>\n",
    "P(M n W n T) / P(W n T) <br>\n",
    "P(W n T) = P(W) * P(T|W) <br>\n",
    "\n",
    "P(W) = P(A n S) <br>\n",
    "P(T|W) = P(T n W) / P(W) <br>\n",
    "P(T n W) = P(T n (A n S)) <br>"
   ]
  },
  {
   "cell_type": "markdown",
   "metadata": {},
   "source": [
    "# Discussion <a id='discuss'></a>\n",
    "What did you find? Who the person that is most at risk? What about the least?"
   ]
  },
  {
   "cell_type": "code",
   "execution_count": null,
   "metadata": {},
   "outputs": [],
   "source": []
  }
 ],
 "metadata": {
  "kernelspec": {
   "display_name": "Python 3",
   "language": "python",
   "name": "python3"
  },
  "language_info": {
   "codemirror_mode": {
    "name": "ipython",
    "version": 3
   },
   "file_extension": ".py",
   "mimetype": "text/x-python",
   "name": "python",
   "nbconvert_exporter": "python",
   "pygments_lexer": "ipython3",
   "version": "3.7.6"
  }
 },
 "nbformat": 4,
 "nbformat_minor": 4
}
