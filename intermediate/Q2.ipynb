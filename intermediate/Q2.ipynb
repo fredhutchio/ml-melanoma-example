{
 "cells": [
  {
   "cell_type": "markdown",
   "metadata": {},
   "source": [
    "# Overview\n",
    "\n",
    "This is the intermediate level version of question #2 from the novice level. Previously we focused on the different type of plots and simple counting. This notebook focuses on conditional probability by using some of the features in the descriptions files to come up with a probabilty that a patient has a malignant lesion. \n",
    "\n",
    "Question #2 \n",
    "Prediction for most at risk groups based on demographic (coming from the joint distribution)?\n",
    "\n",
    "# Table of Content\n",
    "\n",
    "1. [Setup](#setup_cell)\n",
    "2. [Data Loading](#loading)\n",
    "3. [Analysis](#analyze)\n",
    "4. [Visualization](#viz_cell)\n",
    "5. [Discussion](#discuss)\n"
   ]
  },
  {
   "cell_type": "markdown",
   "metadata": {},
   "source": [
    "# Setup <a id='setup_cell'></a>\n",
    "Import the appropriate packages"
   ]
  },
  {
   "cell_type": "code",
   "execution_count": 1,
   "metadata": {},
   "outputs": [],
   "source": [
    "import os\n",
    "from os import listdir\n",
    "import json\n",
    "import numpy as np\n",
    "import seaborn as sns \n",
    "from matplotlib import pyplot as plt\n",
    "import pandas as pd\n",
    "import glob"
   ]
  },
  {
   "cell_type": "markdown",
   "metadata": {},
   "source": [
    "# Data Loading <a id='loading'></a>\n",
    "Load the data similar to the novice level"
   ]
  },
  {
   "cell_type": "code",
   "execution_count": 2,
   "metadata": {},
   "outputs": [],
   "source": [
    "directory = os.getcwd().split(\"\\\\\")[:-2]\n",
    "new_directory = \"\"\n",
    "for component in directory:\n",
    "    new_directory += component\n",
    "    new_directory += \"\\\\\"\n",
    "\n",
    "if 'sample_imgs' in listdir(new_directory):\n",
    "    img_filepaths = glob.glob('../../sample_imgs/*.jp*')\n",
    "    seg_filepaths = glob.glob('../../sample_segs/*.png')\n",
    "    dsc_filepaths = glob.glob('../../sample_dscs/*')"
   ]
  },
  {
   "cell_type": "markdown",
   "metadata": {},
   "source": [
    "# Analysis <a id='analyze'></a>"
   ]
  },
  {
   "cell_type": "markdown",
   "metadata": {},
   "source": [
    "Here we need to identify which columns we need for our analysis, then create a dataframe from data. <br>\n",
    "Some of the columns from the description file are not going to be used (We remove the columns that we don't need, using *pandas.DataFrame.drop()*)"
   ]
  },
  {
   "cell_type": "code",
   "execution_count": 3,
   "metadata": {},
   "outputs": [],
   "source": [
    "image_df = pd.DataFrame(columns= [\"Age\", \"Site\", \"Status\", \"Diagnosis\", \"Confirm type\", \"Melanocytic\", \"Sex\"])\n",
    "for i in range(len(img_filepaths)):\n",
    "    with open(dsc_filepaths[i]) as json_file:\n",
    "        j = json.load(json_file)\n",
    "        image_df.loc[i] = list(j[\"meta\"][\"clinical\"].values())\n",
    "        \n",
    "image_df = image_df.drop(columns=[\"Melanocytic\",\"Confirm type\"])"
   ]
  },
  {
   "cell_type": "markdown",
   "metadata": {},
   "source": [
    "### Below is the only function we will need for our analysis. Given a patient's Age, Site, and Sex we find the probability of them having a malignant lesion.\n",
    "Since malignancy is independent we can use: **P(A|B)=P(A∩B)P(B)** <br>\n",
    "Where A is Malignant and B is the combined probability of age, sex, and site.\n",
    "\n",
    "P(\"Malignant\"| \"Age\", \"Site\", \"Sex\") = P(\"Malignant\" * \"Age\" * \"Site\" * \"Sex\") / P(\"Age\" * \"Site\" * \"Sex\")"
   ]
  },
  {
   "cell_type": "code",
   "execution_count": 4,
   "metadata": {},
   "outputs": [],
   "source": [
    "\n",
    "def get_probability(age, sex, site):\n",
    "    \"\"\"\n",
    "    age:  The age of a patient\n",
    "    sex:  The sex of a patient\n",
    "    site: The location where the lesion is located\n",
    "    \n",
    "    returns the probability of a lesion being malignant given\n",
    "    the above parameters\n",
    "    \"\"\"\n",
    "    \n",
    "    age_prob = len(image_df[image_df[\"Age\"] == age])/len(image_df)\n",
    "    site_prob = len(image_df[image_df[\"Site\"] == site])/len(image_df)\n",
    "    sex_prob = len(image_df[image_df[\"Sex\"] == sex])/len(image_df)\n",
    "\n",
    "    status_prob = len(image_df[image_df[\"Status\"] == \"malignant\"])/len(image_df)\n",
    "    \n",
    "\n",
    "    return (round(status_prob * age_prob * site_prob * sex_prob,5) / round(age_prob * site_prob * sex_prob,5))\n"
   ]
  },
  {
   "cell_type": "markdown",
   "metadata": {},
   "source": [
    "Here we get all of the different combinations we need for our visualizations: <br>\n",
    "Age <br>\n",
    "Sex <br>\n",
    "Site"
   ]
  },
  {
   "cell_type": "code",
   "execution_count": 5,
   "metadata": {},
   "outputs": [],
   "source": [
    "ages = set(image_df[\"Age\"])\n",
    "sexes = [\"female\", \"male\"]\n",
    "sites = set(image_df[\"Site\"])"
   ]
  },
  {
   "cell_type": "markdown",
   "metadata": {},
   "source": [
    "Next we need to find the probability of a having a malignant lesion given a patient's age, sex, and lesion location <br>\n",
    "Then we need to separate all of the patients into two groups: female & male"
   ]
  },
  {
   "cell_type": "code",
   "execution_count": 9,
   "metadata": {},
   "outputs": [],
   "source": [
    "female_data = pd.DataFrame(columns=[\"Age\", \"Site\", \"Risk\"])\n",
    "male_data   = pd.DataFrame(columns=[\"Age\", \"Site\", \"Risk\"])\n",
    "for sex in sexes:\n",
    "    i = 0\n",
    "    for age in ages:\n",
    "        for site in sites:\n",
    "            if sex == \"female\":\n",
    "                female_data.loc[i] = [age, site, round(get_probability(age, sex, site),5)]\n",
    "                i += 1\n",
    "            else:\n",
    "                male_data.loc[i] = [age, site, round(get_probability(age, sex, site),5)]\n",
    "                i += 1"
   ]
  },
  {
   "cell_type": "markdown",
   "metadata": {},
   "source": [
    "# Visualization <a id='viz_cell'></a>"
   ]
  },
  {
   "cell_type": "markdown",
   "metadata": {},
   "source": [
    "### Risk of having a malignant lesion for females"
   ]
  },
  {
   "cell_type": "code",
   "execution_count": 7,
   "metadata": {},
   "outputs": [
    {
     "data": {
      "text/plain": [
       "<matplotlib.axes._subplots.AxesSubplot at 0x20165468448>"
      ]
     },
     "execution_count": 7,
     "metadata": {},
     "output_type": "execute_result"
    },
    {
     "data": {
      "image/png": "[encoded data removed]",
      "text/plain": [
       "<Figure size 1008x720 with 1 Axes>"
      ]
     },
     "metadata": {
      "needs_background": "light"
     },
     "output_type": "display_data"
    }
   ],
   "source": [
    "fig = plt.figure(figsize=(14,10))\n",
    "plt.ylim(0, 1)\n",
    "plt.title(\"Female Risk\")\n",
    "sns.barplot(x=\"Age\", y=\"Risk\", hue=\"Site\", data=female_data, palette=\"plasma\")"
   ]
  },
  {
   "cell_type": "markdown",
   "metadata": {},
   "source": [
    "### Risk of having a malignant lesion for males"
   ]
  },
  {
   "cell_type": "code",
   "execution_count": 8,
   "metadata": {},
   "outputs": [
    {
     "data": {
      "text/plain": [
       "<matplotlib.axes._subplots.AxesSubplot at 0x20166fd8408>"
      ]
     },
     "execution_count": 8,
     "metadata": {},
     "output_type": "execute_result"
    },
    {
     "data": {
      "image/png": "[encoded data removed]",
      "text/plain": [
       "<Figure size 1008x720 with 1 Axes>"
      ]
     },
     "metadata": {
      "needs_background": "light"
     },
     "output_type": "display_data"
    }
   ],
   "source": [
    "fig = plt.figure(figsize=(14,10))\n",
    "plt.ylim(0, 1)\n",
    "plt.title(\"Male Risk\")\n",
    "sns.barplot(x=\"Age\", y=\"Risk\", hue=\"Site\", data=male_data, palette=\"Blues_d\")"
   ]
  },
  {
   "cell_type": "markdown",
   "metadata": {},
   "source": [
    "For the case when malignancy is dependent:\n",
    "**M** = Malignant,\n",
    "**A** = Age,\n",
    "**S** = Sex,\n",
    "**T** = Site <br>\n",
    "P(M|A,S,T) = P(M|W,T) <br>\n",
    "P(M|W,T) = P(M|Z) <br>\n",
    "P(M|Z) = P(M n Z) / P(Z) <br>\n",
    "\n",
    "P(M n Z) / P(Z) = P(M n (W n T)) / P(W n T) <br>\n",
    "P(M n W n T) / P(W n T) <br>\n",
    "P(W n T) = P(W) * P(T|W) <br>\n",
    "\n",
    "P(W) = P(A n S) <br>\n",
    "P(T|W) = P(T n W) / P(W) <br>\n",
    "P(T n W) = P(T n (A n S)) <br>"
   ]
  },
  {
   "cell_type": "markdown",
   "metadata": {},
   "source": [
    "# Discussion <a id='discuss'></a>\n",
    "What did you find? Who the person that is most at risk? What about the least?"
   ]
  },
  {
   "cell_type": "code",
   "execution_count": null,
   "metadata": {},
   "outputs": [],
   "source": []
  }
 ],
 "metadata": {
  "kernelspec": {
   "display_name": "Python 3",
   "language": "python",
   "name": "python3"
  },
  "language_info": {
   "codemirror_mode": {
    "name": "ipython",
    "version": 3
   },
   "file_extension": ".py",
   "mimetype": "text/x-python",
   "name": "python",
   "nbconvert_exporter": "python",
   "pygments_lexer": "ipython3",
   "version": "3.7.6"
  }
 },
 "nbformat": 4,
 "nbformat_minor": 4
}
